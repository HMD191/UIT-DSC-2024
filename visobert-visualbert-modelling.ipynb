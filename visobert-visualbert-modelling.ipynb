{
 "cells": [
  {
   "cell_type": "markdown",
   "id": "96fd7ba3",
   "metadata": {
    "papermill": {
     "duration": 0.015329,
     "end_time": "2024-11-07T10:21:25.725583",
     "exception": false,
     "start_time": "2024-11-07T10:21:25.710254",
     "status": "completed"
    },
    "tags": []
   },
   "source": [
    "# 1. Import Libraries and Load Dataset"
   ]
  },
  {
   "cell_type": "code",
   "execution_count": 1,
   "id": "548d3fc7",
   "metadata": {
    "execution": {
     "iopub.execute_input": "2024-11-07T10:21:25.756351Z",
     "iopub.status.busy": "2024-11-07T10:21:25.756034Z",
     "iopub.status.idle": "2024-11-07T10:21:38.824082Z",
     "shell.execute_reply": "2024-11-07T10:21:38.822671Z"
    },
    "papermill": {
     "duration": 13.086139,
     "end_time": "2024-11-07T10:21:38.826615",
     "exception": false,
     "start_time": "2024-11-07T10:21:25.740476",
     "status": "completed"
    },
    "tags": []
   },
   "outputs": [],
   "source": [
    "%%capture\n",
    "!pip install gdown"
   ]
  },
  {
   "cell_type": "code",
   "execution_count": 2,
   "id": "e38639d5",
   "metadata": {
    "execution": {
     "iopub.execute_input": "2024-11-07T10:21:38.868677Z",
     "iopub.status.busy": "2024-11-07T10:21:38.868323Z",
     "iopub.status.idle": "2024-11-07T10:21:39.314780Z",
     "shell.execute_reply": "2024-11-07T10:21:39.313767Z"
    },
    "papermill": {
     "duration": 0.472018,
     "end_time": "2024-11-07T10:21:39.317714",
     "exception": false,
     "start_time": "2024-11-07T10:21:38.845696",
     "status": "completed"
    },
    "tags": []
   },
   "outputs": [],
   "source": [
    "import json\n",
    "import gdown\n",
    "train_json = json.load(open('/kaggle/input/dsc24-vimmsd/vimmsd-train.json', encoding='utf-8'))\n",
    "dev_json = json.load(open('/kaggle/input/dsc24-vimmsd/vimmsd-public-test.json', encoding='utf-8'))"
   ]
  },
  {
   "cell_type": "code",
   "execution_count": 3,
   "id": "b56f0fa6",
   "metadata": {
    "execution": {
     "iopub.execute_input": "2024-11-07T10:21:39.362771Z",
     "iopub.status.busy": "2024-11-07T10:21:39.362184Z",
     "iopub.status.idle": "2024-11-07T10:21:42.717264Z",
     "shell.execute_reply": "2024-11-07T10:21:42.716485Z"
    },
    "papermill": {
     "duration": 3.379877,
     "end_time": "2024-11-07T10:21:42.719604",
     "exception": false,
     "start_time": "2024-11-07T10:21:39.339727",
     "status": "completed"
    },
    "tags": []
   },
   "outputs": [],
   "source": [
    "import torch\n",
    "from torch.nn.functional import normalize\n",
    "from tqdm.notebook import tqdm"
   ]
  },
  {
   "cell_type": "code",
   "execution_count": 4,
   "id": "069b11c9",
   "metadata": {
    "execution": {
     "iopub.execute_input": "2024-11-07T10:21:42.751975Z",
     "iopub.status.busy": "2024-11-07T10:21:42.751095Z",
     "iopub.status.idle": "2024-11-07T10:22:19.236562Z",
     "shell.execute_reply": "2024-11-07T10:22:19.235159Z"
    },
    "papermill": {
     "duration": 36.524822,
     "end_time": "2024-11-07T10:22:19.259742",
     "exception": false,
     "start_time": "2024-11-07T10:21:42.734920",
     "status": "completed"
    },
    "tags": []
   },
   "outputs": [
    {
     "data": {
      "text/plain": [
       "12218"
      ]
     },
     "execution_count": 4,
     "metadata": {},
     "output_type": "execute_result"
    }
   ],
   "source": [
    "\n",
    "visual_embeds = torch.load('/kaggle/input/dsc-visual-embeddings/visual_embeds.pt')\n",
    "# img_w = torch.load('/kaggle/input/lovecat-beitv2-b-p/beitv2-b-p.pt') # already-saved features\n",
    "len(visual_embeds)"
   ]
  },
  {
   "cell_type": "code",
   "execution_count": 5,
   "id": "faaa9824",
   "metadata": {
    "execution": {
     "iopub.execute_input": "2024-11-07T10:22:19.291257Z",
     "iopub.status.busy": "2024-11-07T10:22:19.290904Z",
     "iopub.status.idle": "2024-11-07T10:22:19.296854Z",
     "shell.execute_reply": "2024-11-07T10:22:19.295990Z"
    },
    "papermill": {
     "duration": 0.0237,
     "end_time": "2024-11-07T10:22:19.298680",
     "exception": false,
     "start_time": "2024-11-07T10:22:19.274980",
     "status": "completed"
    },
    "tags": []
   },
   "outputs": [
    {
     "data": {
      "text/plain": [
       "torch.Size([100, 1024])"
      ]
     },
     "execution_count": 5,
     "metadata": {},
     "output_type": "execute_result"
    }
   ],
   "source": [
    "visual_embeds['ac7931bb887ad853b41675f07595bf04469970d1b099ffc8806a4ceaac7d7940.jpg'].shape"
   ]
  },
  {
   "cell_type": "markdown",
   "id": "b7dcbe6f",
   "metadata": {
    "papermill": {
     "duration": 0.014833,
     "end_time": "2024-11-07T10:22:19.328491",
     "exception": false,
     "start_time": "2024-11-07T10:22:19.313658",
     "status": "completed"
    },
    "tags": []
   },
   "source": [
    "# Config"
   ]
  },
  {
   "cell_type": "code",
   "execution_count": 6,
   "id": "1b8ac336",
   "metadata": {
    "execution": {
     "iopub.execute_input": "2024-11-07T10:22:19.360760Z",
     "iopub.status.busy": "2024-11-07T10:22:19.359988Z",
     "iopub.status.idle": "2024-11-07T10:22:31.876193Z",
     "shell.execute_reply": "2024-11-07T10:22:31.875392Z"
    },
    "papermill": {
     "duration": 12.534923,
     "end_time": "2024-11-07T10:22:31.878640",
     "exception": false,
     "start_time": "2024-11-07T10:22:19.343717",
     "status": "completed"
    },
    "tags": []
   },
   "outputs": [
    {
     "name": "stderr",
     "output_type": "stream",
     "text": [
      "/opt/conda/lib/python3.10/site-packages/scipy/__init__.py:146: UserWarning: A NumPy version >=1.16.5 and <1.23.0 is required for this version of SciPy (detected version 1.23.5\n",
      "  warnings.warn(f\"A NumPy version >={np_minversion} and <{np_maxversion}\"\n"
     ]
    }
   ],
   "source": [
    "import numpy as np\n",
    "import pandas as pd\n",
    "\n",
    "import torch\n",
    "import torch.nn as nn\n",
    "from torch.utils.data import Dataset, DataLoader\n",
    "\n",
    "import pytorch_lightning as pl\n",
    "from pytorch_lightning.callbacks import ModelCheckpoint, EarlyStopping\n",
    "from pytorch_lightning.loggers import TensorBoardLogger\n",
    "\n",
    "from transformers import BertTokenizer, AdamW, get_linear_schedule_with_warmup\n",
    "from transformers import VisualBertModel, VisualBertConfig\n",
    "\n",
    "from sklearn.model_selection import train_test_split\n",
    "from sklearn.metrics import f1_score, accuracy_score"
   ]
  },
  {
   "cell_type": "code",
   "execution_count": 7,
   "id": "e581d2e1",
   "metadata": {
    "execution": {
     "iopub.execute_input": "2024-11-07T10:22:31.911906Z",
     "iopub.status.busy": "2024-11-07T10:22:31.911342Z",
     "iopub.status.idle": "2024-11-07T10:22:31.918937Z",
     "shell.execute_reply": "2024-11-07T10:22:31.918054Z"
    },
    "papermill": {
     "duration": 0.02582,
     "end_time": "2024-11-07T10:22:31.920954",
     "exception": false,
     "start_time": "2024-11-07T10:22:31.895134",
     "status": "completed"
    },
    "tags": []
   },
   "outputs": [],
   "source": [
    "class Config:\n",
    "   def __init__(self, random_seed = 42, max_len = 400, n_epochs = 3, batch_size = 8, lrate=2.5e-5,\n",
    "                n_warmup_steps=400, warmup_ratio=0.05,\n",
    "                visual_embedding_dim=1024, visual_model_name = 'uclanlp/visualbert-vqa-pre',\n",
    "                classes = ['not-sarcasm', 'text-sarcasm', 'image-sarcasm', 'multi-sarcasm']):\n",
    "       self.random_seed = random_seed\n",
    "       self.max_len = max_len\n",
    "       self.n_classes = len(classes)\n",
    "       self.classes = classes\n",
    "       self.n_epochs = n_epochs\n",
    "       self.batch_size = batch_size\n",
    "       self.device = torch.device('cuda' if torch.cuda.is_available() else 'cpu')\n",
    "       self.n_warmup_steps = n_warmup_steps\n",
    "       self.warmup_ratio = warmup_ratio\n",
    "       self.visual_embedding_dim = visual_embedding_dim\n",
    "       self.visual_model_name = visual_model_name\n",
    "       self.n_training_steps = n_epochs * 9724 // batch_size\n",
    "       self.lrate = lrate"
   ]
  },
  {
   "cell_type": "code",
   "execution_count": 8,
   "id": "d5c492e7",
   "metadata": {
    "execution": {
     "iopub.execute_input": "2024-11-07T10:22:31.952721Z",
     "iopub.status.busy": "2024-11-07T10:22:31.952008Z",
     "iopub.status.idle": "2024-11-07T10:22:31.975719Z",
     "shell.execute_reply": "2024-11-07T10:22:31.975067Z"
    },
    "papermill": {
     "duration": 0.041438,
     "end_time": "2024-11-07T10:22:31.977623",
     "exception": false,
     "start_time": "2024-11-07T10:22:31.936185",
     "status": "completed"
    },
    "tags": []
   },
   "outputs": [],
   "source": [
    "import random\n",
    "\n",
    "import numpy as np\n",
    "\n",
    "import torch\n",
    "\n",
    "def set_SEED():\n",
    "    SEED = 42\n",
    "    random.seed(SEED)\n",
    "    np.random.seed(SEED)\n",
    "    torch.manual_seed(SEED)\n",
    "    torch.cuda.manual_seed(SEED)\n",
    "    torch.cuda.manual_seed_all(SEED)\n",
    "    torch.backends.cudnn.enabled = False\n",
    "    torch.backends.cudnn.benchmark = False\n",
    "    torch.backends.cudnn.deterministic = True\n",
    "set_SEED()"
   ]
  },
  {
   "cell_type": "code",
   "execution_count": 9,
   "id": "2808e3a6",
   "metadata": {
    "execution": {
     "iopub.execute_input": "2024-11-07T10:22:32.054309Z",
     "iopub.status.busy": "2024-11-07T10:22:32.053564Z",
     "iopub.status.idle": "2024-11-07T10:22:32.058010Z",
     "shell.execute_reply": "2024-11-07T10:22:32.057166Z"
    },
    "papermill": {
     "duration": 0.067197,
     "end_time": "2024-11-07T10:22:32.059980",
     "exception": false,
     "start_time": "2024-11-07T10:22:31.992783",
     "status": "completed"
    },
    "tags": []
   },
   "outputs": [],
   "source": [
    "device = torch.device(\"cuda:0\" if torch.cuda.is_available() else \"cpu\")"
   ]
  },
  {
   "cell_type": "markdown",
   "id": "4346bbcc",
   "metadata": {
    "papermill": {
     "duration": 0.014873,
     "end_time": "2024-11-07T10:22:32.090020",
     "exception": false,
     "start_time": "2024-11-07T10:22:32.075147",
     "status": "completed"
    },
    "tags": []
   },
   "source": [
    "# Dataset"
   ]
  },
  {
   "cell_type": "code",
   "execution_count": 10,
   "id": "bb495f2f",
   "metadata": {
    "execution": {
     "iopub.execute_input": "2024-11-07T10:22:32.121741Z",
     "iopub.status.busy": "2024-11-07T10:22:32.121063Z",
     "iopub.status.idle": "2024-11-07T10:22:32.132702Z",
     "shell.execute_reply": "2024-11-07T10:22:32.131888Z"
    },
    "papermill": {
     "duration": 0.02957,
     "end_time": "2024-11-07T10:22:32.134633",
     "exception": false,
     "start_time": "2024-11-07T10:22:32.105063",
     "status": "completed"
    },
    "tags": []
   },
   "outputs": [],
   "source": [
    "class MemesDataset(Dataset):\n",
    "    '''Wrap the tokenization process in a PyTorch Dataset, along with converting the labels to tensors'''\n",
    "    def __init__(self, data: pd.DataFrame, tokenizer: BertTokenizer, config: Config, visual_embeds):\n",
    "        self.tokenizer = tokenizer\n",
    "        self.data = data\n",
    "        self.max_len = config.max_len\n",
    "        self.visual_embeds = visual_embeds\n",
    "        self.classes = config.classes\n",
    "\n",
    "        # One-hot encode the labels\n",
    "        for class_name in self.classes:\n",
    "            self.data[class_name] = self.data['label'].apply(lambda x: 1 if x == class_name else 0)\n",
    "        self.data[self.classes] = self.data[self.classes].astype('int8')\n",
    "        print(self.data[self.classes].head())\n",
    "    \n",
    "    def __len__(self):\n",
    "        return len(self.data)\n",
    "\n",
    "    def __getitem__(self, index):\n",
    "\n",
    "        data_row = self.data.iloc[index]\n",
    "        text = data_row.caption\n",
    "        labels = data_row[self.classes].values.astype(int)\n",
    "        image_id = data_row['image_id']\n",
    "\n",
    "        tokens = self.tokenizer.encode_plus(\n",
    "            text,\n",
    "            add_special_tokens=True,\n",
    "            max_length=self.max_len,\n",
    "            return_token_type_ids=False,\n",
    "            padding=\"max_length\",\n",
    "            truncation=True,\n",
    "            return_attention_mask=True,\n",
    "            return_tensors='pt',\n",
    "        )\n",
    "\n",
    "        input_ids = tokens[\"input_ids\"].flatten()\n",
    "        attention_mask = tokens[\"attention_mask\"].flatten()\n",
    "\n",
    "        visual_embedding = self.visual_embeds[image_id].to('cpu')\n",
    "        visual_attention_mask = torch.ones(visual_embedding.shape[:-1], dtype=torch.float)\n",
    "        visual_token_type_ids = torch.ones(visual_embedding.shape[:-1], dtype=torch.long)\n",
    "\n",
    "        return dict(\n",
    "            input_ids=input_ids,\n",
    "            attention_mask=attention_mask,\n",
    "            visual_embedding=visual_embedding,\n",
    "            visual_attention_mask=visual_attention_mask,\n",
    "            visual_token_type_ids=visual_token_type_ids,\n",
    "            labels=torch.tensor(labels, dtype=torch.long)\n",
    "        )"
   ]
  },
  {
   "cell_type": "markdown",
   "id": "1abace78",
   "metadata": {
    "papermill": {
     "duration": 0.014953,
     "end_time": "2024-11-07T10:22:32.164730",
     "exception": false,
     "start_time": "2024-11-07T10:22:32.149777",
     "status": "completed"
    },
    "tags": []
   },
   "source": [
    "## Prepare datasets"
   ]
  },
  {
   "cell_type": "code",
   "execution_count": 11,
   "id": "a5d300a1",
   "metadata": {
    "execution": {
     "iopub.execute_input": "2024-11-07T10:22:32.195938Z",
     "iopub.status.busy": "2024-11-07T10:22:32.195670Z",
     "iopub.status.idle": "2024-11-07T10:22:32.215639Z",
     "shell.execute_reply": "2024-11-07T10:22:32.214883Z"
    },
    "papermill": {
     "duration": 0.038006,
     "end_time": "2024-11-07T10:22:32.217658",
     "exception": false,
     "start_time": "2024-11-07T10:22:32.179652",
     "status": "completed"
    },
    "tags": []
   },
   "outputs": [],
   "source": [
    "emoji_file_path = '/kaggle/input/datasets-preprocesing/emoji_to_vietnamese.json'\n",
    "stopword_path = '/kaggle/input/datasets-preprocesing/vietnamese-stopwords.txt'\n",
    "\n",
    "def load_resources(stopword_path, emoji_file_path):\n",
    "    # Đọc stopword từ file txt\n",
    "    with open(stopword_path, 'r', encoding='utf-8') as f:\n",
    "        stopwords = set(f.read().splitlines())\n",
    "\n",
    "    # Đọc emoji từ file JSON\n",
    "    with open(emoji_file_path, 'r', encoding='utf-8') as emoji_file:\n",
    "        emoji_dict = json.load(emoji_file)\n",
    "\n",
    "    return stopwords, emoji_dict\n",
    "\n",
    "stopwords, emoji_dict = load_resources(stopword_path, emoji_file_path)"
   ]
  },
  {
   "cell_type": "code",
   "execution_count": 12,
   "id": "52e2aaf9",
   "metadata": {
    "execution": {
     "iopub.execute_input": "2024-11-07T10:22:32.249024Z",
     "iopub.status.busy": "2024-11-07T10:22:32.248773Z",
     "iopub.status.idle": "2024-11-07T10:22:32.711468Z",
     "shell.execute_reply": "2024-11-07T10:22:32.710680Z"
    },
    "papermill": {
     "duration": 0.481014,
     "end_time": "2024-11-07T10:22:32.713765",
     "exception": false,
     "start_time": "2024-11-07T10:22:32.232751",
     "status": "completed"
    },
    "tags": []
   },
   "outputs": [],
   "source": [
    "import pandas as pd\n",
    "\n",
    "train_df = pd.DataFrame(train_json).T\n",
    "test_df = pd.DataFrame(dev_json).T # public test"
   ]
  },
  {
   "cell_type": "code",
   "execution_count": 13,
   "id": "010671a6",
   "metadata": {
    "execution": {
     "iopub.execute_input": "2024-11-07T10:22:32.746571Z",
     "iopub.status.busy": "2024-11-07T10:22:32.746255Z",
     "iopub.status.idle": "2024-11-07T10:22:32.780264Z",
     "shell.execute_reply": "2024-11-07T10:22:32.779298Z"
    },
    "papermill": {
     "duration": 0.052246,
     "end_time": "2024-11-07T10:22:32.782278",
     "exception": false,
     "start_time": "2024-11-07T10:22:32.730032",
     "status": "completed"
    },
    "tags": []
   },
   "outputs": [
    {
     "data": {
      "text/html": [
       "<div>\n",
       "<style scoped>\n",
       "    .dataframe tbody tr th:only-of-type {\n",
       "        vertical-align: middle;\n",
       "    }\n",
       "\n",
       "    .dataframe tbody tr th {\n",
       "        vertical-align: top;\n",
       "    }\n",
       "\n",
       "    .dataframe thead th {\n",
       "        text-align: right;\n",
       "    }\n",
       "</style>\n",
       "<table border=\"1\" class=\"dataframe\">\n",
       "  <thead>\n",
       "    <tr style=\"text-align: right;\">\n",
       "      <th></th>\n",
       "      <th>caption</th>\n",
       "      <th>label</th>\n",
       "      <th>image_id</th>\n",
       "    </tr>\n",
       "  </thead>\n",
       "  <tbody>\n",
       "    <tr>\n",
       "      <th>0</th>\n",
       "      <td>Cô ấy trên mạng vs cô ấy ngoài đời =)))</td>\n",
       "      <td>multi-sarcasm</td>\n",
       "      <td>8ae451edcd8ebf697f8763ece249115813149c55733bf8...</td>\n",
       "    </tr>\n",
       "    <tr>\n",
       "      <th>1</th>\n",
       "      <td>Người tâm linh giao tiếp với người thực tế :)))</td>\n",
       "      <td>not-sarcasm</td>\n",
       "      <td>35370ffd6c791d6f8c4ab3dd4363ed468fab41e4824ee9...</td>\n",
       "    </tr>\n",
       "    <tr>\n",
       "      <th>2</th>\n",
       "      <td>Hình như Trăng hôm nay đẹp quá mọi người ạ! 😃 ...</td>\n",
       "      <td>multi-sarcasm</td>\n",
       "      <td>316fdd1477725b9fb1a55015ac06b68b92b50bd4303e08...</td>\n",
       "    </tr>\n",
       "    <tr>\n",
       "      <th>3</th>\n",
       "      <td>MỌI NGƯỜI NGHĨ SAO VỀ PHÁT BIỂU CỦA SHARK VIỆT...</td>\n",
       "      <td>not-sarcasm</td>\n",
       "      <td>8a0f34e0e30e4e5cfb306933c1d25fa801a5da78646b59...</td>\n",
       "    </tr>\n",
       "    <tr>\n",
       "      <th>4</th>\n",
       "      <td>2 tay hai nàng chứ việc gì phải lệ hai hàng</td>\n",
       "      <td>multi-sarcasm</td>\n",
       "      <td>e517a5e95d1065886a7c815e82fe254381d4f9f4b244d4...</td>\n",
       "    </tr>\n",
       "  </tbody>\n",
       "</table>\n",
       "</div>"
      ],
      "text/plain": [
       "                                             caption          label  \\\n",
       "0            Cô ấy trên mạng vs cô ấy ngoài đời =)))  multi-sarcasm   \n",
       "1    Người tâm linh giao tiếp với người thực tế :)))    not-sarcasm   \n",
       "2  Hình như Trăng hôm nay đẹp quá mọi người ạ! 😃 ...  multi-sarcasm   \n",
       "3  MỌI NGƯỜI NGHĨ SAO VỀ PHÁT BIỂU CỦA SHARK VIỆT...    not-sarcasm   \n",
       "4        2 tay hai nàng chứ việc gì phải lệ hai hàng  multi-sarcasm   \n",
       "\n",
       "                                            image_id  \n",
       "0  8ae451edcd8ebf697f8763ece249115813149c55733bf8...  \n",
       "1  35370ffd6c791d6f8c4ab3dd4363ed468fab41e4824ee9...  \n",
       "2  316fdd1477725b9fb1a55015ac06b68b92b50bd4303e08...  \n",
       "3  8a0f34e0e30e4e5cfb306933c1d25fa801a5da78646b59...  \n",
       "4  e517a5e95d1065886a7c815e82fe254381d4f9f4b244d4...  "
      ]
     },
     "execution_count": 13,
     "metadata": {},
     "output_type": "execute_result"
    }
   ],
   "source": [
    "train_df['image_id'] = train_df['image'].astype(str)\n",
    "test_df['image_id'] = test_df['image'].astype(str)\n",
    "\n",
    "train_df['caption'] = train_df['caption'].astype(str)\n",
    "test_df['caption'] = test_df['caption'].astype(str)\n",
    "\n",
    "train_df['label'] = train_df['label'].astype(str)\n",
    "test_df['label'] = test_df['label'].astype(str)\n",
    "\n",
    "train_df.drop(columns=['image'], inplace=True)\n",
    "test_df.drop(columns=['image'], inplace=True)\n",
    "\n",
    "train_df.head()"
   ]
  },
  {
   "cell_type": "markdown",
   "id": "5cb379f7",
   "metadata": {
    "papermill": {
     "duration": 0.015289,
     "end_time": "2024-11-07T10:22:32.813461",
     "exception": false,
     "start_time": "2024-11-07T10:22:32.798172",
     "status": "completed"
    },
    "tags": []
   },
   "source": [
    "### Features enrichment"
   ]
  },
  {
   "cell_type": "code",
   "execution_count": 14,
   "id": "5e64e9b9",
   "metadata": {
    "execution": {
     "iopub.execute_input": "2024-11-07T10:22:32.845770Z",
     "iopub.status.busy": "2024-11-07T10:22:32.845455Z",
     "iopub.status.idle": "2024-11-07T10:22:48.372765Z",
     "shell.execute_reply": "2024-11-07T10:22:48.371637Z"
    },
    "papermill": {
     "duration": 15.546041,
     "end_time": "2024-11-07T10:22:48.374987",
     "exception": false,
     "start_time": "2024-11-07T10:22:32.828946",
     "status": "completed"
    },
    "tags": []
   },
   "outputs": [
    {
     "name": "stdout",
     "output_type": "stream",
     "text": [
      "Downloading...\r\n",
      "From: https://drive.google.com/uc?id=1q7_-PEQQ6IR3Ortz45vEiSiOnweRJ40H\r\n",
      "To: /kaggle/working/vi_train_captions.json\r\n",
      "100%|███████████████████████████████████████| 11.3M/11.3M [00:00<00:00, 166MB/s]\r\n",
      "Downloading...\r\n",
      "From: https://drive.google.com/uc?id=1wldmw8IJgX-nK2_yfo8fLx55KfWGIZhp\r\n",
      "To: /kaggle/working/vi_dev_captions.json\r\n",
      "100%|███████████████████████████████████████| 1.14M/1.14M [00:00<00:00, 126MB/s]\r\n"
     ]
    }
   ],
   "source": [
    "!gdown 1q7_-PEQQ6IR3Ortz45vEiSiOnweRJ40H # cap train\n",
    "!gdown 1wldmw8IJgX-nK2_yfo8fLx55KfWGIZhp # cap dev "
   ]
  },
  {
   "cell_type": "code",
   "execution_count": 15,
   "id": "d2bff7d0",
   "metadata": {
    "execution": {
     "iopub.execute_input": "2024-11-07T10:22:48.409078Z",
     "iopub.status.busy": "2024-11-07T10:22:48.408775Z",
     "iopub.status.idle": "2024-11-07T10:22:58.451482Z",
     "shell.execute_reply": "2024-11-07T10:22:58.450322Z"
    },
    "papermill": {
     "duration": 10.062515,
     "end_time": "2024-11-07T10:22:58.454076",
     "exception": false,
     "start_time": "2024-11-07T10:22:48.391561",
     "status": "completed"
    },
    "tags": []
   },
   "outputs": [
    {
     "name": "stdout",
     "output_type": "stream",
     "text": [
      "Downloading...\r\n",
      "From: https://drive.google.com/uc?id=1AnM0RUMfyGYWaiUgafufEKMjB8zo5dUt\r\n",
      "To: /kaggle/working/objects-recognition-train.json\r\n",
      "100%|███████████████████████████████████████| 2.49M/2.49M [00:00<00:00, 170MB/s]\r\n",
      "Downloading...\r\n",
      "From: https://drive.google.com/uc?id=1sk2vJutRJLCUwQ6ZKJQeYFKpvdkjUiBs\r\n",
      "To: /kaggle/working/objects-recognition-dev.json\r\n",
      "100%|█████████████████████████████████████████| 317k/317k [00:00<00:00, 103MB/s]\r\n"
     ]
    }
   ],
   "source": [
    "!gdown 1AnM0RUMfyGYWaiUgafufEKMjB8zo5dUt # object reg train\n",
    "!gdown 1sk2vJutRJLCUwQ6ZKJQeYFKpvdkjUiBs # object reg dev"
   ]
  },
  {
   "cell_type": "code",
   "execution_count": 16,
   "id": "c8bec490",
   "metadata": {
    "execution": {
     "iopub.execute_input": "2024-11-07T10:22:58.489618Z",
     "iopub.status.busy": "2024-11-07T10:22:58.489298Z",
     "iopub.status.idle": "2024-11-07T10:23:08.253760Z",
     "shell.execute_reply": "2024-11-07T10:23:08.252642Z"
    },
    "papermill": {
     "duration": 9.784364,
     "end_time": "2024-11-07T10:23:08.255983",
     "exception": false,
     "start_time": "2024-11-07T10:22:58.471619",
     "status": "completed"
    },
    "tags": []
   },
   "outputs": [
    {
     "name": "stdout",
     "output_type": "stream",
     "text": [
      "Downloading...\r\n",
      "From: https://drive.google.com/uc?id=1nh3y-lXq2CEc_rwzeTqGIU69VZA4eVEn\r\n",
      "To: /kaggle/working/ocr-results-dev.json\r\n",
      "100%|█████████████████████████████████████████| 669k/669k [00:00<00:00, 113MB/s]\r\n",
      "Downloading...\r\n",
      "From: https://drive.google.com/uc?id=1YSn-dWwprc0nhOgRUIj5aFPaW9lxKWZT\r\n",
      "To: /kaggle/working/ocr-results-train.json\r\n",
      "100%|███████████████████████████████████████| 4.06M/4.06M [00:00<00:00, 250MB/s]\r\n"
     ]
    }
   ],
   "source": [
    "!gdown 1nh3y-lXq2CEc_rwzeTqGIU69VZA4eVEn # OCR dev\n",
    "!gdown 1YSn-dWwprc0nhOgRUIj5aFPaW9lxKWZT"
   ]
  },
  {
   "cell_type": "code",
   "execution_count": 17,
   "id": "9cd7d746",
   "metadata": {
    "execution": {
     "iopub.execute_input": "2024-11-07T10:23:08.291815Z",
     "iopub.status.busy": "2024-11-07T10:23:08.291031Z",
     "iopub.status.idle": "2024-11-07T10:23:08.471673Z",
     "shell.execute_reply": "2024-11-07T10:23:08.470874Z"
    },
    "papermill": {
     "duration": 0.200523,
     "end_time": "2024-11-07T10:23:08.473915",
     "exception": false,
     "start_time": "2024-11-07T10:23:08.273392",
     "status": "completed"
    },
    "tags": []
   },
   "outputs": [],
   "source": [
    "\n",
    "# Open JSON files with utf-8 encoding to handle non-ASCII characters\n",
    "with open('/kaggle/working/vi_train_captions.json', encoding='utf-8') as f:\n",
    "    cap_train = json.load(f)\n",
    "\n",
    "with open('/kaggle/working/vi_dev_captions.json', encoding='utf-8') as f:\n",
    "    cap_test = json.load(f)\n",
    "\n",
    "with open('/kaggle/working/objects-recognition-train.json', encoding='utf-8') as f:\n",
    "    obj_train = json.load(f)\n",
    "\n",
    "with open('/kaggle/working/objects-recognition-dev.json', encoding='utf-8') as f:\n",
    "    obj_test = json.load(f)\n",
    "\n",
    "with open('/kaggle/working/ocr-results-dev.json', encoding='utf-8') as f:\n",
    "    ocr_test = json.load(f)\n",
    "\n",
    "with open('/kaggle/working/ocr-results-train.json', encoding='utf-8') as f:\n",
    "    ocr_train = json.load(f)"
   ]
  },
  {
   "cell_type": "code",
   "execution_count": 18,
   "id": "675c0d97",
   "metadata": {
    "execution": {
     "iopub.execute_input": "2024-11-07T10:23:08.508650Z",
     "iopub.status.busy": "2024-11-07T10:23:08.508334Z",
     "iopub.status.idle": "2024-11-07T10:23:08.513274Z",
     "shell.execute_reply": "2024-11-07T10:23:08.512408Z"
    },
    "papermill": {
     "duration": 0.024245,
     "end_time": "2024-11-07T10:23:08.515154",
     "exception": false,
     "start_time": "2024-11-07T10:23:08.490909",
     "status": "completed"
    },
    "tags": []
   },
   "outputs": [],
   "source": [
    "def json_to_df(json):\n",
    "    df = pd.DataFrame(json)\n",
    "    df['image_id'] = df['image'].astype(str)\n",
    "    df.drop(columns=['image'], inplace=True)\n",
    "\n",
    "    return df"
   ]
  },
  {
   "cell_type": "code",
   "execution_count": 19,
   "id": "19b04cc2",
   "metadata": {
    "execution": {
     "iopub.execute_input": "2024-11-07T10:23:08.549177Z",
     "iopub.status.busy": "2024-11-07T10:23:08.548885Z",
     "iopub.status.idle": "2024-11-07T10:23:08.565626Z",
     "shell.execute_reply": "2024-11-07T10:23:08.564836Z"
    },
    "papermill": {
     "duration": 0.035925,
     "end_time": "2024-11-07T10:23:08.567493",
     "exception": false,
     "start_time": "2024-11-07T10:23:08.531568",
     "status": "completed"
    },
    "tags": []
   },
   "outputs": [],
   "source": [
    "for item in ocr_train:\n",
    "    item[\"OCR\"] = \", \".join(item[\"OCR\"])\n",
    "for item in ocr_test:\n",
    "    item[\"OCR\"] = \", \".join(item[\"OCR\"])"
   ]
  },
  {
   "cell_type": "code",
   "execution_count": 20,
   "id": "40051d29",
   "metadata": {
    "execution": {
     "iopub.execute_input": "2024-11-07T10:23:08.601440Z",
     "iopub.status.busy": "2024-11-07T10:23:08.601077Z",
     "iopub.status.idle": "2024-11-07T10:23:08.646706Z",
     "shell.execute_reply": "2024-11-07T10:23:08.646014Z"
    },
    "papermill": {
     "duration": 0.065023,
     "end_time": "2024-11-07T10:23:08.648685",
     "exception": false,
     "start_time": "2024-11-07T10:23:08.583662",
     "status": "completed"
    },
    "tags": []
   },
   "outputs": [],
   "source": [
    "cap_test_df = json_to_df(cap_test)\n",
    "\n",
    "cap_train_df = json_to_df(cap_train)\n",
    "\n",
    "obj_train_df = json_to_df(obj_train)\n",
    "\n",
    "obj_test_df = json_to_df(obj_test)\n",
    "\n",
    "ocr_train_df = json_to_df(ocr_train)\n",
    "\n",
    "ocr_test_df = json_to_df(ocr_test)"
   ]
  },
  {
   "cell_type": "code",
   "execution_count": 21,
   "id": "1548cf1c",
   "metadata": {
    "execution": {
     "iopub.execute_input": "2024-11-07T10:23:08.682745Z",
     "iopub.status.busy": "2024-11-07T10:23:08.682061Z",
     "iopub.status.idle": "2024-11-07T10:23:08.702403Z",
     "shell.execute_reply": "2024-11-07T10:23:08.701580Z"
    },
    "papermill": {
     "duration": 0.03939,
     "end_time": "2024-11-07T10:23:08.704425",
     "exception": false,
     "start_time": "2024-11-07T10:23:08.665035",
     "status": "completed"
    },
    "tags": []
   },
   "outputs": [
    {
     "data": {
      "text/html": [
       "<div>\n",
       "<style scoped>\n",
       "    .dataframe tbody tr th:only-of-type {\n",
       "        vertical-align: middle;\n",
       "    }\n",
       "\n",
       "    .dataframe tbody tr th {\n",
       "        vertical-align: top;\n",
       "    }\n",
       "\n",
       "    .dataframe thead th {\n",
       "        text-align: right;\n",
       "    }\n",
       "</style>\n",
       "<table border=\"1\" class=\"dataframe\">\n",
       "  <thead>\n",
       "    <tr style=\"text-align: right;\">\n",
       "      <th></th>\n",
       "      <th>object_recognition</th>\n",
       "      <th>image_id</th>\n",
       "    </tr>\n",
       "  </thead>\n",
       "  <tbody>\n",
       "    <tr>\n",
       "      <th>0</th>\n",
       "      <td>Trong hình có người, đồ vật, phim hoạt hình, đ...</td>\n",
       "      <td>2d06d8c77c741d001916199346cc112847e6bcf61b3dce...</td>\n",
       "    </tr>\n",
       "    <tr>\n",
       "      <th>1</th>\n",
       "      <td>Trong hình có truyện, người, dải, phim hoạt hì...</td>\n",
       "      <td>c981f23fc77cebd06ea872ea2c0ff6ec43a9d2517366ed...</td>\n",
       "    </tr>\n",
       "    <tr>\n",
       "      <th>2</th>\n",
       "      <td>Trong hình có số, ghi, chữ.</td>\n",
       "      <td>342c9a8f91adeacde0f2c26dee3e6b86861b43e948d10b...</td>\n",
       "    </tr>\n",
       "    <tr>\n",
       "      <th>3</th>\n",
       "      <td>Trong hình có diều, người, văn bản.</td>\n",
       "      <td>2aa95c65c0a6444caff0657ed21e27fbc403af1727749a...</td>\n",
       "    </tr>\n",
       "    <tr>\n",
       "      <th>4</th>\n",
       "      <td>Trong hình có suv, xe thể, quảng cáo, xe hơi, ...</td>\n",
       "      <td>9d6ebb26087b8d6051f77ef7cbf3e9a0d750baa41b45d7...</td>\n",
       "    </tr>\n",
       "  </tbody>\n",
       "</table>\n",
       "</div>"
      ],
      "text/plain": [
       "                                  object_recognition  \\\n",
       "0  Trong hình có người, đồ vật, phim hoạt hình, đ...   \n",
       "1  Trong hình có truyện, người, dải, phim hoạt hì...   \n",
       "2                       Trong hình có số, ghi, chữ.    \n",
       "3               Trong hình có diều, người, văn bản.    \n",
       "4  Trong hình có suv, xe thể, quảng cáo, xe hơi, ...   \n",
       "\n",
       "                                            image_id  \n",
       "0  2d06d8c77c741d001916199346cc112847e6bcf61b3dce...  \n",
       "1  c981f23fc77cebd06ea872ea2c0ff6ec43a9d2517366ed...  \n",
       "2  342c9a8f91adeacde0f2c26dee3e6b86861b43e948d10b...  \n",
       "3  2aa95c65c0a6444caff0657ed21e27fbc403af1727749a...  \n",
       "4  9d6ebb26087b8d6051f77ef7cbf3e9a0d750baa41b45d7...  "
      ]
     },
     "execution_count": 21,
     "metadata": {},
     "output_type": "execute_result"
    }
   ],
   "source": [
    "obj_train_df['object_recognition'] = obj_train_df['object_recognition'].apply(lambda x: \"Trong hình có \" + x + \". \" if len(x) > 0 else \"\")\n",
    "obj_test_df['object_recognition'] = obj_test_df['object_recognition'].apply(lambda x: \"Trong hình có \" + x + \". \" if len(x) > 0 else \"\")\n",
    "obj_test_df.head()"
   ]
  },
  {
   "cell_type": "code",
   "execution_count": 22,
   "id": "7fb41c17",
   "metadata": {
    "execution": {
     "iopub.execute_input": "2024-11-07T10:23:08.738312Z",
     "iopub.status.busy": "2024-11-07T10:23:08.737881Z",
     "iopub.status.idle": "2024-11-07T10:23:08.753011Z",
     "shell.execute_reply": "2024-11-07T10:23:08.752288Z"
    },
    "papermill": {
     "duration": 0.034146,
     "end_time": "2024-11-07T10:23:08.754938",
     "exception": false,
     "start_time": "2024-11-07T10:23:08.720792",
     "status": "completed"
    },
    "tags": []
   },
   "outputs": [],
   "source": [
    "ocr_train_df['OCR'] = ocr_train_df['OCR'].apply(lambda row: \"Chữ trong hình là \" + row + \". \" if len(row) > 0 else \"\")\n",
    "ocr_test_df['OCR'] = ocr_test_df['OCR'].apply(lambda row: \"Chữ trong hình là \" + row + \". \" if len(row) > 0 else \"\")\n",
    "\n",
    "# cap_train_df['caption'] = cap_train_df['caption'].apply(lambda row: row[:150] if len(row) > 150 else row)\n",
    "# cap_test_df['caption'] = cap_test_df['caption'].apply(lambda row: row[:150] if len(row) > 150 else row)"
   ]
  },
  {
   "cell_type": "code",
   "execution_count": 23,
   "id": "36014d61",
   "metadata": {
    "execution": {
     "iopub.execute_input": "2024-11-07T10:23:08.788652Z",
     "iopub.status.busy": "2024-11-07T10:23:08.788376Z",
     "iopub.status.idle": "2024-11-07T10:23:08.793403Z",
     "shell.execute_reply": "2024-11-07T10:23:08.792654Z"
    },
    "papermill": {
     "duration": 0.023931,
     "end_time": "2024-11-07T10:23:08.795278",
     "exception": false,
     "start_time": "2024-11-07T10:23:08.771347",
     "status": "completed"
    },
    "tags": []
   },
   "outputs": [],
   "source": [
    "def enrich(df1, df2, add_field):\n",
    "    temp = df2.set_index('image_id')\n",
    "    \n",
    "    df1['caption'] = df1.apply(\n",
    "        lambda row: row['caption'] + ' ' + temp.loc[row['image_id'], add_field]\n",
    "        if row['image_id'] in temp.index else row['caption'], axis=1\n",
    "    )\n",
    "\n",
    "    return df1\n"
   ]
  },
  {
   "cell_type": "code",
   "execution_count": 24,
   "id": "a15f74f2",
   "metadata": {
    "execution": {
     "iopub.execute_input": "2024-11-07T10:23:08.829024Z",
     "iopub.status.busy": "2024-11-07T10:23:08.828781Z",
     "iopub.status.idle": "2024-11-07T10:23:23.289765Z",
     "shell.execute_reply": "2024-11-07T10:23:23.288888Z"
    },
    "papermill": {
     "duration": 14.48089,
     "end_time": "2024-11-07T10:23:23.292365",
     "exception": false,
     "start_time": "2024-11-07T10:23:08.811475",
     "status": "completed"
    },
    "tags": []
   },
   "outputs": [],
   "source": [
    "train_df['caption'] = train_df['caption'].apply(lambda x: x[:150] if len(x) > 150 else x)\n",
    "test_df['caption'] = test_df['caption'].apply(lambda x: x[:150] if len(x) > 150 else x)\n",
    "\n",
    "train_df['caption'] = train_df['caption'].apply(lambda x: \"hình ảnh kết hợp nội dung sau có thể hiện sự mỉa mai hay không? \" + x)\n",
    "test_df['caption'] = test_df['caption'].apply(lambda x: \"hình ảnh kết hợp nội dung sau có thể hiện sự mỉa mai hay không? \" + x)\n",
    "train_df = enrich(train_df, ocr_train_df, 'OCR')\n",
    "test_df = enrich(test_df, ocr_test_df, 'OCR')\n",
    "\n",
    "train_df = enrich(train_df, cap_train_df, 'caption')\n",
    "test_df = enrich(test_df, cap_test_df, 'caption')\n",
    "\n",
    "# train_df = enrich(train_df, obj_train_df, 'object_recognition')\n",
    "# test_df = enrich(test_df, obj_test_df, 'object_recognition')"
   ]
  },
  {
   "cell_type": "code",
   "execution_count": 25,
   "id": "c2852006",
   "metadata": {
    "execution": {
     "iopub.execute_input": "2024-11-07T10:23:23.327083Z",
     "iopub.status.busy": "2024-11-07T10:23:23.326775Z",
     "iopub.status.idle": "2024-11-07T10:23:23.336402Z",
     "shell.execute_reply": "2024-11-07T10:23:23.335507Z"
    },
    "papermill": {
     "duration": 0.028738,
     "end_time": "2024-11-07T10:23:23.338151",
     "exception": false,
     "start_time": "2024-11-07T10:23:23.309413",
     "status": "completed"
    },
    "tags": []
   },
   "outputs": [
    {
     "data": {
      "text/html": [
       "<div>\n",
       "<style scoped>\n",
       "    .dataframe tbody tr th:only-of-type {\n",
       "        vertical-align: middle;\n",
       "    }\n",
       "\n",
       "    .dataframe tbody tr th {\n",
       "        vertical-align: top;\n",
       "    }\n",
       "\n",
       "    .dataframe thead th {\n",
       "        text-align: right;\n",
       "    }\n",
       "</style>\n",
       "<table border=\"1\" class=\"dataframe\">\n",
       "  <thead>\n",
       "    <tr style=\"text-align: right;\">\n",
       "      <th></th>\n",
       "      <th>caption</th>\n",
       "      <th>label</th>\n",
       "      <th>image_id</th>\n",
       "    </tr>\n",
       "  </thead>\n",
       "  <tbody>\n",
       "    <tr>\n",
       "      <th>0</th>\n",
       "      <td>hình ảnh kết hợp nội dung sau có thể hiện sự m...</td>\n",
       "      <td>multi-sarcasm</td>\n",
       "      <td>8ae451edcd8ebf697f8763ece249115813149c55733bf8...</td>\n",
       "    </tr>\n",
       "    <tr>\n",
       "      <th>1</th>\n",
       "      <td>hình ảnh kết hợp nội dung sau có thể hiện sự m...</td>\n",
       "      <td>not-sarcasm</td>\n",
       "      <td>35370ffd6c791d6f8c4ab3dd4363ed468fab41e4824ee9...</td>\n",
       "    </tr>\n",
       "    <tr>\n",
       "      <th>2</th>\n",
       "      <td>hình ảnh kết hợp nội dung sau có thể hiện sự m...</td>\n",
       "      <td>multi-sarcasm</td>\n",
       "      <td>316fdd1477725b9fb1a55015ac06b68b92b50bd4303e08...</td>\n",
       "    </tr>\n",
       "    <tr>\n",
       "      <th>3</th>\n",
       "      <td>hình ảnh kết hợp nội dung sau có thể hiện sự m...</td>\n",
       "      <td>not-sarcasm</td>\n",
       "      <td>8a0f34e0e30e4e5cfb306933c1d25fa801a5da78646b59...</td>\n",
       "    </tr>\n",
       "    <tr>\n",
       "      <th>4</th>\n",
       "      <td>hình ảnh kết hợp nội dung sau có thể hiện sự m...</td>\n",
       "      <td>multi-sarcasm</td>\n",
       "      <td>e517a5e95d1065886a7c815e82fe254381d4f9f4b244d4...</td>\n",
       "    </tr>\n",
       "  </tbody>\n",
       "</table>\n",
       "</div>"
      ],
      "text/plain": [
       "                                             caption          label  \\\n",
       "0  hình ảnh kết hợp nội dung sau có thể hiện sự m...  multi-sarcasm   \n",
       "1  hình ảnh kết hợp nội dung sau có thể hiện sự m...    not-sarcasm   \n",
       "2  hình ảnh kết hợp nội dung sau có thể hiện sự m...  multi-sarcasm   \n",
       "3  hình ảnh kết hợp nội dung sau có thể hiện sự m...    not-sarcasm   \n",
       "4  hình ảnh kết hợp nội dung sau có thể hiện sự m...  multi-sarcasm   \n",
       "\n",
       "                                            image_id  \n",
       "0  8ae451edcd8ebf697f8763ece249115813149c55733bf8...  \n",
       "1  35370ffd6c791d6f8c4ab3dd4363ed468fab41e4824ee9...  \n",
       "2  316fdd1477725b9fb1a55015ac06b68b92b50bd4303e08...  \n",
       "3  8a0f34e0e30e4e5cfb306933c1d25fa801a5da78646b59...  \n",
       "4  e517a5e95d1065886a7c815e82fe254381d4f9f4b244d4...  "
      ]
     },
     "execution_count": 25,
     "metadata": {},
     "output_type": "execute_result"
    }
   ],
   "source": [
    "train_df.head()"
   ]
  },
  {
   "cell_type": "markdown",
   "id": "55e99dbe",
   "metadata": {
    "papermill": {
     "duration": 0.016635,
     "end_time": "2024-11-07T10:23:23.371927",
     "exception": false,
     "start_time": "2024-11-07T10:23:23.355292",
     "status": "completed"
    },
    "tags": []
   },
   "source": [
    "### Text preprocessing"
   ]
  },
  {
   "cell_type": "code",
   "execution_count": 26,
   "id": "038d457b",
   "metadata": {
    "execution": {
     "iopub.execute_input": "2024-11-07T10:23:23.406254Z",
     "iopub.status.busy": "2024-11-07T10:23:23.405913Z",
     "iopub.status.idle": "2024-11-07T10:23:23.414325Z",
     "shell.execute_reply": "2024-11-07T10:23:23.413441Z"
    },
    "papermill": {
     "duration": 0.027787,
     "end_time": "2024-11-07T10:23:23.416262",
     "exception": false,
     "start_time": "2024-11-07T10:23:23.388475",
     "status": "completed"
    },
    "tags": []
   },
   "outputs": [],
   "source": [
    "import re\n",
    "def preprocess_text(text):\n",
    "    def remove_stopwords(text):\n",
    "        return text\n",
    "    def replace_emojis(text):\n",
    "        for emoji, description in emoji_dict.get('emoji', {}).items():\n",
    "            text = text.replace(emoji, description)  # Thay thế emoji bằng mô tả\n",
    "        return text\n",
    "\n",
    "    def replace_emoticons(text):\n",
    "        for emoticon, meaning in emoji_dict.get('biểu_tượng', {}).items():\n",
    "            emoticon_pattern = re.escape(emoticon) + r\"{1,}\"\n",
    "            text = re.sub(emoticon_pattern, meaning, text)\n",
    "        return text\n",
    "\n",
    "    def normalize_text(text):\n",
    "        text = text.lower()  # Chuyển thành chữ thường\n",
    "        text = re.sub(r'(?<=\\w)[\\/\\.\\-\\_,\\\\](?=\\w)', '', text)  # Loại bỏ dấu chấm hoặc gạch nối trong từ\n",
    "        return text\n",
    "\n",
    "    text = replace_emojis(text)       # Thay thế emoji\n",
    "    text = replace_emoticons(text)    # Thay thế biểu cảm\n",
    "    text = normalize_text(text)       # Chuẩn hóa văn bản\n",
    "    text = remove_stopwords(text)\n",
    "    return text"
   ]
  },
  {
   "cell_type": "code",
   "execution_count": 27,
   "id": "27f5a97a",
   "metadata": {
    "execution": {
     "iopub.execute_input": "2024-11-07T10:23:23.450837Z",
     "iopub.status.busy": "2024-11-07T10:23:23.450522Z",
     "iopub.status.idle": "2024-11-07T10:23:23.537825Z",
     "shell.execute_reply": "2024-11-07T10:23:23.536877Z"
    },
    "papermill": {
     "duration": 0.107015,
     "end_time": "2024-11-07T10:23:23.539898",
     "exception": false,
     "start_time": "2024-11-07T10:23:23.432883",
     "status": "completed"
    },
    "tags": []
   },
   "outputs": [],
   "source": [
    "train_df['caption'] = train_df['caption'].astype(str)\n",
    "test_df['caption'] = test_df['caption'].astype(str)"
   ]
  },
  {
   "cell_type": "code",
   "execution_count": 28,
   "id": "d236d714",
   "metadata": {
    "execution": {
     "iopub.execute_input": "2024-11-07T10:23:23.574678Z",
     "iopub.status.busy": "2024-11-07T10:23:23.574385Z",
     "iopub.status.idle": "2024-11-07T10:23:25.367384Z",
     "shell.execute_reply": "2024-11-07T10:23:25.366358Z"
    },
    "papermill": {
     "duration": 1.812895,
     "end_time": "2024-11-07T10:23:25.369710",
     "exception": false,
     "start_time": "2024-11-07T10:23:23.556815",
     "status": "completed"
    },
    "tags": []
   },
   "outputs": [],
   "source": [
    "train_df['caption'] = train_df['caption'].apply(preprocess_text)\n",
    "test_df['caption'] = test_df['caption'].apply(preprocess_text)"
   ]
  },
  {
   "cell_type": "code",
   "execution_count": 29,
   "id": "73f4fabb",
   "metadata": {
    "execution": {
     "iopub.execute_input": "2024-11-07T10:23:25.405060Z",
     "iopub.status.busy": "2024-11-07T10:23:25.404757Z",
     "iopub.status.idle": "2024-11-07T10:23:25.410722Z",
     "shell.execute_reply": "2024-11-07T10:23:25.409884Z"
    },
    "papermill": {
     "duration": 0.025561,
     "end_time": "2024-11-07T10:23:25.412668",
     "exception": false,
     "start_time": "2024-11-07T10:23:25.387107",
     "status": "completed"
    },
    "tags": []
   },
   "outputs": [
    {
     "data": {
      "text/plain": [
       "'hình ảnh kết hợp nội dung sau có thể hiện sự mỉa mai hay không? may mà gặp được tôi chữ trong hình là trờl olll_, làm sao thế này?!?, cậu bạn này đang vẽ dở, thỉ lăn đùng ra (o giật, sùl bọt mép!, nguy quá!, để tôl glúp!, 1.  hình ảnh mô tả một dải truyện tranh có một nhân vật hoạt hình và một người đang vẽ trên giá vẽ. nhân vật hoạt hình đang cầm một cây cọ vẽ trên một tay và một cây cọ trên tay kia, trong khi người đó đang ngồi trên giá vẽ với nụ cười trên môi. nội dung của hình ảnh có thể mang tính châm biếm, vì người đó đang cố gắng trêu chọc nỗ lực vẽ của người khác. tuy nhiên, nó cũng có thể mang tính giải trí, vì người đó dường như đang có một khoảng thời gian vui vẻ khi vẽ trên giá vẽ. nhìn chung, nội dung của hình ảnh có thể được coi là châm biếm hoặc giải trí, tùy thuộc vào quan điểm của người đó.'"
      ]
     },
     "execution_count": 29,
     "metadata": {},
     "output_type": "execute_result"
    }
   ],
   "source": [
    "train_df['caption'].iloc[2003]"
   ]
  },
  {
   "cell_type": "code",
   "execution_count": 30,
   "id": "4b0a93b9",
   "metadata": {
    "execution": {
     "iopub.execute_input": "2024-11-07T10:23:25.446998Z",
     "iopub.status.busy": "2024-11-07T10:23:25.446748Z",
     "iopub.status.idle": "2024-11-07T10:23:25.481024Z",
     "shell.execute_reply": "2024-11-07T10:23:25.480373Z"
    },
    "papermill": {
     "duration": 0.053645,
     "end_time": "2024-11-07T10:23:25.482927",
     "exception": false,
     "start_time": "2024-11-07T10:23:25.429282",
     "status": "completed"
    },
    "tags": []
   },
   "outputs": [],
   "source": [
    "import pandas as pd\n",
    "\n",
    "from sklearn.model_selection import train_test_split\n",
    "\n",
    "X = train_df.drop(columns=['label'])  # Features\n",
    "y = train_df['label']  # Labels\n",
    "\n",
    "X_train, X_test, y_train, y_test = train_test_split(X, y, test_size=0.1, stratify=y, random_state=42)\n",
    "\n",
    "train_df = pd.concat([X_train, y_train], axis=1)\n",
    "val_df = pd.concat([X_test, y_test], axis=1)"
   ]
  },
  {
   "cell_type": "code",
   "execution_count": 31,
   "id": "6f35b444",
   "metadata": {
    "execution": {
     "iopub.execute_input": "2024-11-07T10:23:25.517835Z",
     "iopub.status.busy": "2024-11-07T10:23:25.517581Z",
     "iopub.status.idle": "2024-11-07T10:23:25.522043Z",
     "shell.execute_reply": "2024-11-07T10:23:25.521197Z"
    },
    "papermill": {
     "duration": 0.02404,
     "end_time": "2024-11-07T10:23:25.524086",
     "exception": false,
     "start_time": "2024-11-07T10:23:25.500046",
     "status": "completed"
    },
    "tags": []
   },
   "outputs": [
    {
     "name": "stdout",
     "output_type": "stream",
     "text": [
      "(9724, 3) (1081, 3) (1413, 3)\n"
     ]
    }
   ],
   "source": [
    "print(train_df.shape, val_df.shape, test_df.shape)"
   ]
  },
  {
   "cell_type": "markdown",
   "id": "31586327",
   "metadata": {
    "papermill": {
     "duration": 0.016371,
     "end_time": "2024-11-07T10:23:25.557225",
     "exception": false,
     "start_time": "2024-11-07T10:23:25.540854",
     "status": "completed"
    },
    "tags": []
   },
   "source": [
    "## Create datasets"
   ]
  },
  {
   "cell_type": "code",
   "execution_count": 32,
   "id": "82729500",
   "metadata": {
    "execution": {
     "iopub.execute_input": "2024-11-07T10:23:25.591674Z",
     "iopub.status.busy": "2024-11-07T10:23:25.591415Z",
     "iopub.status.idle": "2024-11-07T10:23:26.765774Z",
     "shell.execute_reply": "2024-11-07T10:23:26.764968Z"
    },
    "papermill": {
     "duration": 1.19429,
     "end_time": "2024-11-07T10:23:26.768193",
     "exception": false,
     "start_time": "2024-11-07T10:23:25.573903",
     "status": "completed"
    },
    "tags": []
   },
   "outputs": [
    {
     "data": {
      "application/vnd.jupyter.widget-view+json": {
       "model_id": "f4d17f7fbd654ebfb2a8d9855c99c05f",
       "version_major": 2,
       "version_minor": 0
      },
      "text/plain": [
       "Downloading config.json:   0%|          | 0.00/644 [00:00<?, ?B/s]"
      ]
     },
     "metadata": {},
     "output_type": "display_data"
    },
    {
     "data": {
      "application/vnd.jupyter.widget-view+json": {
       "model_id": "0fdcf7b33ff146fe9f4aaa1212093683",
       "version_major": 2,
       "version_minor": 0
      },
      "text/plain": [
       "Downloading (…)tencepiece.bpe.model:   0%|          | 0.00/471k [00:00<?, ?B/s]"
      ]
     },
     "metadata": {},
     "output_type": "display_data"
    }
   ],
   "source": [
    "from transformers import AutoTokenizer\n",
    "config = Config()\n",
    "tokenizer = AutoTokenizer.from_pretrained('uitnlp/visobert')"
   ]
  },
  {
   "cell_type": "code",
   "execution_count": 33,
   "id": "47f13f5b",
   "metadata": {
    "execution": {
     "iopub.execute_input": "2024-11-07T10:23:26.804260Z",
     "iopub.status.busy": "2024-11-07T10:23:26.803925Z",
     "iopub.status.idle": "2024-11-07T10:23:26.863760Z",
     "shell.execute_reply": "2024-11-07T10:23:26.862880Z"
    },
    "papermill": {
     "duration": 0.079979,
     "end_time": "2024-11-07T10:23:26.865804",
     "exception": false,
     "start_time": "2024-11-07T10:23:26.785825",
     "status": "completed"
    },
    "tags": []
   },
   "outputs": [
    {
     "name": "stdout",
     "output_type": "stream",
     "text": [
      "       not-sarcasm  text-sarcasm  image-sarcasm  multi-sarcasm\n",
      "4004             0             0              0              1\n",
      "10369            0             0              0              1\n",
      "1157             1             0              0              0\n",
      "6181             1             0              0              0\n",
      "3987             1             0              0              0\n",
      "      not-sarcasm  text-sarcasm  image-sarcasm  multi-sarcasm\n",
      "5129            1             0              0              0\n",
      "7471            0             0              0              1\n",
      "2846            0             0              0              1\n",
      "1643            1             0              0              0\n",
      "3796            1             0              0              0\n",
      "   not-sarcasm  text-sarcasm  image-sarcasm  multi-sarcasm\n",
      "0            0             0              0              0\n",
      "1            0             0              0              0\n",
      "2            0             0              0              0\n",
      "3            0             0              0              0\n",
      "4            0             0              0              0\n"
     ]
    }
   ],
   "source": [
    "train_dataset = MemesDataset(train_df, tokenizer, config, visual_embeds)\n",
    "val_dataset = MemesDataset(val_df, tokenizer, config, visual_embeds)\n",
    "test_dataset = MemesDataset(test_df, tokenizer, config, visual_embeds)"
   ]
  },
  {
   "cell_type": "code",
   "execution_count": 34,
   "id": "036dc27e",
   "metadata": {
    "execution": {
     "iopub.execute_input": "2024-11-07T10:23:26.901253Z",
     "iopub.status.busy": "2024-11-07T10:23:26.900968Z",
     "iopub.status.idle": "2024-11-07T10:23:26.905667Z",
     "shell.execute_reply": "2024-11-07T10:23:26.904753Z"
    },
    "papermill": {
     "duration": 0.02456,
     "end_time": "2024-11-07T10:23:26.907629",
     "exception": false,
     "start_time": "2024-11-07T10:23:26.883069",
     "status": "completed"
    },
    "tags": []
   },
   "outputs": [],
   "source": [
    "train_loader = DataLoader(train_dataset, batch_size=config.batch_size, shuffle=True)"
   ]
  },
  {
   "cell_type": "code",
   "execution_count": 35,
   "id": "4d0eb190",
   "metadata": {
    "execution": {
     "iopub.execute_input": "2024-11-07T10:23:26.943475Z",
     "iopub.status.busy": "2024-11-07T10:23:26.943205Z",
     "iopub.status.idle": "2024-11-07T10:23:27.273755Z",
     "shell.execute_reply": "2024-11-07T10:23:27.272851Z"
    },
    "papermill": {
     "duration": 0.350756,
     "end_time": "2024-11-07T10:23:27.275673",
     "exception": false,
     "start_time": "2024-11-07T10:23:26.924917",
     "status": "completed"
    },
    "tags": []
   },
   "outputs": [
    {
     "data": {
      "text/plain": [
       "82"
      ]
     },
     "execution_count": 35,
     "metadata": {},
     "output_type": "execute_result"
    }
   ],
   "source": [
    "import gc\n",
    "torch.cuda.empty_cache()\n",
    "gc.collect()"
   ]
  },
  {
   "cell_type": "markdown",
   "id": "0d8f6831",
   "metadata": {
    "papermill": {
     "duration": 0.01726,
     "end_time": "2024-11-07T10:23:27.310899",
     "exception": false,
     "start_time": "2024-11-07T10:23:27.293639",
     "status": "completed"
    },
    "tags": []
   },
   "source": [
    "# Model"
   ]
  },
  {
   "cell_type": "code",
   "execution_count": 36,
   "id": "da018279",
   "metadata": {
    "execution": {
     "iopub.execute_input": "2024-11-07T10:23:27.346913Z",
     "iopub.status.busy": "2024-11-07T10:23:27.346625Z",
     "iopub.status.idle": "2024-11-07T10:23:27.360567Z",
     "shell.execute_reply": "2024-11-07T10:23:27.359709Z"
    },
    "papermill": {
     "duration": 0.034267,
     "end_time": "2024-11-07T10:23:27.362528",
     "exception": false,
     "start_time": "2024-11-07T10:23:27.328261",
     "status": "completed"
    },
    "tags": []
   },
   "outputs": [],
   "source": [
    "class MemesClassifier(pl.LightningModule):\n",
    "  '''Wrap the training of VisualBERT model to classify memes'''\n",
    "\n",
    "  def __init__(self, config: Config):\n",
    "    super().__init__()\n",
    "    self.configuration = VisualBertConfig.from_pretrained(config.visual_model_name, visual_embedding_dim=config.visual_embedding_dim)\n",
    "    self.model = VisualBertModel(self.configuration)\n",
    "    self.n_warmup_steps = config.n_warmup_steps\n",
    "    self.criterion = nn.CrossEntropyLoss()\n",
    "    self.dropout = nn.Dropout(0.2)\n",
    "    self.classifier = nn.Linear(self.model.config.hidden_size, config.n_classes)\n",
    "    self.n_training_steps = config.n_training_steps\n",
    "    self.lrate = config.lrate\n",
    "  \n",
    "  def forward(self, input_ids, attention_mask, visual_embeds, visual_attention_mask, visual_token_type_ids, labels=None):\n",
    "    output = self.model(input_ids=input_ids,\n",
    "                        attention_mask=attention_mask,\n",
    "                        visual_embeds=visual_embeds,\n",
    "                        visual_attention_mask=visual_attention_mask,\n",
    "                        visual_token_type_ids=visual_token_type_ids\n",
    "    )\n",
    "    \n",
    "    output = self.dropout(output.pooler_output)\n",
    "    output = self.classifier(output)\n",
    "\n",
    "    return output\n",
    "  \n",
    "  def training_step(self, batch, batch_idx):\n",
    "    input_ids = batch['input_ids'].to(device)\n",
    "    attention_mask = batch['attention_mask'].to(device)\n",
    "    visual_embeds = batch['visual_embedding'].to(device)\n",
    "    visual_attention_mask = batch['visual_attention_mask'].to(device)\n",
    "    visual_token_type_ids = batch['visual_token_type_ids'].to(device)\n",
    "\n",
    "    labels = batch['labels'].type(torch.float).to(device)\n",
    "    \n",
    "    outputs = self(input_ids, attention_mask, visual_embeds, visual_attention_mask, visual_token_type_ids, labels)\n",
    "    loss = self.criterion(outputs, labels)\n",
    "    self.log('train_loss', loss, prog_bar=True, logger=True)\n",
    "\n",
    "    return {\"loss\":loss, 'predictions':outputs, 'labels':labels}\n",
    "\n",
    "  def validation_step(self, batch, batch_idx):\n",
    "    input_ids = batch['input_ids']\n",
    "    attention_mask = batch['attention_mask']\n",
    "    visual_embeds = batch['visual_embedding']\n",
    "    visual_attention_mask = batch['visual_attention_mask']\n",
    "    visual_token_type_ids = batch['visual_token_type_ids'].to(device)\n",
    "    labels = batch['labels'].type(torch.float).to(device)\n",
    "    \n",
    "    outputs = self(input_ids, attention_mask, visual_embeds, visual_attention_mask, visual_token_type_ids, labels)\n",
    "    loss = self.criterion(outputs, labels)\n",
    "    self.log('val_loss', loss, prog_bar=True, logger=True)\n",
    "\n",
    "    return loss\n",
    "  \n",
    "  def configure_optimizers(self):\n",
    "    optimizer = AdamW(self.parameters(), lr=self.lrate)\n",
    "\n",
    "    scheduler = get_linear_schedule_with_warmup(\n",
    "        optimizer,\n",
    "        num_warmup_steps=self.n_warmup_steps,\n",
    "        num_training_steps=self.n_training_steps\n",
    "    )\n",
    "\n",
    "    return dict(\n",
    "        optimizer=optimizer,\n",
    "        lr_scheduler=dict(\n",
    "            scheduler=scheduler,\n",
    "            interval='step'\n",
    "        )\n",
    "    )"
   ]
  },
  {
   "cell_type": "markdown",
   "id": "55e13351",
   "metadata": {
    "papermill": {
     "duration": 0.016904,
     "end_time": "2024-11-07T10:23:27.397084",
     "exception": false,
     "start_time": "2024-11-07T10:23:27.380180",
     "status": "completed"
    },
    "tags": []
   },
   "source": [
    "# Train"
   ]
  },
  {
   "cell_type": "code",
   "execution_count": 37,
   "id": "c457e022",
   "metadata": {
    "execution": {
     "iopub.execute_input": "2024-11-07T10:23:27.432914Z",
     "iopub.status.busy": "2024-11-07T10:23:27.432650Z",
     "iopub.status.idle": "2024-11-07T10:23:27.439434Z",
     "shell.execute_reply": "2024-11-07T10:23:27.438592Z"
    },
    "papermill": {
     "duration": 0.026838,
     "end_time": "2024-11-07T10:23:27.441285",
     "exception": false,
     "start_time": "2024-11-07T10:23:27.414447",
     "status": "completed"
    },
    "tags": []
   },
   "outputs": [],
   "source": [
    "def train_model(model, train_dataset, val_dataset, tokenizer, config, visual_embeds):\n",
    "    checkpoint_callback = ModelCheckpoint(\n",
    "        dirpath=\"checkpoints\",\n",
    "        filename=\"best-checkpoint\",\n",
    "        save_top_k=5,\n",
    "        verbose=True,\n",
    "        monitor=\"val_loss\",\n",
    "        mode=\"min\",\n",
    "    )\n",
    "    \n",
    "    logger = TensorBoardLogger(\"lightning_logs\", name=\"memes-text\")\n",
    "    early_stopping_callback = EarlyStopping(monitor='val_loss', patience=3)\n",
    "\n",
    "    trainer = pl.Trainer(\n",
    "        logger=logger,\n",
    "        callbacks=[early_stopping_callback, checkpoint_callback],\n",
    "        max_epochs=config.n_epochs,\n",
    "        accelerator=\"auto\",\n",
    "        enable_progress_bar=True,\n",
    "    )\n",
    "\n",
    "    train_loader = DataLoader(train_dataset, batch_size=config.batch_size, shuffle=True)\n",
    "    val_loader = DataLoader(val_dataset, batch_size=config.batch_size)\n",
    "\n",
    "    trainer.fit(model, train_dataloaders=train_loader, val_dataloaders=val_loader)"
   ]
  },
  {
   "cell_type": "code",
   "execution_count": 38,
   "id": "2fb4a070",
   "metadata": {
    "execution": {
     "iopub.execute_input": "2024-11-07T10:23:27.477302Z",
     "iopub.status.busy": "2024-11-07T10:23:27.477009Z",
     "iopub.status.idle": "2024-11-07T10:23:27.486194Z",
     "shell.execute_reply": "2024-11-07T10:23:27.485460Z"
    },
    "papermill": {
     "duration": 0.029335,
     "end_time": "2024-11-07T10:23:27.488103",
     "exception": false,
     "start_time": "2024-11-07T10:23:27.458768",
     "status": "completed"
    },
    "tags": []
   },
   "outputs": [],
   "source": [
    "def evaluate_model(test_dataset, checkpoint, tokenizer, config, visual_embeds):\n",
    "\n",
    "    trained_model = MemesClassifier.load_from_checkpoint(\n",
    "        checkpoint,\n",
    "        config=config\n",
    "    ).to(device)\n",
    "\n",
    "    trained_model.eval()\n",
    "\n",
    "    predictions = []\n",
    "    labels = []\n",
    "    for item in tqdm(test_dataset):\n",
    "        with torch.no_grad():\n",
    "            prediction = trained_model(\n",
    "                item[\"input_ids\"].unsqueeze(dim=0).to(device),\n",
    "                item[\"attention_mask\"].unsqueeze(dim=0).to(device),\n",
    "                item[\"visual_embedding\"].unsqueeze(dim=0).to(device),\n",
    "                item['visual_attention_mask'].unsqueeze(dim=0).to(device),\n",
    "                item['visual_token_type_ids'].unsqueeze(dim=0).to(device)\n",
    "            )\n",
    "        predictions.append(prediction.flatten())\n",
    "        labels.append(item[\"labels\"])\n",
    "    \n",
    "    predictions = torch.stack(predictions).detach().cpu()\n",
    "    labels = torch.stack(labels).detach().cpu()\n",
    "\n",
    "    _, preds = torch.max(predictions, dim=1)\n",
    "    _, labels = torch.max(labels, dim=1)\n",
    "    \n",
    "    f1_macro = f1_score(labels, preds , average=\"macro\")\n",
    "    f1_micro = f1_score(labels, preds , average=\"micro\")\n",
    "\n",
    "    return f1_macro, f1_micro"
   ]
  },
  {
   "cell_type": "code",
   "execution_count": 39,
   "id": "c1cce821",
   "metadata": {
    "execution": {
     "iopub.execute_input": "2024-11-07T10:23:27.523837Z",
     "iopub.status.busy": "2024-11-07T10:23:27.523585Z",
     "iopub.status.idle": "2024-11-07T10:23:29.596666Z",
     "shell.execute_reply": "2024-11-07T10:23:29.595637Z"
    },
    "papermill": {
     "duration": 2.093737,
     "end_time": "2024-11-07T10:23:29.599155",
     "exception": false,
     "start_time": "2024-11-07T10:23:27.505418",
     "status": "completed"
    },
    "tags": []
   },
   "outputs": [
    {
     "data": {
      "application/vnd.jupyter.widget-view+json": {
       "model_id": "2091df7d65c446a7a67da91eae4a5899",
       "version_major": 2,
       "version_minor": 0
      },
      "text/plain": [
       "Downloading config.json:   0%|          | 0.00/631 [00:00<?, ?B/s]"
      ]
     },
     "metadata": {},
     "output_type": "display_data"
    }
   ],
   "source": [
    "model = MemesClassifier(config).to('cuda')"
   ]
  },
  {
   "cell_type": "code",
   "execution_count": 40,
   "id": "13c0d1e3",
   "metadata": {
    "execution": {
     "iopub.execute_input": "2024-11-07T10:23:29.637041Z",
     "iopub.status.busy": "2024-11-07T10:23:29.636470Z",
     "iopub.status.idle": "2024-11-07T10:51:14.308584Z",
     "shell.execute_reply": "2024-11-07T10:51:14.307576Z"
    },
    "papermill": {
     "duration": 1664.693246,
     "end_time": "2024-11-07T10:51:14.310997",
     "exception": false,
     "start_time": "2024-11-07T10:23:29.617751",
     "status": "completed"
    },
    "tags": []
   },
   "outputs": [
    {
     "name": "stderr",
     "output_type": "stream",
     "text": [
      "/opt/conda/lib/python3.10/site-packages/transformers/optimization.py:411: FutureWarning: This implementation of AdamW is deprecated and will be removed in a future version. Use the PyTorch implementation torch.optim.AdamW instead, or set `no_deprecation_warning=True` to disable this warning\n",
      "  warnings.warn(\n"
     ]
    },
    {
     "data": {
      "application/vnd.jupyter.widget-view+json": {
       "model_id": "c58150bf40f24a4792aedf80fe72ba7b",
       "version_major": 2,
       "version_minor": 0
      },
      "text/plain": [
       "Sanity Checking: 0it [00:00, ?it/s]"
      ]
     },
     "metadata": {},
     "output_type": "display_data"
    },
    {
     "name": "stderr",
     "output_type": "stream",
     "text": [
      "/opt/conda/lib/python3.10/site-packages/pytorch_lightning/trainer/connectors/data_connector.py:442: PossibleUserWarning: The dataloader, val_dataloader, does not have many workers which may be a bottleneck. Consider increasing the value of the `num_workers` argument` (try 4 which is the number of cpus on this machine) in the `DataLoader` init to improve performance.\n",
      "  rank_zero_warn(\n",
      "/opt/conda/lib/python3.10/site-packages/pytorch_lightning/trainer/connectors/data_connector.py:442: PossibleUserWarning: The dataloader, train_dataloader, does not have many workers which may be a bottleneck. Consider increasing the value of the `num_workers` argument` (try 4 which is the number of cpus on this machine) in the `DataLoader` init to improve performance.\n",
      "  rank_zero_warn(\n"
     ]
    },
    {
     "data": {
      "application/vnd.jupyter.widget-view+json": {
       "model_id": "30b980d7503c455696624c08a99c4177",
       "version_major": 2,
       "version_minor": 0
      },
      "text/plain": [
       "Training: 0it [00:00, ?it/s]"
      ]
     },
     "metadata": {},
     "output_type": "display_data"
    },
    {
     "data": {
      "application/vnd.jupyter.widget-view+json": {
       "model_id": "88cf2a6a3deb46d18d440d40cc55b08a",
       "version_major": 2,
       "version_minor": 0
      },
      "text/plain": [
       "Validation: 0it [00:00, ?it/s]"
      ]
     },
     "metadata": {},
     "output_type": "display_data"
    },
    {
     "data": {
      "application/vnd.jupyter.widget-view+json": {
       "model_id": "b7abe26e502044e59dba3d8b939cade3",
       "version_major": 2,
       "version_minor": 0
      },
      "text/plain": [
       "Validation: 0it [00:00, ?it/s]"
      ]
     },
     "metadata": {},
     "output_type": "display_data"
    },
    {
     "data": {
      "application/vnd.jupyter.widget-view+json": {
       "model_id": "41a4a504c7414253a02fc0022a12b179",
       "version_major": 2,
       "version_minor": 0
      },
      "text/plain": [
       "Validation: 0it [00:00, ?it/s]"
      ]
     },
     "metadata": {},
     "output_type": "display_data"
    }
   ],
   "source": [
    "train_model(\n",
    "    model=model, \n",
    "    train_dataset=train_dataset, \n",
    "    val_dataset=val_dataset,\n",
    "    tokenizer=tokenizer,\n",
    "    config = config,\n",
    "    visual_embeds=visual_embeds\n",
    ")"
   ]
  },
  {
   "cell_type": "code",
   "execution_count": 41,
   "id": "5377a030",
   "metadata": {
    "execution": {
     "iopub.execute_input": "2024-11-07T10:51:14.350559Z",
     "iopub.status.busy": "2024-11-07T10:51:14.350244Z",
     "iopub.status.idle": "2024-11-07T10:51:14.650918Z",
     "shell.execute_reply": "2024-11-07T10:51:14.649974Z"
    },
    "papermill": {
     "duration": 0.323062,
     "end_time": "2024-11-07T10:51:14.652995",
     "exception": false,
     "start_time": "2024-11-07T10:51:14.329933",
     "status": "completed"
    },
    "tags": []
   },
   "outputs": [
    {
     "data": {
      "text/plain": [
       "127"
      ]
     },
     "execution_count": 41,
     "metadata": {},
     "output_type": "execute_result"
    }
   ],
   "source": [
    "import gc\n",
    "torch.cuda.empty_cache()\n",
    "gc.collect()"
   ]
  },
  {
   "cell_type": "code",
   "execution_count": 42,
   "id": "b6605427",
   "metadata": {
    "execution": {
     "iopub.execute_input": "2024-11-07T10:51:14.692027Z",
     "iopub.status.busy": "2024-11-07T10:51:14.691726Z",
     "iopub.status.idle": "2024-11-07T10:51:39.944972Z",
     "shell.execute_reply": "2024-11-07T10:51:39.944082Z"
    },
    "papermill": {
     "duration": 25.27511,
     "end_time": "2024-11-07T10:51:39.947393",
     "exception": false,
     "start_time": "2024-11-07T10:51:14.672283",
     "status": "completed"
    },
    "tags": []
   },
   "outputs": [
    {
     "data": {
      "application/vnd.jupyter.widget-view+json": {
       "model_id": "59d84195661745719986036161bafb74",
       "version_major": 2,
       "version_minor": 0
      },
      "text/plain": [
       "  0%|          | 0/1081 [00:00<?, ?it/s]"
      ]
     },
     "metadata": {},
     "output_type": "display_data"
    }
   ],
   "source": [
    "f1_macro, f1_micro = evaluate_model(\n",
    "    val_dataset,\n",
    "    checkpoint='./checkpoints/best-checkpoint.ckpt',\n",
    "    tokenizer=tokenizer,\n",
    "    config=config,\n",
    "    visual_embeds=visual_embeds\n",
    ")"
   ]
  },
  {
   "cell_type": "code",
   "execution_count": 43,
   "id": "ea547810",
   "metadata": {
    "execution": {
     "iopub.execute_input": "2024-11-07T10:51:39.989970Z",
     "iopub.status.busy": "2024-11-07T10:51:39.989664Z",
     "iopub.status.idle": "2024-11-07T10:51:39.994419Z",
     "shell.execute_reply": "2024-11-07T10:51:39.993624Z"
    },
    "papermill": {
     "duration": 0.027863,
     "end_time": "2024-11-07T10:51:39.996388",
     "exception": false,
     "start_time": "2024-11-07T10:51:39.968525",
     "status": "completed"
    },
    "tags": []
   },
   "outputs": [
    {
     "name": "stdout",
     "output_type": "stream",
     "text": [
      "Evaluate on valid set: f1_macro=0.2969376367454223, f1_micro=0.5892691951896393\n"
     ]
    }
   ],
   "source": [
    "print(f\"Evaluate on valid set: f1_macro={f1_macro}, f1_micro={f1_micro}\")"
   ]
  },
  {
   "cell_type": "markdown",
   "id": "e2e5cef4",
   "metadata": {
    "papermill": {
     "duration": 0.018467,
     "end_time": "2024-11-07T10:51:40.033687",
     "exception": false,
     "start_time": "2024-11-07T10:51:40.015220",
     "status": "completed"
    },
    "tags": []
   },
   "source": [
    "# Load checkpoints and predict\n",
    "\n"
   ]
  },
  {
   "cell_type": "code",
   "execution_count": 44,
   "id": "e0e94280",
   "metadata": {
    "execution": {
     "iopub.execute_input": "2024-11-07T10:51:40.072239Z",
     "iopub.status.busy": "2024-11-07T10:51:40.071914Z",
     "iopub.status.idle": "2024-11-07T10:51:40.426217Z",
     "shell.execute_reply": "2024-11-07T10:51:40.425271Z"
    },
    "papermill": {
     "duration": 0.375776,
     "end_time": "2024-11-07T10:51:40.428110",
     "exception": false,
     "start_time": "2024-11-07T10:51:40.052334",
     "status": "completed"
    },
    "tags": []
   },
   "outputs": [
    {
     "data": {
      "text/plain": [
       "18"
      ]
     },
     "execution_count": 44,
     "metadata": {},
     "output_type": "execute_result"
    }
   ],
   "source": [
    "import gc\n",
    "torch.cuda.empty_cache()\n",
    "gc.collect()"
   ]
  },
  {
   "cell_type": "code",
   "execution_count": 45,
   "id": "fc5ae60f",
   "metadata": {
    "execution": {
     "iopub.execute_input": "2024-11-07T10:51:40.467597Z",
     "iopub.status.busy": "2024-11-07T10:51:40.467292Z",
     "iopub.status.idle": "2024-11-07T10:51:40.476090Z",
     "shell.execute_reply": "2024-11-07T10:51:40.475258Z"
    },
    "papermill": {
     "duration": 0.030477,
     "end_time": "2024-11-07T10:51:40.477897",
     "exception": false,
     "start_time": "2024-11-07T10:51:40.447420",
     "status": "completed"
    },
    "tags": []
   },
   "outputs": [],
   "source": [
    "\n",
    "def get_prediction(test_dataset, checkpoint, tokenizer, config, visual_embeds, batch_size=2):\n",
    "    # Create DataLoader\n",
    "    test_dataloader = DataLoader(\n",
    "        test_dataset,\n",
    "        batch_size=batch_size,\n",
    "        shuffle=False,\n",
    "    )\n",
    "    \n",
    "    # Load and set model to evaluation mode\n",
    "    trained_model = MemesClassifier.load_from_checkpoint(\n",
    "        checkpoint,\n",
    "        config=config\n",
    "    ).to(device)\n",
    "    trained_model.eval()\n",
    "    \n",
    "    all_predictions = []\n",
    "    \n",
    "    # Process batches\n",
    "    for batch in tqdm(test_dataloader, desc=\"Getting predictions\"):\n",
    "        with torch.no_grad():\n",
    "            # Move batch to device\n",
    "            batch = {k: v.to(device) for k, v in batch.items()}\n",
    "            \n",
    "            # Get predictions\n",
    "            predictions = trained_model(\n",
    "                batch[\"input_ids\"],\n",
    "                batch[\"attention_mask\"],\n",
    "                batch[\"visual_embedding\"],\n",
    "                batch[\"visual_attention_mask\"],\n",
    "                batch[\"visual_token_type_ids\"]\n",
    "            )\n",
    "            \n",
    "            # Move predictions to CPU\n",
    "            all_predictions.append(predictions.cpu())\n",
    "    \n",
    "    # Concatenate all predictions\n",
    "    predictions = torch.cat(all_predictions, dim=0)\n",
    "    \n",
    "    # Get probabilities and predicted classes\n",
    "    probabilities = torch.softmax(predictions, dim=1)\n",
    "    predicted_classes = torch.argmax(predictions, dim=1)\n",
    "    \n",
    "    # Convert to class labels\n",
    "    predicted_labels = [config.classes[idx.item()] for idx in predicted_classes]\n",
    "    \n",
    "    return predicted_labels"
   ]
  },
  {
   "cell_type": "code",
   "execution_count": 46,
   "id": "1045965a",
   "metadata": {
    "execution": {
     "iopub.execute_input": "2024-11-07T10:51:40.517154Z",
     "iopub.status.busy": "2024-11-07T10:51:40.516407Z",
     "iopub.status.idle": "2024-11-07T10:52:13.683047Z",
     "shell.execute_reply": "2024-11-07T10:52:13.682132Z"
    },
    "papermill": {
     "duration": 33.188301,
     "end_time": "2024-11-07T10:52:13.685187",
     "exception": false,
     "start_time": "2024-11-07T10:51:40.496886",
     "status": "completed"
    },
    "tags": []
   },
   "outputs": [
    {
     "data": {
      "application/vnd.jupyter.widget-view+json": {
       "model_id": "fd15835cf2594613b3adfe87979fc23a",
       "version_major": 2,
       "version_minor": 0
      },
      "text/plain": [
       "Getting predictions:   0%|          | 0/707 [00:00<?, ?it/s]"
      ]
     },
     "metadata": {},
     "output_type": "display_data"
    }
   ],
   "source": [
    "predictions = get_prediction(\n",
    "    test_dataset,\n",
    "    checkpoint='./checkpoints/best-checkpoint.ckpt',\n",
    "    tokenizer=tokenizer,\n",
    "    config=config,\n",
    "    visual_embeds=visual_embeds\n",
    ")"
   ]
  },
  {
   "cell_type": "code",
   "execution_count": 47,
   "id": "0f3e46dc",
   "metadata": {
    "execution": {
     "iopub.execute_input": "2024-11-07T10:52:13.724911Z",
     "iopub.status.busy": "2024-11-07T10:52:13.724613Z",
     "iopub.status.idle": "2024-11-07T10:52:13.730175Z",
     "shell.execute_reply": "2024-11-07T10:52:13.729317Z"
    },
    "papermill": {
     "duration": 0.027183,
     "end_time": "2024-11-07T10:52:13.731900",
     "exception": false,
     "start_time": "2024-11-07T10:52:13.704717",
     "status": "completed"
    },
    "tags": []
   },
   "outputs": [
    {
     "data": {
      "text/plain": [
       "1413"
      ]
     },
     "execution_count": 47,
     "metadata": {},
     "output_type": "execute_result"
    }
   ],
   "source": [
    "len(predictions)"
   ]
  },
  {
   "cell_type": "code",
   "execution_count": 48,
   "id": "35e2258b",
   "metadata": {
    "execution": {
     "iopub.execute_input": "2024-11-07T10:52:13.771081Z",
     "iopub.status.busy": "2024-11-07T10:52:13.770817Z",
     "iopub.status.idle": "2024-11-07T10:52:13.775304Z",
     "shell.execute_reply": "2024-11-07T10:52:13.774285Z"
    },
    "papermill": {
     "duration": 0.026554,
     "end_time": "2024-11-07T10:52:13.777351",
     "exception": false,
     "start_time": "2024-11-07T10:52:13.750797",
     "status": "completed"
    },
    "tags": []
   },
   "outputs": [],
   "source": [
    "\n",
    "test_predicted = {k:i for k,i in zip(dev_json.keys(),predictions)}"
   ]
  },
  {
   "cell_type": "code",
   "execution_count": 49,
   "id": "58a34c52",
   "metadata": {
    "execution": {
     "iopub.execute_input": "2024-11-07T10:52:13.816854Z",
     "iopub.status.busy": "2024-11-07T10:52:13.816570Z",
     "iopub.status.idle": "2024-11-07T10:52:13.820579Z",
     "shell.execute_reply": "2024-11-07T10:52:13.819766Z"
    },
    "papermill": {
     "duration": 0.025823,
     "end_time": "2024-11-07T10:52:13.822353",
     "exception": false,
     "start_time": "2024-11-07T10:52:13.796530",
     "status": "completed"
    },
    "tags": []
   },
   "outputs": [],
   "source": [
    "result_json = {\n",
    "    \"results\": test_predicted,\n",
    "    \"phase\": \"dev\"\n",
    "}"
   ]
  },
  {
   "cell_type": "code",
   "execution_count": 50,
   "id": "b85cbdbd",
   "metadata": {
    "execution": {
     "iopub.execute_input": "2024-11-07T10:52:13.861941Z",
     "iopub.status.busy": "2024-11-07T10:52:13.861677Z",
     "iopub.status.idle": "2024-11-07T10:52:13.869212Z",
     "shell.execute_reply": "2024-11-07T10:52:13.868515Z"
    },
    "papermill": {
     "duration": 0.029418,
     "end_time": "2024-11-07T10:52:13.871094",
     "exception": false,
     "start_time": "2024-11-07T10:52:13.841676",
     "status": "completed"
    },
    "tags": []
   },
   "outputs": [],
   "source": [
    "\n",
    "with open('results.json', 'w') as fp:\n",
    "    json.dump(result_json, fp,ensure_ascii=True,indent=True)"
   ]
  },
  {
   "cell_type": "code",
   "execution_count": null,
   "id": "07f883e9",
   "metadata": {
    "papermill": {
     "duration": 0.018872,
     "end_time": "2024-11-07T10:52:13.909082",
     "exception": false,
     "start_time": "2024-11-07T10:52:13.890210",
     "status": "completed"
    },
    "tags": []
   },
   "outputs": [],
   "source": []
  }
 ],
 "metadata": {
  "kaggle": {
   "accelerator": "gpu",
   "dataSources": [
    {
     "datasetId": 5834049,
     "sourceId": 9571267,
     "sourceType": "datasetVersion"
    },
    {
     "datasetId": 5902254,
     "sourceId": 9660707,
     "sourceType": "datasetVersion"
    },
    {
     "datasetId": 5987472,
     "sourceId": 9774475,
     "sourceType": "datasetVersion"
    },
    {
     "datasetId": 5953272,
     "sourceId": 9793891,
     "sourceType": "datasetVersion"
    },
    {
     "datasetId": 6012834,
     "sourceId": 9809037,
     "sourceType": "datasetVersion"
    }
   ],
   "dockerImageVersionId": 30559,
   "isGpuEnabled": true,
   "isInternetEnabled": true,
   "language": "python",
   "sourceType": "notebook"
  },
  "kernelspec": {
   "display_name": "Python 3",
   "language": "python",
   "name": "python3"
  },
  "language_info": {
   "codemirror_mode": {
    "name": "ipython",
    "version": 3
   },
   "file_extension": ".py",
   "mimetype": "text/x-python",
   "name": "python",
   "nbconvert_exporter": "python",
   "pygments_lexer": "ipython3",
   "version": "3.10.12"
  },
  "papermill": {
   "default_parameters": {},
   "duration": 1855.237262,
   "end_time": "2024-11-07T10:52:17.608658",
   "environment_variables": {},
   "exception": null,
   "input_path": "__notebook__.ipynb",
   "output_path": "__notebook__.ipynb",
   "parameters": {},
   "start_time": "2024-11-07T10:21:22.371396",
   "version": "2.4.0"
  },
  "widgets": {
   "application/vnd.jupyter.widget-state+json": {
    "state": {
     "00bb57a722424e1b88909d740172cbf5": {
      "model_module": "@jupyter-widgets/controls",
      "model_module_version": "1.5.0",
      "model_name": "HTMLModel",
      "state": {
       "_dom_classes": [],
       "_model_module": "@jupyter-widgets/controls",
       "_model_module_version": "1.5.0",
       "_model_name": "HTMLModel",
       "_view_count": null,
       "_view_module": "@jupyter-widgets/controls",
       "_view_module_version": "1.5.0",
       "_view_name": "HTMLView",
       "description": "",
       "description_tooltip": null,
       "layout": "IPY_MODEL_af1414c02e924e01b5df4cfa78204015",
       "placeholder": "​",
       "style": "IPY_MODEL_337eb19d7d13461088ca5d2f910b833e",
       "value": " 136/136 [00:20&lt;00:00,  6.77it/s]"
      }
     },
     "044f097b72e54b04864107b888716855": {
      "model_module": "@jupyter-widgets/base",
      "model_module_version": "1.2.0",
      "model_name": "LayoutModel",
      "state": {
       "_model_module": "@jupyter-widgets/base",
       "_model_module_version": "1.2.0",
       "_model_name": "LayoutModel",
       "_view_count": null,
       "_view_module": "@jupyter-widgets/base",
       "_view_module_version": "1.2.0",
       "_view_name": "LayoutView",
       "align_content": null,
       "align_items": null,
       "align_self": null,
       "border": null,
       "bottom": null,
       "display": null,
       "flex": "2",
       "flex_flow": null,
       "grid_area": null,
       "grid_auto_columns": null,
       "grid_auto_flow": null,
       "grid_auto_rows": null,
       "grid_column": null,
       "grid_gap": null,
       "grid_row": null,
       "grid_template_areas": null,
       "grid_template_columns": null,
       "grid_template_rows": null,
       "height": null,
       "justify_content": null,
       "justify_items": null,
       "left": null,
       "margin": null,
       "max_height": null,
       "max_width": null,
       "min_height": null,
       "min_width": null,
       "object_fit": null,
       "object_position": null,
       "order": null,
       "overflow": null,
       "overflow_x": null,
       "overflow_y": null,
       "padding": null,
       "right": null,
       "top": null,
       "visibility": null,
       "width": null
      }
     },
     "075acc2813474e1d8f102a0b419e587c": {
      "model_module": "@jupyter-widgets/base",
      "model_module_version": "1.2.0",
      "model_name": "LayoutModel",
      "state": {
       "_model_module": "@jupyter-widgets/base",
       "_model_module_version": "1.2.0",
       "_model_name": "LayoutModel",
       "_view_count": null,
       "_view_module": "@jupyter-widgets/base",
       "_view_module_version": "1.2.0",
       "_view_name": "LayoutView",
       "align_content": null,
       "align_items": null,
       "align_self": null,
       "border": null,
       "bottom": null,
       "display": null,
       "flex": null,
       "flex_flow": null,
       "grid_area": null,
       "grid_auto_columns": null,
       "grid_auto_flow": null,
       "grid_auto_rows": null,
       "grid_column": null,
       "grid_gap": null,
       "grid_row": null,
       "grid_template_areas": null,
       "grid_template_columns": null,
       "grid_template_rows": null,
       "height": null,
       "justify_content": null,
       "justify_items": null,
       "left": null,
       "margin": null,
       "max_height": null,
       "max_width": null,
       "min_height": null,
       "min_width": null,
       "object_fit": null,
       "object_position": null,
       "order": null,
       "overflow": null,
       "overflow_x": null,
       "overflow_y": null,
       "padding": null,
       "right": null,
       "top": null,
       "visibility": null,
       "width": null
      }
     },
     "09c2eaa519004284ab7a9ad2954223d0": {
      "model_module": "@jupyter-widgets/base",
      "model_module_version": "1.2.0",
      "model_name": "LayoutModel",
      "state": {
       "_model_module": "@jupyter-widgets/base",
       "_model_module_version": "1.2.0",
       "_model_name": "LayoutModel",
       "_view_count": null,
       "_view_module": "@jupyter-widgets/base",
       "_view_module_version": "1.2.0",
       "_view_name": "LayoutView",
       "align_content": null,
       "align_items": null,
       "align_self": null,
       "border": null,
       "bottom": null,
       "display": null,
       "flex": "2",
       "flex_flow": null,
       "grid_area": null,
       "grid_auto_columns": null,
       "grid_auto_flow": null,
       "grid_auto_rows": null,
       "grid_column": null,
       "grid_gap": null,
       "grid_row": null,
       "grid_template_areas": null,
       "grid_template_columns": null,
       "grid_template_rows": null,
       "height": null,
       "justify_content": null,
       "justify_items": null,
       "left": null,
       "margin": null,
       "max_height": null,
       "max_width": null,
       "min_height": null,
       "min_width": null,
       "object_fit": null,
       "object_position": null,
       "order": null,
       "overflow": null,
       "overflow_x": null,
       "overflow_y": null,
       "padding": null,
       "right": null,
       "top": null,
       "visibility": null,
       "width": null
      }
     },
     "0b14e63de3794716bd30087979d321e2": {
      "model_module": "@jupyter-widgets/controls",
      "model_module_version": "1.5.0",
      "model_name": "HTMLModel",
      "state": {
       "_dom_classes": [],
       "_model_module": "@jupyter-widgets/controls",
       "_model_module_version": "1.5.0",
       "_model_name": "HTMLModel",
       "_view_count": null,
       "_view_module": "@jupyter-widgets/controls",
       "_view_module_version": "1.5.0",
       "_view_name": "HTMLView",
       "description": "",
       "description_tooltip": null,
       "layout": "IPY_MODEL_b8a419ead8154ee1a81c8f6f4b8d950c",
       "placeholder": "​",
       "style": "IPY_MODEL_4357aada80d546678955c42233e2d361",
       "value": " 1081/1081 [00:22&lt;00:00, 48.66it/s]"
      }
     },
     "0cff67c4850c4dd7947424af0c702a9c": {
      "model_module": "@jupyter-widgets/controls",
      "model_module_version": "1.5.0",
      "model_name": "ProgressStyleModel",
      "state": {
       "_model_module": "@jupyter-widgets/controls",
       "_model_module_version": "1.5.0",
       "_model_name": "ProgressStyleModel",
       "_view_count": null,
       "_view_module": "@jupyter-widgets/base",
       "_view_module_version": "1.2.0",
       "_view_name": "StyleView",
       "bar_color": null,
       "description_width": ""
      }
     },
     "0fc4e7a5343c44bbb0fa9fe804561267": {
      "model_module": "@jupyter-widgets/base",
      "model_module_version": "1.2.0",
      "model_name": "LayoutModel",
      "state": {
       "_model_module": "@jupyter-widgets/base",
       "_model_module_version": "1.2.0",
       "_model_name": "LayoutModel",
       "_view_count": null,
       "_view_module": "@jupyter-widgets/base",
       "_view_module_version": "1.2.0",
       "_view_name": "LayoutView",
       "align_content": null,
       "align_items": null,
       "align_self": null,
       "border": null,
       "bottom": null,
       "display": null,
       "flex": null,
       "flex_flow": null,
       "grid_area": null,
       "grid_auto_columns": null,
       "grid_auto_flow": null,
       "grid_auto_rows": null,
       "grid_column": null,
       "grid_gap": null,
       "grid_row": null,
       "grid_template_areas": null,
       "grid_template_columns": null,
       "grid_template_rows": null,
       "height": null,
       "justify_content": null,
       "justify_items": null,
       "left": null,
       "margin": null,
       "max_height": null,
       "max_width": null,
       "min_height": null,
       "min_width": null,
       "object_fit": null,
       "object_position": null,
       "order": null,
       "overflow": null,
       "overflow_x": null,
       "overflow_y": null,
       "padding": null,
       "right": null,
       "top": null,
       "visibility": null,
       "width": null
      }
     },
     "0fdcf7b33ff146fe9f4aaa1212093683": {
      "model_module": "@jupyter-widgets/controls",
      "model_module_version": "1.5.0",
      "model_name": "HBoxModel",
      "state": {
       "_dom_classes": [],
       "_model_module": "@jupyter-widgets/controls",
       "_model_module_version": "1.5.0",
       "_model_name": "HBoxModel",
       "_view_count": null,
       "_view_module": "@jupyter-widgets/controls",
       "_view_module_version": "1.5.0",
       "_view_name": "HBoxView",
       "box_style": "",
       "children": [
        "IPY_MODEL_56cff98a71f544cf8828e15435247830",
        "IPY_MODEL_b3d26df1bbe243efb6740f4b4baee306",
        "IPY_MODEL_bc4e41d7c49642429a52793e599fafef"
       ],
       "layout": "IPY_MODEL_ddbc21daf9424bb3a0aa9f55bd87eae4"
      }
     },
     "0fe21f0735ea4754ae4002cb19070d38": {
      "model_module": "@jupyter-widgets/base",
      "model_module_version": "1.2.0",
      "model_name": "LayoutModel",
      "state": {
       "_model_module": "@jupyter-widgets/base",
       "_model_module_version": "1.2.0",
       "_model_name": "LayoutModel",
       "_view_count": null,
       "_view_module": "@jupyter-widgets/base",
       "_view_module_version": "1.2.0",
       "_view_name": "LayoutView",
       "align_content": null,
       "align_items": null,
       "align_self": null,
       "border": null,
       "bottom": null,
       "display": "inline-flex",
       "flex": null,
       "flex_flow": "row wrap",
       "grid_area": null,
       "grid_auto_columns": null,
       "grid_auto_flow": null,
       "grid_auto_rows": null,
       "grid_column": null,
       "grid_gap": null,
       "grid_row": null,
       "grid_template_areas": null,
       "grid_template_columns": null,
       "grid_template_rows": null,
       "height": null,
       "justify_content": null,
       "justify_items": null,
       "left": null,
       "margin": null,
       "max_height": null,
       "max_width": null,
       "min_height": null,
       "min_width": null,
       "object_fit": null,
       "object_position": null,
       "order": null,
       "overflow": null,
       "overflow_x": null,
       "overflow_y": null,
       "padding": null,
       "right": null,
       "top": null,
       "visibility": "hidden",
       "width": "100%"
      }
     },
     "11249f15221c4a9983d03ad3c9f150ab": {
      "model_module": "@jupyter-widgets/base",
      "model_module_version": "1.2.0",
      "model_name": "LayoutModel",
      "state": {
       "_model_module": "@jupyter-widgets/base",
       "_model_module_version": "1.2.0",
       "_model_name": "LayoutModel",
       "_view_count": null,
       "_view_module": "@jupyter-widgets/base",
       "_view_module_version": "1.2.0",
       "_view_name": "LayoutView",
       "align_content": null,
       "align_items": null,
       "align_self": null,
       "border": null,
       "bottom": null,
       "display": null,
       "flex": null,
       "flex_flow": null,
       "grid_area": null,
       "grid_auto_columns": null,
       "grid_auto_flow": null,
       "grid_auto_rows": null,
       "grid_column": null,
       "grid_gap": null,
       "grid_row": null,
       "grid_template_areas": null,
       "grid_template_columns": null,
       "grid_template_rows": null,
       "height": null,
       "justify_content": null,
       "justify_items": null,
       "left": null,
       "margin": null,
       "max_height": null,
       "max_width": null,
       "min_height": null,
       "min_width": null,
       "object_fit": null,
       "object_position": null,
       "order": null,
       "overflow": null,
       "overflow_x": null,
       "overflow_y": null,
       "padding": null,
       "right": null,
       "top": null,
       "visibility": null,
       "width": null
      }
     },
     "12ed11831a4b4e30b3bc218a0f1c38ba": {
      "model_module": "@jupyter-widgets/controls",
      "model_module_version": "1.5.0",
      "model_name": "ProgressStyleModel",
      "state": {
       "_model_module": "@jupyter-widgets/controls",
       "_model_module_version": "1.5.0",
       "_model_name": "ProgressStyleModel",
       "_view_count": null,
       "_view_module": "@jupyter-widgets/base",
       "_view_module_version": "1.2.0",
       "_view_name": "StyleView",
       "bar_color": null,
       "description_width": ""
      }
     },
     "185be64b45a1424680e7ea9b1a8b5fe5": {
      "model_module": "@jupyter-widgets/base",
      "model_module_version": "1.2.0",
      "model_name": "LayoutModel",
      "state": {
       "_model_module": "@jupyter-widgets/base",
       "_model_module_version": "1.2.0",
       "_model_name": "LayoutModel",
       "_view_count": null,
       "_view_module": "@jupyter-widgets/base",
       "_view_module_version": "1.2.0",
       "_view_name": "LayoutView",
       "align_content": null,
       "align_items": null,
       "align_self": null,
       "border": null,
       "bottom": null,
       "display": null,
       "flex": null,
       "flex_flow": null,
       "grid_area": null,
       "grid_auto_columns": null,
       "grid_auto_flow": null,
       "grid_auto_rows": null,
       "grid_column": null,
       "grid_gap": null,
       "grid_row": null,
       "grid_template_areas": null,
       "grid_template_columns": null,
       "grid_template_rows": null,
       "height": null,
       "justify_content": null,
       "justify_items": null,
       "left": null,
       "margin": null,
       "max_height": null,
       "max_width": null,
       "min_height": null,
       "min_width": null,
       "object_fit": null,
       "object_position": null,
       "order": null,
       "overflow": null,
       "overflow_x": null,
       "overflow_y": null,
       "padding": null,
       "right": null,
       "top": null,
       "visibility": null,
       "width": null
      }
     },
     "1a8031313ba044b4bd6442b16fd9f4f0": {
      "model_module": "@jupyter-widgets/controls",
      "model_module_version": "1.5.0",
      "model_name": "ProgressStyleModel",
      "state": {
       "_model_module": "@jupyter-widgets/controls",
       "_model_module_version": "1.5.0",
       "_model_name": "ProgressStyleModel",
       "_view_count": null,
       "_view_module": "@jupyter-widgets/base",
       "_view_module_version": "1.2.0",
       "_view_name": "StyleView",
       "bar_color": null,
       "description_width": ""
      }
     },
     "1cd941afdf954176b7751eecea824a63": {
      "model_module": "@jupyter-widgets/base",
      "model_module_version": "1.2.0",
      "model_name": "LayoutModel",
      "state": {
       "_model_module": "@jupyter-widgets/base",
       "_model_module_version": "1.2.0",
       "_model_name": "LayoutModel",
       "_view_count": null,
       "_view_module": "@jupyter-widgets/base",
       "_view_module_version": "1.2.0",
       "_view_name": "LayoutView",
       "align_content": null,
       "align_items": null,
       "align_self": null,
       "border": null,
       "bottom": null,
       "display": null,
       "flex": null,
       "flex_flow": null,
       "grid_area": null,
       "grid_auto_columns": null,
       "grid_auto_flow": null,
       "grid_auto_rows": null,
       "grid_column": null,
       "grid_gap": null,
       "grid_row": null,
       "grid_template_areas": null,
       "grid_template_columns": null,
       "grid_template_rows": null,
       "height": null,
       "justify_content": null,
       "justify_items": null,
       "left": null,
       "margin": null,
       "max_height": null,
       "max_width": null,
       "min_height": null,
       "min_width": null,
       "object_fit": null,
       "object_position": null,
       "order": null,
       "overflow": null,
       "overflow_x": null,
       "overflow_y": null,
       "padding": null,
       "right": null,
       "top": null,
       "visibility": null,
       "width": null
      }
     },
     "1d110b91611748f8891da644a21979e2": {
      "model_module": "@jupyter-widgets/base",
      "model_module_version": "1.2.0",
      "model_name": "LayoutModel",
      "state": {
       "_model_module": "@jupyter-widgets/base",
       "_model_module_version": "1.2.0",
       "_model_name": "LayoutModel",
       "_view_count": null,
       "_view_module": "@jupyter-widgets/base",
       "_view_module_version": "1.2.0",
       "_view_name": "LayoutView",
       "align_content": null,
       "align_items": null,
       "align_self": null,
       "border": null,
       "bottom": null,
       "display": "inline-flex",
       "flex": null,
       "flex_flow": "row wrap",
       "grid_area": null,
       "grid_auto_columns": null,
       "grid_auto_flow": null,
       "grid_auto_rows": null,
       "grid_column": null,
       "grid_gap": null,
       "grid_row": null,
       "grid_template_areas": null,
       "grid_template_columns": null,
       "grid_template_rows": null,
       "height": null,
       "justify_content": null,
       "justify_items": null,
       "left": null,
       "margin": null,
       "max_height": null,
       "max_width": null,
       "min_height": null,
       "min_width": null,
       "object_fit": null,
       "object_position": null,
       "order": null,
       "overflow": null,
       "overflow_x": null,
       "overflow_y": null,
       "padding": null,
       "right": null,
       "top": null,
       "visibility": "hidden",
       "width": "100%"
      }
     },
     "1dec4daa110444609dabdb4658cb0246": {
      "model_module": "@jupyter-widgets/controls",
      "model_module_version": "1.5.0",
      "model_name": "DescriptionStyleModel",
      "state": {
       "_model_module": "@jupyter-widgets/controls",
       "_model_module_version": "1.5.0",
       "_model_name": "DescriptionStyleModel",
       "_view_count": null,
       "_view_module": "@jupyter-widgets/base",
       "_view_module_version": "1.2.0",
       "_view_name": "StyleView",
       "description_width": ""
      }
     },
     "1fdeb7555f25489ea1d0abc90be85b7e": {
      "model_module": "@jupyter-widgets/controls",
      "model_module_version": "1.5.0",
      "model_name": "HTMLModel",
      "state": {
       "_dom_classes": [],
       "_model_module": "@jupyter-widgets/controls",
       "_model_module_version": "1.5.0",
       "_model_name": "HTMLModel",
       "_view_count": null,
       "_view_module": "@jupyter-widgets/controls",
       "_view_module_version": "1.5.0",
       "_view_name": "HTMLView",
       "description": "",
       "description_tooltip": null,
       "layout": "IPY_MODEL_1cd941afdf954176b7751eecea824a63",
       "placeholder": "​",
       "style": "IPY_MODEL_fcf8f4092cde4c0a9b57c83a03a3fce3",
       "value": "Validation DataLoader 0: 100%"
      }
     },
     "2091df7d65c446a7a67da91eae4a5899": {
      "model_module": "@jupyter-widgets/controls",
      "model_module_version": "1.5.0",
      "model_name": "HBoxModel",
      "state": {
       "_dom_classes": [],
       "_model_module": "@jupyter-widgets/controls",
       "_model_module_version": "1.5.0",
       "_model_name": "HBoxModel",
       "_view_count": null,
       "_view_module": "@jupyter-widgets/controls",
       "_view_module_version": "1.5.0",
       "_view_name": "HBoxView",
       "box_style": "",
       "children": [
        "IPY_MODEL_3d11240fd8e1405e918d4f61449c56a5",
        "IPY_MODEL_6d03b0521f5143fe896e2654bd39bbca",
        "IPY_MODEL_3ec53391157b4ab3bb35d24d2ba1ce00"
       ],
       "layout": "IPY_MODEL_c74667148aa14bb6af3b28e9c9c599bf"
      }
     },
     "24ce94b6bdfe408b95f7d65145e4f0a1": {
      "model_module": "@jupyter-widgets/controls",
      "model_module_version": "1.5.0",
      "model_name": "DescriptionStyleModel",
      "state": {
       "_model_module": "@jupyter-widgets/controls",
       "_model_module_version": "1.5.0",
       "_model_name": "DescriptionStyleModel",
       "_view_count": null,
       "_view_module": "@jupyter-widgets/base",
       "_view_module_version": "1.2.0",
       "_view_name": "StyleView",
       "description_width": ""
      }
     },
     "2c7437ef736b4380985f27f60a679394": {
      "model_module": "@jupyter-widgets/base",
      "model_module_version": "1.2.0",
      "model_name": "LayoutModel",
      "state": {
       "_model_module": "@jupyter-widgets/base",
       "_model_module_version": "1.2.0",
       "_model_name": "LayoutModel",
       "_view_count": null,
       "_view_module": "@jupyter-widgets/base",
       "_view_module_version": "1.2.0",
       "_view_name": "LayoutView",
       "align_content": null,
       "align_items": null,
       "align_self": null,
       "border": null,
       "bottom": null,
       "display": "inline-flex",
       "flex": null,
       "flex_flow": "row wrap",
       "grid_area": null,
       "grid_auto_columns": null,
       "grid_auto_flow": null,
       "grid_auto_rows": null,
       "grid_column": null,
       "grid_gap": null,
       "grid_row": null,
       "grid_template_areas": null,
       "grid_template_columns": null,
       "grid_template_rows": null,
       "height": null,
       "justify_content": null,
       "justify_items": null,
       "left": null,
       "margin": null,
       "max_height": null,
       "max_width": null,
       "min_height": null,
       "min_width": null,
       "object_fit": null,
       "object_position": null,
       "order": null,
       "overflow": null,
       "overflow_x": null,
       "overflow_y": null,
       "padding": null,
       "right": null,
       "top": null,
       "visibility": "hidden",
       "width": "100%"
      }
     },
     "2ded272077b54ca4b096c4579a09fee4": {
      "model_module": "@jupyter-widgets/controls",
      "model_module_version": "1.5.0",
      "model_name": "FloatProgressModel",
      "state": {
       "_dom_classes": [],
       "_model_module": "@jupyter-widgets/controls",
       "_model_module_version": "1.5.0",
       "_model_name": "FloatProgressModel",
       "_view_count": null,
       "_view_module": "@jupyter-widgets/controls",
       "_view_module_version": "1.5.0",
       "_view_name": "ProgressView",
       "bar_style": "",
       "description": "",
       "description_tooltip": null,
       "layout": "IPY_MODEL_437eaff77f89489b8011968718da1d10",
       "max": 136.0,
       "min": 0.0,
       "orientation": "horizontal",
       "style": "IPY_MODEL_49debf8d5d2c48399977417af756c31e",
       "value": 136.0
      }
     },
     "2df7f1d3ee0f4664ad2d663961b52b7c": {
      "model_module": "@jupyter-widgets/controls",
      "model_module_version": "1.5.0",
      "model_name": "HTMLModel",
      "state": {
       "_dom_classes": [],
       "_model_module": "@jupyter-widgets/controls",
       "_model_module_version": "1.5.0",
       "_model_name": "HTMLModel",
       "_view_count": null,
       "_view_module": "@jupyter-widgets/controls",
       "_view_module_version": "1.5.0",
       "_view_name": "HTMLView",
       "description": "",
       "description_tooltip": null,
       "layout": "IPY_MODEL_b12786a98dad40d7a9f8422c38e6da37",
       "placeholder": "​",
       "style": "IPY_MODEL_3f9760306234446bb9f4a150cc955b13",
       "value": "Validation DataLoader 0: 100%"
      }
     },
     "30b980d7503c455696624c08a99c4177": {
      "model_module": "@jupyter-widgets/controls",
      "model_module_version": "1.5.0",
      "model_name": "HBoxModel",
      "state": {
       "_dom_classes": [],
       "_model_module": "@jupyter-widgets/controls",
       "_model_module_version": "1.5.0",
       "_model_name": "HBoxModel",
       "_view_count": null,
       "_view_module": "@jupyter-widgets/controls",
       "_view_module_version": "1.5.0",
       "_view_name": "HBoxView",
       "box_style": "",
       "children": [
        "IPY_MODEL_a665b634f128494298a4689d1c29afea",
        "IPY_MODEL_32a8ac122ed04ef989f534aa7864c111",
        "IPY_MODEL_f7ed8ba7146c4b7a9cf2c9deb4ff68c7"
       ],
       "layout": "IPY_MODEL_d7fafed6ae13460ca28a7b092acde385"
      }
     },
     "32a8ac122ed04ef989f534aa7864c111": {
      "model_module": "@jupyter-widgets/controls",
      "model_module_version": "1.5.0",
      "model_name": "FloatProgressModel",
      "state": {
       "_dom_classes": [],
       "_model_module": "@jupyter-widgets/controls",
       "_model_module_version": "1.5.0",
       "_model_name": "FloatProgressModel",
       "_view_count": null,
       "_view_module": "@jupyter-widgets/controls",
       "_view_module_version": "1.5.0",
       "_view_name": "ProgressView",
       "bar_style": "success",
       "description": "",
       "description_tooltip": null,
       "layout": "IPY_MODEL_bdfe8a56991641debb2c2482b449d53f",
       "max": 1216.0,
       "min": 0.0,
       "orientation": "horizontal",
       "style": "IPY_MODEL_12ed11831a4b4e30b3bc218a0f1c38ba",
       "value": 1216.0
      }
     },
     "337eb19d7d13461088ca5d2f910b833e": {
      "model_module": "@jupyter-widgets/controls",
      "model_module_version": "1.5.0",
      "model_name": "DescriptionStyleModel",
      "state": {
       "_model_module": "@jupyter-widgets/controls",
       "_model_module_version": "1.5.0",
       "_model_name": "DescriptionStyleModel",
       "_view_count": null,
       "_view_module": "@jupyter-widgets/base",
       "_view_module_version": "1.2.0",
       "_view_name": "StyleView",
       "description_width": ""
      }
     },
     "3402f5fc304241a7804ae94d1e23be51": {
      "model_module": "@jupyter-widgets/controls",
      "model_module_version": "1.5.0",
      "model_name": "ProgressStyleModel",
      "state": {
       "_model_module": "@jupyter-widgets/controls",
       "_model_module_version": "1.5.0",
       "_model_name": "ProgressStyleModel",
       "_view_count": null,
       "_view_module": "@jupyter-widgets/base",
       "_view_module_version": "1.2.0",
       "_view_name": "StyleView",
       "bar_color": null,
       "description_width": ""
      }
     },
     "342be2fdbe524216b24d8bd4dd6ac59a": {
      "model_module": "@jupyter-widgets/controls",
      "model_module_version": "1.5.0",
      "model_name": "ProgressStyleModel",
      "state": {
       "_model_module": "@jupyter-widgets/controls",
       "_model_module_version": "1.5.0",
       "_model_name": "ProgressStyleModel",
       "_view_count": null,
       "_view_module": "@jupyter-widgets/base",
       "_view_module_version": "1.2.0",
       "_view_name": "StyleView",
       "bar_color": null,
       "description_width": ""
      }
     },
     "344bb9b3299c42b5bd2da93f983433cd": {
      "model_module": "@jupyter-widgets/controls",
      "model_module_version": "1.5.0",
      "model_name": "DescriptionStyleModel",
      "state": {
       "_model_module": "@jupyter-widgets/controls",
       "_model_module_version": "1.5.0",
       "_model_name": "DescriptionStyleModel",
       "_view_count": null,
       "_view_module": "@jupyter-widgets/base",
       "_view_module_version": "1.2.0",
       "_view_name": "StyleView",
       "description_width": ""
      }
     },
     "3cbe763ec14d47ff8e3672442bff34c3": {
      "model_module": "@jupyter-widgets/controls",
      "model_module_version": "1.5.0",
      "model_name": "HTMLModel",
      "state": {
       "_dom_classes": [],
       "_model_module": "@jupyter-widgets/controls",
       "_model_module_version": "1.5.0",
       "_model_name": "HTMLModel",
       "_view_count": null,
       "_view_module": "@jupyter-widgets/controls",
       "_view_module_version": "1.5.0",
       "_view_name": "HTMLView",
       "description": "",
       "description_tooltip": null,
       "layout": "IPY_MODEL_c098bd668fcb456abc8f5910a1db51ab",
       "placeholder": "​",
       "style": "IPY_MODEL_f6dfe057cc7c40e28794da9703a11bbd",
       "value": " 136/136 [00:20&lt;00:00,  6.77it/s]"
      }
     },
     "3d11240fd8e1405e918d4f61449c56a5": {
      "model_module": "@jupyter-widgets/controls",
      "model_module_version": "1.5.0",
      "model_name": "HTMLModel",
      "state": {
       "_dom_classes": [],
       "_model_module": "@jupyter-widgets/controls",
       "_model_module_version": "1.5.0",
       "_model_name": "HTMLModel",
       "_view_count": null,
       "_view_module": "@jupyter-widgets/controls",
       "_view_module_version": "1.5.0",
       "_view_name": "HTMLView",
       "description": "",
       "description_tooltip": null,
       "layout": "IPY_MODEL_dca54005d7524145a04e0cefae3ba504",
       "placeholder": "​",
       "style": "IPY_MODEL_f40c9e1026714b909b6fbc5d5f7ef702",
       "value": "Downloading config.json: 100%"
      }
     },
     "3db5c603e5874830a7a9e30f0688e042": {
      "model_module": "@jupyter-widgets/controls",
      "model_module_version": "1.5.0",
      "model_name": "ProgressStyleModel",
      "state": {
       "_model_module": "@jupyter-widgets/controls",
       "_model_module_version": "1.5.0",
       "_model_name": "ProgressStyleModel",
       "_view_count": null,
       "_view_module": "@jupyter-widgets/base",
       "_view_module_version": "1.2.0",
       "_view_name": "StyleView",
       "bar_color": null,
       "description_width": ""
      }
     },
     "3e1427272afb4adab340feeff7087182": {
      "model_module": "@jupyter-widgets/controls",
      "model_module_version": "1.5.0",
      "model_name": "DescriptionStyleModel",
      "state": {
       "_model_module": "@jupyter-widgets/controls",
       "_model_module_version": "1.5.0",
       "_model_name": "DescriptionStyleModel",
       "_view_count": null,
       "_view_module": "@jupyter-widgets/base",
       "_view_module_version": "1.2.0",
       "_view_name": "StyleView",
       "description_width": ""
      }
     },
     "3ec53391157b4ab3bb35d24d2ba1ce00": {
      "model_module": "@jupyter-widgets/controls",
      "model_module_version": "1.5.0",
      "model_name": "HTMLModel",
      "state": {
       "_dom_classes": [],
       "_model_module": "@jupyter-widgets/controls",
       "_model_module_version": "1.5.0",
       "_model_name": "HTMLModel",
       "_view_count": null,
       "_view_module": "@jupyter-widgets/controls",
       "_view_module_version": "1.5.0",
       "_view_name": "HTMLView",
       "description": "",
       "description_tooltip": null,
       "layout": "IPY_MODEL_0fc4e7a5343c44bbb0fa9fe804561267",
       "placeholder": "​",
       "style": "IPY_MODEL_e771d3ac594046ffaff998b2fcd71de5",
       "value": " 631/631 [00:00&lt;00:00, 46.9kB/s]"
      }
     },
     "3f9760306234446bb9f4a150cc955b13": {
      "model_module": "@jupyter-widgets/controls",
      "model_module_version": "1.5.0",
      "model_name": "DescriptionStyleModel",
      "state": {
       "_model_module": "@jupyter-widgets/controls",
       "_model_module_version": "1.5.0",
       "_model_name": "DescriptionStyleModel",
       "_view_count": null,
       "_view_module": "@jupyter-widgets/base",
       "_view_module_version": "1.2.0",
       "_view_name": "StyleView",
       "description_width": ""
      }
     },
     "41a4a504c7414253a02fc0022a12b179": {
      "model_module": "@jupyter-widgets/controls",
      "model_module_version": "1.5.0",
      "model_name": "HBoxModel",
      "state": {
       "_dom_classes": [],
       "_model_module": "@jupyter-widgets/controls",
       "_model_module_version": "1.5.0",
       "_model_name": "HBoxModel",
       "_view_count": null,
       "_view_module": "@jupyter-widgets/controls",
       "_view_module_version": "1.5.0",
       "_view_name": "HBoxView",
       "box_style": "",
       "children": [
        "IPY_MODEL_1fdeb7555f25489ea1d0abc90be85b7e",
        "IPY_MODEL_5671d2b8624f4728939cfd3af25110e7",
        "IPY_MODEL_3cbe763ec14d47ff8e3672442bff34c3"
       ],
       "layout": "IPY_MODEL_2c7437ef736b4380985f27f60a679394"
      }
     },
     "4357aada80d546678955c42233e2d361": {
      "model_module": "@jupyter-widgets/controls",
      "model_module_version": "1.5.0",
      "model_name": "DescriptionStyleModel",
      "state": {
       "_model_module": "@jupyter-widgets/controls",
       "_model_module_version": "1.5.0",
       "_model_name": "DescriptionStyleModel",
       "_view_count": null,
       "_view_module": "@jupyter-widgets/base",
       "_view_module_version": "1.2.0",
       "_view_name": "StyleView",
       "description_width": ""
      }
     },
     "437eaff77f89489b8011968718da1d10": {
      "model_module": "@jupyter-widgets/base",
      "model_module_version": "1.2.0",
      "model_name": "LayoutModel",
      "state": {
       "_model_module": "@jupyter-widgets/base",
       "_model_module_version": "1.2.0",
       "_model_name": "LayoutModel",
       "_view_count": null,
       "_view_module": "@jupyter-widgets/base",
       "_view_module_version": "1.2.0",
       "_view_name": "LayoutView",
       "align_content": null,
       "align_items": null,
       "align_self": null,
       "border": null,
       "bottom": null,
       "display": null,
       "flex": "2",
       "flex_flow": null,
       "grid_area": null,
       "grid_auto_columns": null,
       "grid_auto_flow": null,
       "grid_auto_rows": null,
       "grid_column": null,
       "grid_gap": null,
       "grid_row": null,
       "grid_template_areas": null,
       "grid_template_columns": null,
       "grid_template_rows": null,
       "height": null,
       "justify_content": null,
       "justify_items": null,
       "left": null,
       "margin": null,
       "max_height": null,
       "max_width": null,
       "min_height": null,
       "min_width": null,
       "object_fit": null,
       "object_position": null,
       "order": null,
       "overflow": null,
       "overflow_x": null,
       "overflow_y": null,
       "padding": null,
       "right": null,
       "top": null,
       "visibility": null,
       "width": null
      }
     },
     "46cb3c4283754fa290935572950d7842": {
      "model_module": "@jupyter-widgets/base",
      "model_module_version": "1.2.0",
      "model_name": "LayoutModel",
      "state": {
       "_model_module": "@jupyter-widgets/base",
       "_model_module_version": "1.2.0",
       "_model_name": "LayoutModel",
       "_view_count": null,
       "_view_module": "@jupyter-widgets/base",
       "_view_module_version": "1.2.0",
       "_view_name": "LayoutView",
       "align_content": null,
       "align_items": null,
       "align_self": null,
       "border": null,
       "bottom": null,
       "display": null,
       "flex": null,
       "flex_flow": null,
       "grid_area": null,
       "grid_auto_columns": null,
       "grid_auto_flow": null,
       "grid_auto_rows": null,
       "grid_column": null,
       "grid_gap": null,
       "grid_row": null,
       "grid_template_areas": null,
       "grid_template_columns": null,
       "grid_template_rows": null,
       "height": null,
       "justify_content": null,
       "justify_items": null,
       "left": null,
       "margin": null,
       "max_height": null,
       "max_width": null,
       "min_height": null,
       "min_width": null,
       "object_fit": null,
       "object_position": null,
       "order": null,
       "overflow": null,
       "overflow_x": null,
       "overflow_y": null,
       "padding": null,
       "right": null,
       "top": null,
       "visibility": null,
       "width": null
      }
     },
     "47b15d52fd7a4cb8a95301e3c8ec37fa": {
      "model_module": "@jupyter-widgets/controls",
      "model_module_version": "1.5.0",
      "model_name": "HTMLModel",
      "state": {
       "_dom_classes": [],
       "_model_module": "@jupyter-widgets/controls",
       "_model_module_version": "1.5.0",
       "_model_name": "HTMLModel",
       "_view_count": null,
       "_view_module": "@jupyter-widgets/controls",
       "_view_module_version": "1.5.0",
       "_view_name": "HTMLView",
       "description": "",
       "description_tooltip": null,
       "layout": "IPY_MODEL_f0503de91cc74ab38bfffb6390aa83da",
       "placeholder": "​",
       "style": "IPY_MODEL_ae4dd88d5aa241ed9a7d0f426535ff90",
       "value": " 136/136 [00:20&lt;00:00,  6.76it/s]"
      }
     },
     "49debf8d5d2c48399977417af756c31e": {
      "model_module": "@jupyter-widgets/controls",
      "model_module_version": "1.5.0",
      "model_name": "ProgressStyleModel",
      "state": {
       "_model_module": "@jupyter-widgets/controls",
       "_model_module_version": "1.5.0",
       "_model_name": "ProgressStyleModel",
       "_view_count": null,
       "_view_module": "@jupyter-widgets/base",
       "_view_module_version": "1.2.0",
       "_view_name": "StyleView",
       "bar_color": null,
       "description_width": ""
      }
     },
     "5173cc0b433e45f9bea4a5d7f780ecec": {
      "model_module": "@jupyter-widgets/base",
      "model_module_version": "1.2.0",
      "model_name": "LayoutModel",
      "state": {
       "_model_module": "@jupyter-widgets/base",
       "_model_module_version": "1.2.0",
       "_model_name": "LayoutModel",
       "_view_count": null,
       "_view_module": "@jupyter-widgets/base",
       "_view_module_version": "1.2.0",
       "_view_name": "LayoutView",
       "align_content": null,
       "align_items": null,
       "align_self": null,
       "border": null,
       "bottom": null,
       "display": null,
       "flex": null,
       "flex_flow": null,
       "grid_area": null,
       "grid_auto_columns": null,
       "grid_auto_flow": null,
       "grid_auto_rows": null,
       "grid_column": null,
       "grid_gap": null,
       "grid_row": null,
       "grid_template_areas": null,
       "grid_template_columns": null,
       "grid_template_rows": null,
       "height": null,
       "justify_content": null,
       "justify_items": null,
       "left": null,
       "margin": null,
       "max_height": null,
       "max_width": null,
       "min_height": null,
       "min_width": null,
       "object_fit": null,
       "object_position": null,
       "order": null,
       "overflow": null,
       "overflow_x": null,
       "overflow_y": null,
       "padding": null,
       "right": null,
       "top": null,
       "visibility": null,
       "width": null
      }
     },
     "53326e0f16f0446d873ee4b7e4f80077": {
      "model_module": "@jupyter-widgets/base",
      "model_module_version": "1.2.0",
      "model_name": "LayoutModel",
      "state": {
       "_model_module": "@jupyter-widgets/base",
       "_model_module_version": "1.2.0",
       "_model_name": "LayoutModel",
       "_view_count": null,
       "_view_module": "@jupyter-widgets/base",
       "_view_module_version": "1.2.0",
       "_view_name": "LayoutView",
       "align_content": null,
       "align_items": null,
       "align_self": null,
       "border": null,
       "bottom": null,
       "display": null,
       "flex": null,
       "flex_flow": null,
       "grid_area": null,
       "grid_auto_columns": null,
       "grid_auto_flow": null,
       "grid_auto_rows": null,
       "grid_column": null,
       "grid_gap": null,
       "grid_row": null,
       "grid_template_areas": null,
       "grid_template_columns": null,
       "grid_template_rows": null,
       "height": null,
       "justify_content": null,
       "justify_items": null,
       "left": null,
       "margin": null,
       "max_height": null,
       "max_width": null,
       "min_height": null,
       "min_width": null,
       "object_fit": null,
       "object_position": null,
       "order": null,
       "overflow": null,
       "overflow_x": null,
       "overflow_y": null,
       "padding": null,
       "right": null,
       "top": null,
       "visibility": null,
       "width": null
      }
     },
     "564f4698e4bb459f9e90408b78ca0ce4": {
      "model_module": "@jupyter-widgets/base",
      "model_module_version": "1.2.0",
      "model_name": "LayoutModel",
      "state": {
       "_model_module": "@jupyter-widgets/base",
       "_model_module_version": "1.2.0",
       "_model_name": "LayoutModel",
       "_view_count": null,
       "_view_module": "@jupyter-widgets/base",
       "_view_module_version": "1.2.0",
       "_view_name": "LayoutView",
       "align_content": null,
       "align_items": null,
       "align_self": null,
       "border": null,
       "bottom": null,
       "display": null,
       "flex": null,
       "flex_flow": null,
       "grid_area": null,
       "grid_auto_columns": null,
       "grid_auto_flow": null,
       "grid_auto_rows": null,
       "grid_column": null,
       "grid_gap": null,
       "grid_row": null,
       "grid_template_areas": null,
       "grid_template_columns": null,
       "grid_template_rows": null,
       "height": null,
       "justify_content": null,
       "justify_items": null,
       "left": null,
       "margin": null,
       "max_height": null,
       "max_width": null,
       "min_height": null,
       "min_width": null,
       "object_fit": null,
       "object_position": null,
       "order": null,
       "overflow": null,
       "overflow_x": null,
       "overflow_y": null,
       "padding": null,
       "right": null,
       "top": null,
       "visibility": null,
       "width": null
      }
     },
     "5671d2b8624f4728939cfd3af25110e7": {
      "model_module": "@jupyter-widgets/controls",
      "model_module_version": "1.5.0",
      "model_name": "FloatProgressModel",
      "state": {
       "_dom_classes": [],
       "_model_module": "@jupyter-widgets/controls",
       "_model_module_version": "1.5.0",
       "_model_name": "FloatProgressModel",
       "_view_count": null,
       "_view_module": "@jupyter-widgets/controls",
       "_view_module_version": "1.5.0",
       "_view_name": "ProgressView",
       "bar_style": "",
       "description": "",
       "description_tooltip": null,
       "layout": "IPY_MODEL_668ff4150352497ca071d7dfc6d8f968",
       "max": 136.0,
       "min": 0.0,
       "orientation": "horizontal",
       "style": "IPY_MODEL_3db5c603e5874830a7a9e30f0688e042",
       "value": 136.0
      }
     },
     "56cff98a71f544cf8828e15435247830": {
      "model_module": "@jupyter-widgets/controls",
      "model_module_version": "1.5.0",
      "model_name": "HTMLModel",
      "state": {
       "_dom_classes": [],
       "_model_module": "@jupyter-widgets/controls",
       "_model_module_version": "1.5.0",
       "_model_name": "HTMLModel",
       "_view_count": null,
       "_view_module": "@jupyter-widgets/controls",
       "_view_module_version": "1.5.0",
       "_view_name": "HTMLView",
       "description": "",
       "description_tooltip": null,
       "layout": "IPY_MODEL_aa7b2436cf7a4f2ba0c4e5daa09b2dcc",
       "placeholder": "​",
       "style": "IPY_MODEL_f07a1394848f4e15bb5a09ec1b538017",
       "value": "Downloading (…)tencepiece.bpe.model: 100%"
      }
     },
     "59d84195661745719986036161bafb74": {
      "model_module": "@jupyter-widgets/controls",
      "model_module_version": "1.5.0",
      "model_name": "HBoxModel",
      "state": {
       "_dom_classes": [],
       "_model_module": "@jupyter-widgets/controls",
       "_model_module_version": "1.5.0",
       "_model_name": "HBoxModel",
       "_view_count": null,
       "_view_module": "@jupyter-widgets/controls",
       "_view_module_version": "1.5.0",
       "_view_name": "HBoxView",
       "box_style": "",
       "children": [
        "IPY_MODEL_b0c0476a8de5419b9bb964b118316716",
        "IPY_MODEL_ac4daba3a8b24faa9324941e0f4c22f0",
        "IPY_MODEL_0b14e63de3794716bd30087979d321e2"
       ],
       "layout": "IPY_MODEL_185be64b45a1424680e7ea9b1a8b5fe5"
      }
     },
     "668ff4150352497ca071d7dfc6d8f968": {
      "model_module": "@jupyter-widgets/base",
      "model_module_version": "1.2.0",
      "model_name": "LayoutModel",
      "state": {
       "_model_module": "@jupyter-widgets/base",
       "_model_module_version": "1.2.0",
       "_model_name": "LayoutModel",
       "_view_count": null,
       "_view_module": "@jupyter-widgets/base",
       "_view_module_version": "1.2.0",
       "_view_name": "LayoutView",
       "align_content": null,
       "align_items": null,
       "align_self": null,
       "border": null,
       "bottom": null,
       "display": null,
       "flex": "2",
       "flex_flow": null,
       "grid_area": null,
       "grid_auto_columns": null,
       "grid_auto_flow": null,
       "grid_auto_rows": null,
       "grid_column": null,
       "grid_gap": null,
       "grid_row": null,
       "grid_template_areas": null,
       "grid_template_columns": null,
       "grid_template_rows": null,
       "height": null,
       "justify_content": null,
       "justify_items": null,
       "left": null,
       "margin": null,
       "max_height": null,
       "max_width": null,
       "min_height": null,
       "min_width": null,
       "object_fit": null,
       "object_position": null,
       "order": null,
       "overflow": null,
       "overflow_x": null,
       "overflow_y": null,
       "padding": null,
       "right": null,
       "top": null,
       "visibility": null,
       "width": null
      }
     },
     "6b98047e0e2b42859fd7efdc55d8db4c": {
      "model_module": "@jupyter-widgets/controls",
      "model_module_version": "1.5.0",
      "model_name": "DescriptionStyleModel",
      "state": {
       "_model_module": "@jupyter-widgets/controls",
       "_model_module_version": "1.5.0",
       "_model_name": "DescriptionStyleModel",
       "_view_count": null,
       "_view_module": "@jupyter-widgets/base",
       "_view_module_version": "1.2.0",
       "_view_name": "StyleView",
       "description_width": ""
      }
     },
     "6baa20e3d329429a8ba73197561a500c": {
      "model_module": "@jupyter-widgets/controls",
      "model_module_version": "1.5.0",
      "model_name": "ProgressStyleModel",
      "state": {
       "_model_module": "@jupyter-widgets/controls",
       "_model_module_version": "1.5.0",
       "_model_name": "ProgressStyleModel",
       "_view_count": null,
       "_view_module": "@jupyter-widgets/base",
       "_view_module_version": "1.2.0",
       "_view_name": "StyleView",
       "bar_color": null,
       "description_width": ""
      }
     },
     "6d03b0521f5143fe896e2654bd39bbca": {
      "model_module": "@jupyter-widgets/controls",
      "model_module_version": "1.5.0",
      "model_name": "FloatProgressModel",
      "state": {
       "_dom_classes": [],
       "_model_module": "@jupyter-widgets/controls",
       "_model_module_version": "1.5.0",
       "_model_name": "FloatProgressModel",
       "_view_count": null,
       "_view_module": "@jupyter-widgets/controls",
       "_view_module_version": "1.5.0",
       "_view_name": "ProgressView",
       "bar_style": "success",
       "description": "",
       "description_tooltip": null,
       "layout": "IPY_MODEL_7c22b8b3dea14d8f924c15634e3addf8",
       "max": 631.0,
       "min": 0.0,
       "orientation": "horizontal",
       "style": "IPY_MODEL_8e73f1f3d26b4138bb4bde4577b2107c",
       "value": 631.0
      }
     },
     "6eaa38131f064f32b6d98d02b31e5713": {
      "model_module": "@jupyter-widgets/base",
      "model_module_version": "1.2.0",
      "model_name": "LayoutModel",
      "state": {
       "_model_module": "@jupyter-widgets/base",
       "_model_module_version": "1.2.0",
       "_model_name": "LayoutModel",
       "_view_count": null,
       "_view_module": "@jupyter-widgets/base",
       "_view_module_version": "1.2.0",
       "_view_name": "LayoutView",
       "align_content": null,
       "align_items": null,
       "align_self": null,
       "border": null,
       "bottom": null,
       "display": null,
       "flex": null,
       "flex_flow": null,
       "grid_area": null,
       "grid_auto_columns": null,
       "grid_auto_flow": null,
       "grid_auto_rows": null,
       "grid_column": null,
       "grid_gap": null,
       "grid_row": null,
       "grid_template_areas": null,
       "grid_template_columns": null,
       "grid_template_rows": null,
       "height": null,
       "justify_content": null,
       "justify_items": null,
       "left": null,
       "margin": null,
       "max_height": null,
       "max_width": null,
       "min_height": null,
       "min_width": null,
       "object_fit": null,
       "object_position": null,
       "order": null,
       "overflow": null,
       "overflow_x": null,
       "overflow_y": null,
       "padding": null,
       "right": null,
       "top": null,
       "visibility": null,
       "width": null
      }
     },
     "728a570a436e467ab12bc1eb6431a9dc": {
      "model_module": "@jupyter-widgets/base",
      "model_module_version": "1.2.0",
      "model_name": "LayoutModel",
      "state": {
       "_model_module": "@jupyter-widgets/base",
       "_model_module_version": "1.2.0",
       "_model_name": "LayoutModel",
       "_view_count": null,
       "_view_module": "@jupyter-widgets/base",
       "_view_module_version": "1.2.0",
       "_view_name": "LayoutView",
       "align_content": null,
       "align_items": null,
       "align_self": null,
       "border": null,
       "bottom": null,
       "display": null,
       "flex": null,
       "flex_flow": null,
       "grid_area": null,
       "grid_auto_columns": null,
       "grid_auto_flow": null,
       "grid_auto_rows": null,
       "grid_column": null,
       "grid_gap": null,
       "grid_row": null,
       "grid_template_areas": null,
       "grid_template_columns": null,
       "grid_template_rows": null,
       "height": null,
       "justify_content": null,
       "justify_items": null,
       "left": null,
       "margin": null,
       "max_height": null,
       "max_width": null,
       "min_height": null,
       "min_width": null,
       "object_fit": null,
       "object_position": null,
       "order": null,
       "overflow": null,
       "overflow_x": null,
       "overflow_y": null,
       "padding": null,
       "right": null,
       "top": null,
       "visibility": null,
       "width": null
      }
     },
     "7335be7ec6bd4124ac19ef119cb7428c": {
      "model_module": "@jupyter-widgets/base",
      "model_module_version": "1.2.0",
      "model_name": "LayoutModel",
      "state": {
       "_model_module": "@jupyter-widgets/base",
       "_model_module_version": "1.2.0",
       "_model_name": "LayoutModel",
       "_view_count": null,
       "_view_module": "@jupyter-widgets/base",
       "_view_module_version": "1.2.0",
       "_view_name": "LayoutView",
       "align_content": null,
       "align_items": null,
       "align_self": null,
       "border": null,
       "bottom": null,
       "display": null,
       "flex": null,
       "flex_flow": null,
       "grid_area": null,
       "grid_auto_columns": null,
       "grid_auto_flow": null,
       "grid_auto_rows": null,
       "grid_column": null,
       "grid_gap": null,
       "grid_row": null,
       "grid_template_areas": null,
       "grid_template_columns": null,
       "grid_template_rows": null,
       "height": null,
       "justify_content": null,
       "justify_items": null,
       "left": null,
       "margin": null,
       "max_height": null,
       "max_width": null,
       "min_height": null,
       "min_width": null,
       "object_fit": null,
       "object_position": null,
       "order": null,
       "overflow": null,
       "overflow_x": null,
       "overflow_y": null,
       "padding": null,
       "right": null,
       "top": null,
       "visibility": null,
       "width": null
      }
     },
     "751035c915774dc3a9949eecfb2a86b8": {
      "model_module": "@jupyter-widgets/controls",
      "model_module_version": "1.5.0",
      "model_name": "DescriptionStyleModel",
      "state": {
       "_model_module": "@jupyter-widgets/controls",
       "_model_module_version": "1.5.0",
       "_model_name": "DescriptionStyleModel",
       "_view_count": null,
       "_view_module": "@jupyter-widgets/base",
       "_view_module_version": "1.2.0",
       "_view_name": "StyleView",
       "description_width": ""
      }
     },
     "7560c363136743fe9a0758b251b14fdf": {
      "model_module": "@jupyter-widgets/controls",
      "model_module_version": "1.5.0",
      "model_name": "HTMLModel",
      "state": {
       "_dom_classes": [],
       "_model_module": "@jupyter-widgets/controls",
       "_model_module_version": "1.5.0",
       "_model_name": "HTMLModel",
       "_view_count": null,
       "_view_module": "@jupyter-widgets/controls",
       "_view_module_version": "1.5.0",
       "_view_name": "HTMLView",
       "description": "",
       "description_tooltip": null,
       "layout": "IPY_MODEL_c7e4057729494cdbb303571b4b502308",
       "placeholder": "​",
       "style": "IPY_MODEL_24ce94b6bdfe408b95f7d65145e4f0a1",
       "value": "Downloading config.json: 100%"
      }
     },
     "7a95886dba8f4939a44e278f9bc6371b": {
      "model_module": "@jupyter-widgets/base",
      "model_module_version": "1.2.0",
      "model_name": "LayoutModel",
      "state": {
       "_model_module": "@jupyter-widgets/base",
       "_model_module_version": "1.2.0",
       "_model_name": "LayoutModel",
       "_view_count": null,
       "_view_module": "@jupyter-widgets/base",
       "_view_module_version": "1.2.0",
       "_view_name": "LayoutView",
       "align_content": null,
       "align_items": null,
       "align_self": null,
       "border": null,
       "bottom": null,
       "display": null,
       "flex": null,
       "flex_flow": null,
       "grid_area": null,
       "grid_auto_columns": null,
       "grid_auto_flow": null,
       "grid_auto_rows": null,
       "grid_column": null,
       "grid_gap": null,
       "grid_row": null,
       "grid_template_areas": null,
       "grid_template_columns": null,
       "grid_template_rows": null,
       "height": null,
       "justify_content": null,
       "justify_items": null,
       "left": null,
       "margin": null,
       "max_height": null,
       "max_width": null,
       "min_height": null,
       "min_width": null,
       "object_fit": null,
       "object_position": null,
       "order": null,
       "overflow": null,
       "overflow_x": null,
       "overflow_y": null,
       "padding": null,
       "right": null,
       "top": null,
       "visibility": null,
       "width": null
      }
     },
     "7c22b8b3dea14d8f924c15634e3addf8": {
      "model_module": "@jupyter-widgets/base",
      "model_module_version": "1.2.0",
      "model_name": "LayoutModel",
      "state": {
       "_model_module": "@jupyter-widgets/base",
       "_model_module_version": "1.2.0",
       "_model_name": "LayoutModel",
       "_view_count": null,
       "_view_module": "@jupyter-widgets/base",
       "_view_module_version": "1.2.0",
       "_view_name": "LayoutView",
       "align_content": null,
       "align_items": null,
       "align_self": null,
       "border": null,
       "bottom": null,
       "display": null,
       "flex": null,
       "flex_flow": null,
       "grid_area": null,
       "grid_auto_columns": null,
       "grid_auto_flow": null,
       "grid_auto_rows": null,
       "grid_column": null,
       "grid_gap": null,
       "grid_row": null,
       "grid_template_areas": null,
       "grid_template_columns": null,
       "grid_template_rows": null,
       "height": null,
       "justify_content": null,
       "justify_items": null,
       "left": null,
       "margin": null,
       "max_height": null,
       "max_width": null,
       "min_height": null,
       "min_width": null,
       "object_fit": null,
       "object_position": null,
       "order": null,
       "overflow": null,
       "overflow_x": null,
       "overflow_y": null,
       "padding": null,
       "right": null,
       "top": null,
       "visibility": null,
       "width": null
      }
     },
     "7d1587cc6e6a448b8c9753a07f741994": {
      "model_module": "@jupyter-widgets/controls",
      "model_module_version": "1.5.0",
      "model_name": "HTMLModel",
      "state": {
       "_dom_classes": [],
       "_model_module": "@jupyter-widgets/controls",
       "_model_module_version": "1.5.0",
       "_model_name": "HTMLModel",
       "_view_count": null,
       "_view_module": "@jupyter-widgets/controls",
       "_view_module_version": "1.5.0",
       "_view_name": "HTMLView",
       "description": "",
       "description_tooltip": null,
       "layout": "IPY_MODEL_53326e0f16f0446d873ee4b7e4f80077",
       "placeholder": "​",
       "style": "IPY_MODEL_e73a14e4656f49a599bc6001cc42662e",
       "value": "Getting predictions: 100%"
      }
     },
     "7ddfcfea003148ed8ddff494b7a8ae10": {
      "model_module": "@jupyter-widgets/base",
      "model_module_version": "1.2.0",
      "model_name": "LayoutModel",
      "state": {
       "_model_module": "@jupyter-widgets/base",
       "_model_module_version": "1.2.0",
       "_model_name": "LayoutModel",
       "_view_count": null,
       "_view_module": "@jupyter-widgets/base",
       "_view_module_version": "1.2.0",
       "_view_name": "LayoutView",
       "align_content": null,
       "align_items": null,
       "align_self": null,
       "border": null,
       "bottom": null,
       "display": "inline-flex",
       "flex": null,
       "flex_flow": "row wrap",
       "grid_area": null,
       "grid_auto_columns": null,
       "grid_auto_flow": null,
       "grid_auto_rows": null,
       "grid_column": null,
       "grid_gap": null,
       "grid_row": null,
       "grid_template_areas": null,
       "grid_template_columns": null,
       "grid_template_rows": null,
       "height": null,
       "justify_content": null,
       "justify_items": null,
       "left": null,
       "margin": null,
       "max_height": null,
       "max_width": null,
       "min_height": null,
       "min_width": null,
       "object_fit": null,
       "object_position": null,
       "order": null,
       "overflow": null,
       "overflow_x": null,
       "overflow_y": null,
       "padding": null,
       "right": null,
       "top": null,
       "visibility": "hidden",
       "width": "100%"
      }
     },
     "8017c11e276447c9b0a34e34c2bebf68": {
      "model_module": "@jupyter-widgets/controls",
      "model_module_version": "1.5.0",
      "model_name": "HTMLModel",
      "state": {
       "_dom_classes": [],
       "_model_module": "@jupyter-widgets/controls",
       "_model_module_version": "1.5.0",
       "_model_name": "HTMLModel",
       "_view_count": null,
       "_view_module": "@jupyter-widgets/controls",
       "_view_module_version": "1.5.0",
       "_view_name": "HTMLView",
       "description": "",
       "description_tooltip": null,
       "layout": "IPY_MODEL_c52485fc1f054d15a427a03a22baebb5",
       "placeholder": "​",
       "style": "IPY_MODEL_979907e45d8f4003a23b387711e6b8a0",
       "value": " 707/707 [00:30&lt;00:00, 23.51it/s]"
      }
     },
     "82bbdd7e1ab7474eb097da338eca272c": {
      "model_module": "@jupyter-widgets/base",
      "model_module_version": "1.2.0",
      "model_name": "LayoutModel",
      "state": {
       "_model_module": "@jupyter-widgets/base",
       "_model_module_version": "1.2.0",
       "_model_name": "LayoutModel",
       "_view_count": null,
       "_view_module": "@jupyter-widgets/base",
       "_view_module_version": "1.2.0",
       "_view_name": "LayoutView",
       "align_content": null,
       "align_items": null,
       "align_self": null,
       "border": null,
       "bottom": null,
       "display": null,
       "flex": null,
       "flex_flow": null,
       "grid_area": null,
       "grid_auto_columns": null,
       "grid_auto_flow": null,
       "grid_auto_rows": null,
       "grid_column": null,
       "grid_gap": null,
       "grid_row": null,
       "grid_template_areas": null,
       "grid_template_columns": null,
       "grid_template_rows": null,
       "height": null,
       "justify_content": null,
       "justify_items": null,
       "left": null,
       "margin": null,
       "max_height": null,
       "max_width": null,
       "min_height": null,
       "min_width": null,
       "object_fit": null,
       "object_position": null,
       "order": null,
       "overflow": null,
       "overflow_x": null,
       "overflow_y": null,
       "padding": null,
       "right": null,
       "top": null,
       "visibility": null,
       "width": null
      }
     },
     "8781806d48e0447492ef3a14af4025e2": {
      "model_module": "@jupyter-widgets/controls",
      "model_module_version": "1.5.0",
      "model_name": "HTMLModel",
      "state": {
       "_dom_classes": [],
       "_model_module": "@jupyter-widgets/controls",
       "_model_module_version": "1.5.0",
       "_model_name": "HTMLModel",
       "_view_count": null,
       "_view_module": "@jupyter-widgets/controls",
       "_view_module_version": "1.5.0",
       "_view_name": "HTMLView",
       "description": "",
       "description_tooltip": null,
       "layout": "IPY_MODEL_075acc2813474e1d8f102a0b419e587c",
       "placeholder": "​",
       "style": "IPY_MODEL_c743a196e5fe4c4ca7e8ea24a5335b55",
       "value": " 2/2 [00:00&lt;00:00,  3.82it/s]"
      }
     },
     "88cf2a6a3deb46d18d440d40cc55b08a": {
      "model_module": "@jupyter-widgets/controls",
      "model_module_version": "1.5.0",
      "model_name": "HBoxModel",
      "state": {
       "_dom_classes": [],
       "_model_module": "@jupyter-widgets/controls",
       "_model_module_version": "1.5.0",
       "_model_name": "HBoxModel",
       "_view_count": null,
       "_view_module": "@jupyter-widgets/controls",
       "_view_module_version": "1.5.0",
       "_view_name": "HBoxView",
       "box_style": "",
       "children": [
        "IPY_MODEL_d103ae9ca6994ff4954002753c2c67bf",
        "IPY_MODEL_2ded272077b54ca4b096c4579a09fee4",
        "IPY_MODEL_47b15d52fd7a4cb8a95301e3c8ec37fa"
       ],
       "layout": "IPY_MODEL_0fe21f0735ea4754ae4002cb19070d38"
      }
     },
     "8e73f1f3d26b4138bb4bde4577b2107c": {
      "model_module": "@jupyter-widgets/controls",
      "model_module_version": "1.5.0",
      "model_name": "ProgressStyleModel",
      "state": {
       "_model_module": "@jupyter-widgets/controls",
       "_model_module_version": "1.5.0",
       "_model_name": "ProgressStyleModel",
       "_view_count": null,
       "_view_module": "@jupyter-widgets/base",
       "_view_module_version": "1.2.0",
       "_view_name": "StyleView",
       "bar_color": null,
       "description_width": ""
      }
     },
     "947c783aab1a4893b70a2ef66050f07e": {
      "model_module": "@jupyter-widgets/controls",
      "model_module_version": "1.5.0",
      "model_name": "FloatProgressModel",
      "state": {
       "_dom_classes": [],
       "_model_module": "@jupyter-widgets/controls",
       "_model_module_version": "1.5.0",
       "_model_name": "FloatProgressModel",
       "_view_count": null,
       "_view_module": "@jupyter-widgets/controls",
       "_view_module_version": "1.5.0",
       "_view_name": "ProgressView",
       "bar_style": "",
       "description": "",
       "description_tooltip": null,
       "layout": "IPY_MODEL_044f097b72e54b04864107b888716855",
       "max": 2.0,
       "min": 0.0,
       "orientation": "horizontal",
       "style": "IPY_MODEL_0cff67c4850c4dd7947424af0c702a9c",
       "value": 2.0
      }
     },
     "94b40aa45ee849719604b664f0ac5a45": {
      "model_module": "@jupyter-widgets/controls",
      "model_module_version": "1.5.0",
      "model_name": "HTMLModel",
      "state": {
       "_dom_classes": [],
       "_model_module": "@jupyter-widgets/controls",
       "_model_module_version": "1.5.0",
       "_model_name": "HTMLModel",
       "_view_count": null,
       "_view_module": "@jupyter-widgets/controls",
       "_view_module_version": "1.5.0",
       "_view_name": "HTMLView",
       "description": "",
       "description_tooltip": null,
       "layout": "IPY_MODEL_99867fe334994cd3a1ca2823577effbd",
       "placeholder": "​",
       "style": "IPY_MODEL_1dec4daa110444609dabdb4658cb0246",
       "value": "Sanity Checking DataLoader 0: 100%"
      }
     },
     "959bfc6e70214abbbe33a77b0780dbbf": {
      "model_module": "@jupyter-widgets/controls",
      "model_module_version": "1.5.0",
      "model_name": "ProgressStyleModel",
      "state": {
       "_model_module": "@jupyter-widgets/controls",
       "_model_module_version": "1.5.0",
       "_model_name": "ProgressStyleModel",
       "_view_count": null,
       "_view_module": "@jupyter-widgets/base",
       "_view_module_version": "1.2.0",
       "_view_name": "StyleView",
       "bar_color": null,
       "description_width": ""
      }
     },
     "979907e45d8f4003a23b387711e6b8a0": {
      "model_module": "@jupyter-widgets/controls",
      "model_module_version": "1.5.0",
      "model_name": "DescriptionStyleModel",
      "state": {
       "_model_module": "@jupyter-widgets/controls",
       "_model_module_version": "1.5.0",
       "_model_name": "DescriptionStyleModel",
       "_view_count": null,
       "_view_module": "@jupyter-widgets/base",
       "_view_module_version": "1.2.0",
       "_view_name": "StyleView",
       "description_width": ""
      }
     },
     "99867fe334994cd3a1ca2823577effbd": {
      "model_module": "@jupyter-widgets/base",
      "model_module_version": "1.2.0",
      "model_name": "LayoutModel",
      "state": {
       "_model_module": "@jupyter-widgets/base",
       "_model_module_version": "1.2.0",
       "_model_name": "LayoutModel",
       "_view_count": null,
       "_view_module": "@jupyter-widgets/base",
       "_view_module_version": "1.2.0",
       "_view_name": "LayoutView",
       "align_content": null,
       "align_items": null,
       "align_self": null,
       "border": null,
       "bottom": null,
       "display": null,
       "flex": null,
       "flex_flow": null,
       "grid_area": null,
       "grid_auto_columns": null,
       "grid_auto_flow": null,
       "grid_auto_rows": null,
       "grid_column": null,
       "grid_gap": null,
       "grid_row": null,
       "grid_template_areas": null,
       "grid_template_columns": null,
       "grid_template_rows": null,
       "height": null,
       "justify_content": null,
       "justify_items": null,
       "left": null,
       "margin": null,
       "max_height": null,
       "max_width": null,
       "min_height": null,
       "min_width": null,
       "object_fit": null,
       "object_position": null,
       "order": null,
       "overflow": null,
       "overflow_x": null,
       "overflow_y": null,
       "padding": null,
       "right": null,
       "top": null,
       "visibility": null,
       "width": null
      }
     },
     "a665b634f128494298a4689d1c29afea": {
      "model_module": "@jupyter-widgets/controls",
      "model_module_version": "1.5.0",
      "model_name": "HTMLModel",
      "state": {
       "_dom_classes": [],
       "_model_module": "@jupyter-widgets/controls",
       "_model_module_version": "1.5.0",
       "_model_name": "HTMLModel",
       "_view_count": null,
       "_view_module": "@jupyter-widgets/controls",
       "_view_module_version": "1.5.0",
       "_view_name": "HTMLView",
       "description": "",
       "description_tooltip": null,
       "layout": "IPY_MODEL_bbe94d8f2c0044d99a3bd19e0c39dffe",
       "placeholder": "​",
       "style": "IPY_MODEL_751035c915774dc3a9949eecfb2a86b8",
       "value": "Epoch 2: 100%"
      }
     },
     "aa7b2436cf7a4f2ba0c4e5daa09b2dcc": {
      "model_module": "@jupyter-widgets/base",
      "model_module_version": "1.2.0",
      "model_name": "LayoutModel",
      "state": {
       "_model_module": "@jupyter-widgets/base",
       "_model_module_version": "1.2.0",
       "_model_name": "LayoutModel",
       "_view_count": null,
       "_view_module": "@jupyter-widgets/base",
       "_view_module_version": "1.2.0",
       "_view_name": "LayoutView",
       "align_content": null,
       "align_items": null,
       "align_self": null,
       "border": null,
       "bottom": null,
       "display": null,
       "flex": null,
       "flex_flow": null,
       "grid_area": null,
       "grid_auto_columns": null,
       "grid_auto_flow": null,
       "grid_auto_rows": null,
       "grid_column": null,
       "grid_gap": null,
       "grid_row": null,
       "grid_template_areas": null,
       "grid_template_columns": null,
       "grid_template_rows": null,
       "height": null,
       "justify_content": null,
       "justify_items": null,
       "left": null,
       "margin": null,
       "max_height": null,
       "max_width": null,
       "min_height": null,
       "min_width": null,
       "object_fit": null,
       "object_position": null,
       "order": null,
       "overflow": null,
       "overflow_x": null,
       "overflow_y": null,
       "padding": null,
       "right": null,
       "top": null,
       "visibility": null,
       "width": null
      }
     },
     "ac4daba3a8b24faa9324941e0f4c22f0": {
      "model_module": "@jupyter-widgets/controls",
      "model_module_version": "1.5.0",
      "model_name": "FloatProgressModel",
      "state": {
       "_dom_classes": [],
       "_model_module": "@jupyter-widgets/controls",
       "_model_module_version": "1.5.0",
       "_model_name": "FloatProgressModel",
       "_view_count": null,
       "_view_module": "@jupyter-widgets/controls",
       "_view_module_version": "1.5.0",
       "_view_name": "ProgressView",
       "bar_style": "success",
       "description": "",
       "description_tooltip": null,
       "layout": "IPY_MODEL_5173cc0b433e45f9bea4a5d7f780ecec",
       "max": 1081.0,
       "min": 0.0,
       "orientation": "horizontal",
       "style": "IPY_MODEL_959bfc6e70214abbbe33a77b0780dbbf",
       "value": 1081.0
      }
     },
     "ae4dd88d5aa241ed9a7d0f426535ff90": {
      "model_module": "@jupyter-widgets/controls",
      "model_module_version": "1.5.0",
      "model_name": "DescriptionStyleModel",
      "state": {
       "_model_module": "@jupyter-widgets/controls",
       "_model_module_version": "1.5.0",
       "_model_name": "DescriptionStyleModel",
       "_view_count": null,
       "_view_module": "@jupyter-widgets/base",
       "_view_module_version": "1.2.0",
       "_view_name": "StyleView",
       "description_width": ""
      }
     },
     "af1414c02e924e01b5df4cfa78204015": {
      "model_module": "@jupyter-widgets/base",
      "model_module_version": "1.2.0",
      "model_name": "LayoutModel",
      "state": {
       "_model_module": "@jupyter-widgets/base",
       "_model_module_version": "1.2.0",
       "_model_name": "LayoutModel",
       "_view_count": null,
       "_view_module": "@jupyter-widgets/base",
       "_view_module_version": "1.2.0",
       "_view_name": "LayoutView",
       "align_content": null,
       "align_items": null,
       "align_self": null,
       "border": null,
       "bottom": null,
       "display": null,
       "flex": null,
       "flex_flow": null,
       "grid_area": null,
       "grid_auto_columns": null,
       "grid_auto_flow": null,
       "grid_auto_rows": null,
       "grid_column": null,
       "grid_gap": null,
       "grid_row": null,
       "grid_template_areas": null,
       "grid_template_columns": null,
       "grid_template_rows": null,
       "height": null,
       "justify_content": null,
       "justify_items": null,
       "left": null,
       "margin": null,
       "max_height": null,
       "max_width": null,
       "min_height": null,
       "min_width": null,
       "object_fit": null,
       "object_position": null,
       "order": null,
       "overflow": null,
       "overflow_x": null,
       "overflow_y": null,
       "padding": null,
       "right": null,
       "top": null,
       "visibility": null,
       "width": null
      }
     },
     "afe2afbf8a054e7f900fc04f5967d9a8": {
      "model_module": "@jupyter-widgets/controls",
      "model_module_version": "1.5.0",
      "model_name": "HTMLModel",
      "state": {
       "_dom_classes": [],
       "_model_module": "@jupyter-widgets/controls",
       "_model_module_version": "1.5.0",
       "_model_name": "HTMLModel",
       "_view_count": null,
       "_view_module": "@jupyter-widgets/controls",
       "_view_module_version": "1.5.0",
       "_view_name": "HTMLView",
       "description": "",
       "description_tooltip": null,
       "layout": "IPY_MODEL_46cb3c4283754fa290935572950d7842",
       "placeholder": "​",
       "style": "IPY_MODEL_3e1427272afb4adab340feeff7087182",
       "value": " 644/644 [00:00&lt;00:00, 49.7kB/s]"
      }
     },
     "b0c0476a8de5419b9bb964b118316716": {
      "model_module": "@jupyter-widgets/controls",
      "model_module_version": "1.5.0",
      "model_name": "HTMLModel",
      "state": {
       "_dom_classes": [],
       "_model_module": "@jupyter-widgets/controls",
       "_model_module_version": "1.5.0",
       "_model_name": "HTMLModel",
       "_view_count": null,
       "_view_module": "@jupyter-widgets/controls",
       "_view_module_version": "1.5.0",
       "_view_name": "HTMLView",
       "description": "",
       "description_tooltip": null,
       "layout": "IPY_MODEL_564f4698e4bb459f9e90408b78ca0ce4",
       "placeholder": "​",
       "style": "IPY_MODEL_b62570963d244348a53bec49758f4279",
       "value": "100%"
      }
     },
     "b12786a98dad40d7a9f8422c38e6da37": {
      "model_module": "@jupyter-widgets/base",
      "model_module_version": "1.2.0",
      "model_name": "LayoutModel",
      "state": {
       "_model_module": "@jupyter-widgets/base",
       "_model_module_version": "1.2.0",
       "_model_name": "LayoutModel",
       "_view_count": null,
       "_view_module": "@jupyter-widgets/base",
       "_view_module_version": "1.2.0",
       "_view_name": "LayoutView",
       "align_content": null,
       "align_items": null,
       "align_self": null,
       "border": null,
       "bottom": null,
       "display": null,
       "flex": null,
       "flex_flow": null,
       "grid_area": null,
       "grid_auto_columns": null,
       "grid_auto_flow": null,
       "grid_auto_rows": null,
       "grid_column": null,
       "grid_gap": null,
       "grid_row": null,
       "grid_template_areas": null,
       "grid_template_columns": null,
       "grid_template_rows": null,
       "height": null,
       "justify_content": null,
       "justify_items": null,
       "left": null,
       "margin": null,
       "max_height": null,
       "max_width": null,
       "min_height": null,
       "min_width": null,
       "object_fit": null,
       "object_position": null,
       "order": null,
       "overflow": null,
       "overflow_x": null,
       "overflow_y": null,
       "padding": null,
       "right": null,
       "top": null,
       "visibility": null,
       "width": null
      }
     },
     "b3d26df1bbe243efb6740f4b4baee306": {
      "model_module": "@jupyter-widgets/controls",
      "model_module_version": "1.5.0",
      "model_name": "FloatProgressModel",
      "state": {
       "_dom_classes": [],
       "_model_module": "@jupyter-widgets/controls",
       "_model_module_version": "1.5.0",
       "_model_name": "FloatProgressModel",
       "_view_count": null,
       "_view_module": "@jupyter-widgets/controls",
       "_view_module_version": "1.5.0",
       "_view_name": "ProgressView",
       "bar_style": "success",
       "description": "",
       "description_tooltip": null,
       "layout": "IPY_MODEL_6eaa38131f064f32b6d98d02b31e5713",
       "max": 470732.0,
       "min": 0.0,
       "orientation": "horizontal",
       "style": "IPY_MODEL_3402f5fc304241a7804ae94d1e23be51",
       "value": 470732.0
      }
     },
     "b62570963d244348a53bec49758f4279": {
      "model_module": "@jupyter-widgets/controls",
      "model_module_version": "1.5.0",
      "model_name": "DescriptionStyleModel",
      "state": {
       "_model_module": "@jupyter-widgets/controls",
       "_model_module_version": "1.5.0",
       "_model_name": "DescriptionStyleModel",
       "_view_count": null,
       "_view_module": "@jupyter-widgets/base",
       "_view_module_version": "1.2.0",
       "_view_name": "StyleView",
       "description_width": ""
      }
     },
     "b7abe26e502044e59dba3d8b939cade3": {
      "model_module": "@jupyter-widgets/controls",
      "model_module_version": "1.5.0",
      "model_name": "HBoxModel",
      "state": {
       "_dom_classes": [],
       "_model_module": "@jupyter-widgets/controls",
       "_model_module_version": "1.5.0",
       "_model_name": "HBoxModel",
       "_view_count": null,
       "_view_module": "@jupyter-widgets/controls",
       "_view_module_version": "1.5.0",
       "_view_name": "HBoxView",
       "box_style": "",
       "children": [
        "IPY_MODEL_2df7f1d3ee0f4664ad2d663961b52b7c",
        "IPY_MODEL_e8454f3e93d04690a2070bc117f45176",
        "IPY_MODEL_00bb57a722424e1b88909d740172cbf5"
       ],
       "layout": "IPY_MODEL_1d110b91611748f8891da644a21979e2"
      }
     },
     "b8a419ead8154ee1a81c8f6f4b8d950c": {
      "model_module": "@jupyter-widgets/base",
      "model_module_version": "1.2.0",
      "model_name": "LayoutModel",
      "state": {
       "_model_module": "@jupyter-widgets/base",
       "_model_module_version": "1.2.0",
       "_model_name": "LayoutModel",
       "_view_count": null,
       "_view_module": "@jupyter-widgets/base",
       "_view_module_version": "1.2.0",
       "_view_name": "LayoutView",
       "align_content": null,
       "align_items": null,
       "align_self": null,
       "border": null,
       "bottom": null,
       "display": null,
       "flex": null,
       "flex_flow": null,
       "grid_area": null,
       "grid_auto_columns": null,
       "grid_auto_flow": null,
       "grid_auto_rows": null,
       "grid_column": null,
       "grid_gap": null,
       "grid_row": null,
       "grid_template_areas": null,
       "grid_template_columns": null,
       "grid_template_rows": null,
       "height": null,
       "justify_content": null,
       "justify_items": null,
       "left": null,
       "margin": null,
       "max_height": null,
       "max_width": null,
       "min_height": null,
       "min_width": null,
       "object_fit": null,
       "object_position": null,
       "order": null,
       "overflow": null,
       "overflow_x": null,
       "overflow_y": null,
       "padding": null,
       "right": null,
       "top": null,
       "visibility": null,
       "width": null
      }
     },
     "bbe94d8f2c0044d99a3bd19e0c39dffe": {
      "model_module": "@jupyter-widgets/base",
      "model_module_version": "1.2.0",
      "model_name": "LayoutModel",
      "state": {
       "_model_module": "@jupyter-widgets/base",
       "_model_module_version": "1.2.0",
       "_model_name": "LayoutModel",
       "_view_count": null,
       "_view_module": "@jupyter-widgets/base",
       "_view_module_version": "1.2.0",
       "_view_name": "LayoutView",
       "align_content": null,
       "align_items": null,
       "align_self": null,
       "border": null,
       "bottom": null,
       "display": null,
       "flex": null,
       "flex_flow": null,
       "grid_area": null,
       "grid_auto_columns": null,
       "grid_auto_flow": null,
       "grid_auto_rows": null,
       "grid_column": null,
       "grid_gap": null,
       "grid_row": null,
       "grid_template_areas": null,
       "grid_template_columns": null,
       "grid_template_rows": null,
       "height": null,
       "justify_content": null,
       "justify_items": null,
       "left": null,
       "margin": null,
       "max_height": null,
       "max_width": null,
       "min_height": null,
       "min_width": null,
       "object_fit": null,
       "object_position": null,
       "order": null,
       "overflow": null,
       "overflow_x": null,
       "overflow_y": null,
       "padding": null,
       "right": null,
       "top": null,
       "visibility": null,
       "width": null
      }
     },
     "bc4e41d7c49642429a52793e599fafef": {
      "model_module": "@jupyter-widgets/controls",
      "model_module_version": "1.5.0",
      "model_name": "HTMLModel",
      "state": {
       "_dom_classes": [],
       "_model_module": "@jupyter-widgets/controls",
       "_model_module_version": "1.5.0",
       "_model_name": "HTMLModel",
       "_view_count": null,
       "_view_module": "@jupyter-widgets/controls",
       "_view_module_version": "1.5.0",
       "_view_name": "HTMLView",
       "description": "",
       "description_tooltip": null,
       "layout": "IPY_MODEL_7a95886dba8f4939a44e278f9bc6371b",
       "placeholder": "​",
       "style": "IPY_MODEL_6b98047e0e2b42859fd7efdc55d8db4c",
       "value": " 471k/471k [00:00&lt;00:00, 16.0MB/s]"
      }
     },
     "bc910238febc4f76ab8fdb59ef5e4010": {
      "model_module": "@jupyter-widgets/base",
      "model_module_version": "1.2.0",
      "model_name": "LayoutModel",
      "state": {
       "_model_module": "@jupyter-widgets/base",
       "_model_module_version": "1.2.0",
       "_model_name": "LayoutModel",
       "_view_count": null,
       "_view_module": "@jupyter-widgets/base",
       "_view_module_version": "1.2.0",
       "_view_name": "LayoutView",
       "align_content": null,
       "align_items": null,
       "align_self": null,
       "border": null,
       "bottom": null,
       "display": null,
       "flex": null,
       "flex_flow": null,
       "grid_area": null,
       "grid_auto_columns": null,
       "grid_auto_flow": null,
       "grid_auto_rows": null,
       "grid_column": null,
       "grid_gap": null,
       "grid_row": null,
       "grid_template_areas": null,
       "grid_template_columns": null,
       "grid_template_rows": null,
       "height": null,
       "justify_content": null,
       "justify_items": null,
       "left": null,
       "margin": null,
       "max_height": null,
       "max_width": null,
       "min_height": null,
       "min_width": null,
       "object_fit": null,
       "object_position": null,
       "order": null,
       "overflow": null,
       "overflow_x": null,
       "overflow_y": null,
       "padding": null,
       "right": null,
       "top": null,
       "visibility": null,
       "width": null
      }
     },
     "bdfe8a56991641debb2c2482b449d53f": {
      "model_module": "@jupyter-widgets/base",
      "model_module_version": "1.2.0",
      "model_name": "LayoutModel",
      "state": {
       "_model_module": "@jupyter-widgets/base",
       "_model_module_version": "1.2.0",
       "_model_name": "LayoutModel",
       "_view_count": null,
       "_view_module": "@jupyter-widgets/base",
       "_view_module_version": "1.2.0",
       "_view_name": "LayoutView",
       "align_content": null,
       "align_items": null,
       "align_self": null,
       "border": null,
       "bottom": null,
       "display": null,
       "flex": "2",
       "flex_flow": null,
       "grid_area": null,
       "grid_auto_columns": null,
       "grid_auto_flow": null,
       "grid_auto_rows": null,
       "grid_column": null,
       "grid_gap": null,
       "grid_row": null,
       "grid_template_areas": null,
       "grid_template_columns": null,
       "grid_template_rows": null,
       "height": null,
       "justify_content": null,
       "justify_items": null,
       "left": null,
       "margin": null,
       "max_height": null,
       "max_width": null,
       "min_height": null,
       "min_width": null,
       "object_fit": null,
       "object_position": null,
       "order": null,
       "overflow": null,
       "overflow_x": null,
       "overflow_y": null,
       "padding": null,
       "right": null,
       "top": null,
       "visibility": null,
       "width": null
      }
     },
     "c098bd668fcb456abc8f5910a1db51ab": {
      "model_module": "@jupyter-widgets/base",
      "model_module_version": "1.2.0",
      "model_name": "LayoutModel",
      "state": {
       "_model_module": "@jupyter-widgets/base",
       "_model_module_version": "1.2.0",
       "_model_name": "LayoutModel",
       "_view_count": null,
       "_view_module": "@jupyter-widgets/base",
       "_view_module_version": "1.2.0",
       "_view_name": "LayoutView",
       "align_content": null,
       "align_items": null,
       "align_self": null,
       "border": null,
       "bottom": null,
       "display": null,
       "flex": null,
       "flex_flow": null,
       "grid_area": null,
       "grid_auto_columns": null,
       "grid_auto_flow": null,
       "grid_auto_rows": null,
       "grid_column": null,
       "grid_gap": null,
       "grid_row": null,
       "grid_template_areas": null,
       "grid_template_columns": null,
       "grid_template_rows": null,
       "height": null,
       "justify_content": null,
       "justify_items": null,
       "left": null,
       "margin": null,
       "max_height": null,
       "max_width": null,
       "min_height": null,
       "min_width": null,
       "object_fit": null,
       "object_position": null,
       "order": null,
       "overflow": null,
       "overflow_x": null,
       "overflow_y": null,
       "padding": null,
       "right": null,
       "top": null,
       "visibility": null,
       "width": null
      }
     },
     "c52485fc1f054d15a427a03a22baebb5": {
      "model_module": "@jupyter-widgets/base",
      "model_module_version": "1.2.0",
      "model_name": "LayoutModel",
      "state": {
       "_model_module": "@jupyter-widgets/base",
       "_model_module_version": "1.2.0",
       "_model_name": "LayoutModel",
       "_view_count": null,
       "_view_module": "@jupyter-widgets/base",
       "_view_module_version": "1.2.0",
       "_view_name": "LayoutView",
       "align_content": null,
       "align_items": null,
       "align_self": null,
       "border": null,
       "bottom": null,
       "display": null,
       "flex": null,
       "flex_flow": null,
       "grid_area": null,
       "grid_auto_columns": null,
       "grid_auto_flow": null,
       "grid_auto_rows": null,
       "grid_column": null,
       "grid_gap": null,
       "grid_row": null,
       "grid_template_areas": null,
       "grid_template_columns": null,
       "grid_template_rows": null,
       "height": null,
       "justify_content": null,
       "justify_items": null,
       "left": null,
       "margin": null,
       "max_height": null,
       "max_width": null,
       "min_height": null,
       "min_width": null,
       "object_fit": null,
       "object_position": null,
       "order": null,
       "overflow": null,
       "overflow_x": null,
       "overflow_y": null,
       "padding": null,
       "right": null,
       "top": null,
       "visibility": null,
       "width": null
      }
     },
     "c58150bf40f24a4792aedf80fe72ba7b": {
      "model_module": "@jupyter-widgets/controls",
      "model_module_version": "1.5.0",
      "model_name": "HBoxModel",
      "state": {
       "_dom_classes": [],
       "_model_module": "@jupyter-widgets/controls",
       "_model_module_version": "1.5.0",
       "_model_name": "HBoxModel",
       "_view_count": null,
       "_view_module": "@jupyter-widgets/controls",
       "_view_module_version": "1.5.0",
       "_view_name": "HBoxView",
       "box_style": "",
       "children": [
        "IPY_MODEL_94b40aa45ee849719604b664f0ac5a45",
        "IPY_MODEL_947c783aab1a4893b70a2ef66050f07e",
        "IPY_MODEL_8781806d48e0447492ef3a14af4025e2"
       ],
       "layout": "IPY_MODEL_7ddfcfea003148ed8ddff494b7a8ae10"
      }
     },
     "c743a196e5fe4c4ca7e8ea24a5335b55": {
      "model_module": "@jupyter-widgets/controls",
      "model_module_version": "1.5.0",
      "model_name": "DescriptionStyleModel",
      "state": {
       "_model_module": "@jupyter-widgets/controls",
       "_model_module_version": "1.5.0",
       "_model_name": "DescriptionStyleModel",
       "_view_count": null,
       "_view_module": "@jupyter-widgets/base",
       "_view_module_version": "1.2.0",
       "_view_name": "StyleView",
       "description_width": ""
      }
     },
     "c74667148aa14bb6af3b28e9c9c599bf": {
      "model_module": "@jupyter-widgets/base",
      "model_module_version": "1.2.0",
      "model_name": "LayoutModel",
      "state": {
       "_model_module": "@jupyter-widgets/base",
       "_model_module_version": "1.2.0",
       "_model_name": "LayoutModel",
       "_view_count": null,
       "_view_module": "@jupyter-widgets/base",
       "_view_module_version": "1.2.0",
       "_view_name": "LayoutView",
       "align_content": null,
       "align_items": null,
       "align_self": null,
       "border": null,
       "bottom": null,
       "display": null,
       "flex": null,
       "flex_flow": null,
       "grid_area": null,
       "grid_auto_columns": null,
       "grid_auto_flow": null,
       "grid_auto_rows": null,
       "grid_column": null,
       "grid_gap": null,
       "grid_row": null,
       "grid_template_areas": null,
       "grid_template_columns": null,
       "grid_template_rows": null,
       "height": null,
       "justify_content": null,
       "justify_items": null,
       "left": null,
       "margin": null,
       "max_height": null,
       "max_width": null,
       "min_height": null,
       "min_width": null,
       "object_fit": null,
       "object_position": null,
       "order": null,
       "overflow": null,
       "overflow_x": null,
       "overflow_y": null,
       "padding": null,
       "right": null,
       "top": null,
       "visibility": null,
       "width": null
      }
     },
     "c7e4057729494cdbb303571b4b502308": {
      "model_module": "@jupyter-widgets/base",
      "model_module_version": "1.2.0",
      "model_name": "LayoutModel",
      "state": {
       "_model_module": "@jupyter-widgets/base",
       "_model_module_version": "1.2.0",
       "_model_name": "LayoutModel",
       "_view_count": null,
       "_view_module": "@jupyter-widgets/base",
       "_view_module_version": "1.2.0",
       "_view_name": "LayoutView",
       "align_content": null,
       "align_items": null,
       "align_self": null,
       "border": null,
       "bottom": null,
       "display": null,
       "flex": null,
       "flex_flow": null,
       "grid_area": null,
       "grid_auto_columns": null,
       "grid_auto_flow": null,
       "grid_auto_rows": null,
       "grid_column": null,
       "grid_gap": null,
       "grid_row": null,
       "grid_template_areas": null,
       "grid_template_columns": null,
       "grid_template_rows": null,
       "height": null,
       "justify_content": null,
       "justify_items": null,
       "left": null,
       "margin": null,
       "max_height": null,
       "max_width": null,
       "min_height": null,
       "min_width": null,
       "object_fit": null,
       "object_position": null,
       "order": null,
       "overflow": null,
       "overflow_x": null,
       "overflow_y": null,
       "padding": null,
       "right": null,
       "top": null,
       "visibility": null,
       "width": null
      }
     },
     "cf9e1d9694444aea9547187259a9a62d": {
      "model_module": "@jupyter-widgets/controls",
      "model_module_version": "1.5.0",
      "model_name": "FloatProgressModel",
      "state": {
       "_dom_classes": [],
       "_model_module": "@jupyter-widgets/controls",
       "_model_module_version": "1.5.0",
       "_model_name": "FloatProgressModel",
       "_view_count": null,
       "_view_module": "@jupyter-widgets/controls",
       "_view_module_version": "1.5.0",
       "_view_name": "ProgressView",
       "bar_style": "success",
       "description": "",
       "description_tooltip": null,
       "layout": "IPY_MODEL_82bbdd7e1ab7474eb097da338eca272c",
       "max": 644.0,
       "min": 0.0,
       "orientation": "horizontal",
       "style": "IPY_MODEL_1a8031313ba044b4bd6442b16fd9f4f0",
       "value": 644.0
      }
     },
     "d103ae9ca6994ff4954002753c2c67bf": {
      "model_module": "@jupyter-widgets/controls",
      "model_module_version": "1.5.0",
      "model_name": "HTMLModel",
      "state": {
       "_dom_classes": [],
       "_model_module": "@jupyter-widgets/controls",
       "_model_module_version": "1.5.0",
       "_model_name": "HTMLModel",
       "_view_count": null,
       "_view_module": "@jupyter-widgets/controls",
       "_view_module_version": "1.5.0",
       "_view_name": "HTMLView",
       "description": "",
       "description_tooltip": null,
       "layout": "IPY_MODEL_f76563bc64c64e98a4e617f1ef69a9c8",
       "placeholder": "​",
       "style": "IPY_MODEL_344bb9b3299c42b5bd2da93f983433cd",
       "value": "Validation DataLoader 0: 100%"
      }
     },
     "d7fafed6ae13460ca28a7b092acde385": {
      "model_module": "@jupyter-widgets/base",
      "model_module_version": "1.2.0",
      "model_name": "LayoutModel",
      "state": {
       "_model_module": "@jupyter-widgets/base",
       "_model_module_version": "1.2.0",
       "_model_name": "LayoutModel",
       "_view_count": null,
       "_view_module": "@jupyter-widgets/base",
       "_view_module_version": "1.2.0",
       "_view_name": "LayoutView",
       "align_content": null,
       "align_items": null,
       "align_self": null,
       "border": null,
       "bottom": null,
       "display": "inline-flex",
       "flex": null,
       "flex_flow": "row wrap",
       "grid_area": null,
       "grid_auto_columns": null,
       "grid_auto_flow": null,
       "grid_auto_rows": null,
       "grid_column": null,
       "grid_gap": null,
       "grid_row": null,
       "grid_template_areas": null,
       "grid_template_columns": null,
       "grid_template_rows": null,
       "height": null,
       "justify_content": null,
       "justify_items": null,
       "left": null,
       "margin": null,
       "max_height": null,
       "max_width": null,
       "min_height": null,
       "min_width": null,
       "object_fit": null,
       "object_position": null,
       "order": null,
       "overflow": null,
       "overflow_x": null,
       "overflow_y": null,
       "padding": null,
       "right": null,
       "top": null,
       "visibility": null,
       "width": "100%"
      }
     },
     "dca54005d7524145a04e0cefae3ba504": {
      "model_module": "@jupyter-widgets/base",
      "model_module_version": "1.2.0",
      "model_name": "LayoutModel",
      "state": {
       "_model_module": "@jupyter-widgets/base",
       "_model_module_version": "1.2.0",
       "_model_name": "LayoutModel",
       "_view_count": null,
       "_view_module": "@jupyter-widgets/base",
       "_view_module_version": "1.2.0",
       "_view_name": "LayoutView",
       "align_content": null,
       "align_items": null,
       "align_self": null,
       "border": null,
       "bottom": null,
       "display": null,
       "flex": null,
       "flex_flow": null,
       "grid_area": null,
       "grid_auto_columns": null,
       "grid_auto_flow": null,
       "grid_auto_rows": null,
       "grid_column": null,
       "grid_gap": null,
       "grid_row": null,
       "grid_template_areas": null,
       "grid_template_columns": null,
       "grid_template_rows": null,
       "height": null,
       "justify_content": null,
       "justify_items": null,
       "left": null,
       "margin": null,
       "max_height": null,
       "max_width": null,
       "min_height": null,
       "min_width": null,
       "object_fit": null,
       "object_position": null,
       "order": null,
       "overflow": null,
       "overflow_x": null,
       "overflow_y": null,
       "padding": null,
       "right": null,
       "top": null,
       "visibility": null,
       "width": null
      }
     },
     "ddbc21daf9424bb3a0aa9f55bd87eae4": {
      "model_module": "@jupyter-widgets/base",
      "model_module_version": "1.2.0",
      "model_name": "LayoutModel",
      "state": {
       "_model_module": "@jupyter-widgets/base",
       "_model_module_version": "1.2.0",
       "_model_name": "LayoutModel",
       "_view_count": null,
       "_view_module": "@jupyter-widgets/base",
       "_view_module_version": "1.2.0",
       "_view_name": "LayoutView",
       "align_content": null,
       "align_items": null,
       "align_self": null,
       "border": null,
       "bottom": null,
       "display": null,
       "flex": null,
       "flex_flow": null,
       "grid_area": null,
       "grid_auto_columns": null,
       "grid_auto_flow": null,
       "grid_auto_rows": null,
       "grid_column": null,
       "grid_gap": null,
       "grid_row": null,
       "grid_template_areas": null,
       "grid_template_columns": null,
       "grid_template_rows": null,
       "height": null,
       "justify_content": null,
       "justify_items": null,
       "left": null,
       "margin": null,
       "max_height": null,
       "max_width": null,
       "min_height": null,
       "min_width": null,
       "object_fit": null,
       "object_position": null,
       "order": null,
       "overflow": null,
       "overflow_x": null,
       "overflow_y": null,
       "padding": null,
       "right": null,
       "top": null,
       "visibility": null,
       "width": null
      }
     },
     "e73a14e4656f49a599bc6001cc42662e": {
      "model_module": "@jupyter-widgets/controls",
      "model_module_version": "1.5.0",
      "model_name": "DescriptionStyleModel",
      "state": {
       "_model_module": "@jupyter-widgets/controls",
       "_model_module_version": "1.5.0",
       "_model_name": "DescriptionStyleModel",
       "_view_count": null,
       "_view_module": "@jupyter-widgets/base",
       "_view_module_version": "1.2.0",
       "_view_name": "StyleView",
       "description_width": ""
      }
     },
     "e771d3ac594046ffaff998b2fcd71de5": {
      "model_module": "@jupyter-widgets/controls",
      "model_module_version": "1.5.0",
      "model_name": "DescriptionStyleModel",
      "state": {
       "_model_module": "@jupyter-widgets/controls",
       "_model_module_version": "1.5.0",
       "_model_name": "DescriptionStyleModel",
       "_view_count": null,
       "_view_module": "@jupyter-widgets/base",
       "_view_module_version": "1.2.0",
       "_view_name": "StyleView",
       "description_width": ""
      }
     },
     "e8454f3e93d04690a2070bc117f45176": {
      "model_module": "@jupyter-widgets/controls",
      "model_module_version": "1.5.0",
      "model_name": "FloatProgressModel",
      "state": {
       "_dom_classes": [],
       "_model_module": "@jupyter-widgets/controls",
       "_model_module_version": "1.5.0",
       "_model_name": "FloatProgressModel",
       "_view_count": null,
       "_view_module": "@jupyter-widgets/controls",
       "_view_module_version": "1.5.0",
       "_view_name": "ProgressView",
       "bar_style": "",
       "description": "",
       "description_tooltip": null,
       "layout": "IPY_MODEL_09c2eaa519004284ab7a9ad2954223d0",
       "max": 136.0,
       "min": 0.0,
       "orientation": "horizontal",
       "style": "IPY_MODEL_6baa20e3d329429a8ba73197561a500c",
       "value": 136.0
      }
     },
     "e9e824e1e67b41908e0564282ee9667d": {
      "model_module": "@jupyter-widgets/controls",
      "model_module_version": "1.5.0",
      "model_name": "FloatProgressModel",
      "state": {
       "_dom_classes": [],
       "_model_module": "@jupyter-widgets/controls",
       "_model_module_version": "1.5.0",
       "_model_name": "FloatProgressModel",
       "_view_count": null,
       "_view_module": "@jupyter-widgets/controls",
       "_view_module_version": "1.5.0",
       "_view_name": "ProgressView",
       "bar_style": "success",
       "description": "",
       "description_tooltip": null,
       "layout": "IPY_MODEL_bc910238febc4f76ab8fdb59ef5e4010",
       "max": 707.0,
       "min": 0.0,
       "orientation": "horizontal",
       "style": "IPY_MODEL_342be2fdbe524216b24d8bd4dd6ac59a",
       "value": 707.0
      }
     },
     "f0503de91cc74ab38bfffb6390aa83da": {
      "model_module": "@jupyter-widgets/base",
      "model_module_version": "1.2.0",
      "model_name": "LayoutModel",
      "state": {
       "_model_module": "@jupyter-widgets/base",
       "_model_module_version": "1.2.0",
       "_model_name": "LayoutModel",
       "_view_count": null,
       "_view_module": "@jupyter-widgets/base",
       "_view_module_version": "1.2.0",
       "_view_name": "LayoutView",
       "align_content": null,
       "align_items": null,
       "align_self": null,
       "border": null,
       "bottom": null,
       "display": null,
       "flex": null,
       "flex_flow": null,
       "grid_area": null,
       "grid_auto_columns": null,
       "grid_auto_flow": null,
       "grid_auto_rows": null,
       "grid_column": null,
       "grid_gap": null,
       "grid_row": null,
       "grid_template_areas": null,
       "grid_template_columns": null,
       "grid_template_rows": null,
       "height": null,
       "justify_content": null,
       "justify_items": null,
       "left": null,
       "margin": null,
       "max_height": null,
       "max_width": null,
       "min_height": null,
       "min_width": null,
       "object_fit": null,
       "object_position": null,
       "order": null,
       "overflow": null,
       "overflow_x": null,
       "overflow_y": null,
       "padding": null,
       "right": null,
       "top": null,
       "visibility": null,
       "width": null
      }
     },
     "f07a1394848f4e15bb5a09ec1b538017": {
      "model_module": "@jupyter-widgets/controls",
      "model_module_version": "1.5.0",
      "model_name": "DescriptionStyleModel",
      "state": {
       "_model_module": "@jupyter-widgets/controls",
       "_model_module_version": "1.5.0",
       "_model_name": "DescriptionStyleModel",
       "_view_count": null,
       "_view_module": "@jupyter-widgets/base",
       "_view_module_version": "1.2.0",
       "_view_name": "StyleView",
       "description_width": ""
      }
     },
     "f40c9e1026714b909b6fbc5d5f7ef702": {
      "model_module": "@jupyter-widgets/controls",
      "model_module_version": "1.5.0",
      "model_name": "DescriptionStyleModel",
      "state": {
       "_model_module": "@jupyter-widgets/controls",
       "_model_module_version": "1.5.0",
       "_model_name": "DescriptionStyleModel",
       "_view_count": null,
       "_view_module": "@jupyter-widgets/base",
       "_view_module_version": "1.2.0",
       "_view_name": "StyleView",
       "description_width": ""
      }
     },
     "f4d17f7fbd654ebfb2a8d9855c99c05f": {
      "model_module": "@jupyter-widgets/controls",
      "model_module_version": "1.5.0",
      "model_name": "HBoxModel",
      "state": {
       "_dom_classes": [],
       "_model_module": "@jupyter-widgets/controls",
       "_model_module_version": "1.5.0",
       "_model_name": "HBoxModel",
       "_view_count": null,
       "_view_module": "@jupyter-widgets/controls",
       "_view_module_version": "1.5.0",
       "_view_name": "HBoxView",
       "box_style": "",
       "children": [
        "IPY_MODEL_7560c363136743fe9a0758b251b14fdf",
        "IPY_MODEL_cf9e1d9694444aea9547187259a9a62d",
        "IPY_MODEL_afe2afbf8a054e7f900fc04f5967d9a8"
       ],
       "layout": "IPY_MODEL_11249f15221c4a9983d03ad3c9f150ab"
      }
     },
     "f6dfe057cc7c40e28794da9703a11bbd": {
      "model_module": "@jupyter-widgets/controls",
      "model_module_version": "1.5.0",
      "model_name": "DescriptionStyleModel",
      "state": {
       "_model_module": "@jupyter-widgets/controls",
       "_model_module_version": "1.5.0",
       "_model_name": "DescriptionStyleModel",
       "_view_count": null,
       "_view_module": "@jupyter-widgets/base",
       "_view_module_version": "1.2.0",
       "_view_name": "StyleView",
       "description_width": ""
      }
     },
     "f76563bc64c64e98a4e617f1ef69a9c8": {
      "model_module": "@jupyter-widgets/base",
      "model_module_version": "1.2.0",
      "model_name": "LayoutModel",
      "state": {
       "_model_module": "@jupyter-widgets/base",
       "_model_module_version": "1.2.0",
       "_model_name": "LayoutModel",
       "_view_count": null,
       "_view_module": "@jupyter-widgets/base",
       "_view_module_version": "1.2.0",
       "_view_name": "LayoutView",
       "align_content": null,
       "align_items": null,
       "align_self": null,
       "border": null,
       "bottom": null,
       "display": null,
       "flex": null,
       "flex_flow": null,
       "grid_area": null,
       "grid_auto_columns": null,
       "grid_auto_flow": null,
       "grid_auto_rows": null,
       "grid_column": null,
       "grid_gap": null,
       "grid_row": null,
       "grid_template_areas": null,
       "grid_template_columns": null,
       "grid_template_rows": null,
       "height": null,
       "justify_content": null,
       "justify_items": null,
       "left": null,
       "margin": null,
       "max_height": null,
       "max_width": null,
       "min_height": null,
       "min_width": null,
       "object_fit": null,
       "object_position": null,
       "order": null,
       "overflow": null,
       "overflow_x": null,
       "overflow_y": null,
       "padding": null,
       "right": null,
       "top": null,
       "visibility": null,
       "width": null
      }
     },
     "f7ed8ba7146c4b7a9cf2c9deb4ff68c7": {
      "model_module": "@jupyter-widgets/controls",
      "model_module_version": "1.5.0",
      "model_name": "HTMLModel",
      "state": {
       "_dom_classes": [],
       "_model_module": "@jupyter-widgets/controls",
       "_model_module_version": "1.5.0",
       "_model_name": "HTMLModel",
       "_view_count": null,
       "_view_module": "@jupyter-widgets/controls",
       "_view_module_version": "1.5.0",
       "_view_name": "HTMLView",
       "description": "",
       "description_tooltip": null,
       "layout": "IPY_MODEL_7335be7ec6bd4124ac19ef119cb7428c",
       "placeholder": "​",
       "style": "IPY_MODEL_fee02f2787aa4638b0ef2f1b5f4bad89",
       "value": " 1216/1216 [09:14&lt;00:00,  2.19it/s, v_num=0, train_loss=1.080, val_loss=0.747]"
      }
     },
     "fcf8f4092cde4c0a9b57c83a03a3fce3": {
      "model_module": "@jupyter-widgets/controls",
      "model_module_version": "1.5.0",
      "model_name": "DescriptionStyleModel",
      "state": {
       "_model_module": "@jupyter-widgets/controls",
       "_model_module_version": "1.5.0",
       "_model_name": "DescriptionStyleModel",
       "_view_count": null,
       "_view_module": "@jupyter-widgets/base",
       "_view_module_version": "1.2.0",
       "_view_name": "StyleView",
       "description_width": ""
      }
     },
     "fd15835cf2594613b3adfe87979fc23a": {
      "model_module": "@jupyter-widgets/controls",
      "model_module_version": "1.5.0",
      "model_name": "HBoxModel",
      "state": {
       "_dom_classes": [],
       "_model_module": "@jupyter-widgets/controls",
       "_model_module_version": "1.5.0",
       "_model_name": "HBoxModel",
       "_view_count": null,
       "_view_module": "@jupyter-widgets/controls",
       "_view_module_version": "1.5.0",
       "_view_name": "HBoxView",
       "box_style": "",
       "children": [
        "IPY_MODEL_7d1587cc6e6a448b8c9753a07f741994",
        "IPY_MODEL_e9e824e1e67b41908e0564282ee9667d",
        "IPY_MODEL_8017c11e276447c9b0a34e34c2bebf68"
       ],
       "layout": "IPY_MODEL_728a570a436e467ab12bc1eb6431a9dc"
      }
     },
     "fee02f2787aa4638b0ef2f1b5f4bad89": {
      "model_module": "@jupyter-widgets/controls",
      "model_module_version": "1.5.0",
      "model_name": "DescriptionStyleModel",
      "state": {
       "_model_module": "@jupyter-widgets/controls",
       "_model_module_version": "1.5.0",
       "_model_name": "DescriptionStyleModel",
       "_view_count": null,
       "_view_module": "@jupyter-widgets/base",
       "_view_module_version": "1.2.0",
       "_view_name": "StyleView",
       "description_width": ""
      }
     }
    },
    "version_major": 2,
    "version_minor": 0
   }
  }
 },
 "nbformat": 4,
 "nbformat_minor": 5
}
