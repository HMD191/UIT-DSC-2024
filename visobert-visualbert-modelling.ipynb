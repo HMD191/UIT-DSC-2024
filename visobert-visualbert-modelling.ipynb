{
 "cells": [
  {
   "cell_type": "markdown",
   "id": "53331b53",
   "metadata": {
    "papermill": {
     "duration": 0.017711,
     "end_time": "2024-11-07T15:51:31.604064",
     "exception": false,
     "start_time": "2024-11-07T15:51:31.586353",
     "status": "completed"
    },
    "tags": []
   },
   "source": [
    "# 1. Import Libraries and Load Dataset"
   ]
  },
  {
   "cell_type": "code",
   "execution_count": 1,
   "id": "9afc391f",
   "metadata": {
    "execution": {
     "iopub.execute_input": "2024-11-07T15:51:31.634451Z",
     "iopub.status.busy": "2024-11-07T15:51:31.634181Z",
     "iopub.status.idle": "2024-11-07T15:51:44.446025Z",
     "shell.execute_reply": "2024-11-07T15:51:44.444999Z"
    },
    "papermill": {
     "duration": 12.829773,
     "end_time": "2024-11-07T15:51:44.448577",
     "exception": false,
     "start_time": "2024-11-07T15:51:31.618804",
     "status": "completed"
    },
    "tags": []
   },
   "outputs": [],
   "source": [
    "%%capture\n",
    "!pip install gdown"
   ]
  },
  {
   "cell_type": "code",
   "execution_count": 2,
   "id": "fac03424",
   "metadata": {
    "execution": {
     "iopub.execute_input": "2024-11-07T15:51:44.480346Z",
     "iopub.status.busy": "2024-11-07T15:51:44.479791Z",
     "iopub.status.idle": "2024-11-07T15:51:44.901410Z",
     "shell.execute_reply": "2024-11-07T15:51:44.900606Z"
    },
    "papermill": {
     "duration": 0.440008,
     "end_time": "2024-11-07T15:51:44.903772",
     "exception": false,
     "start_time": "2024-11-07T15:51:44.463764",
     "status": "completed"
    },
    "tags": []
   },
   "outputs": [],
   "source": [
    "import json\n",
    "import gdown\n",
    "train_json = json.load(open('/kaggle/input/dsc24-vimmsd/vimmsd-train.json', encoding='utf-8'))\n",
    "dev_json = json.load(open('/kaggle/input/dsc24-vimmsd/vimmsd-public-test.json', encoding='utf-8'))"
   ]
  },
  {
   "cell_type": "code",
   "execution_count": 3,
   "id": "50d0fe1c",
   "metadata": {
    "execution": {
     "iopub.execute_input": "2024-11-07T15:51:44.935140Z",
     "iopub.status.busy": "2024-11-07T15:51:44.934655Z",
     "iopub.status.idle": "2024-11-07T15:51:48.345875Z",
     "shell.execute_reply": "2024-11-07T15:51:48.345102Z"
    },
    "papermill": {
     "duration": 3.428972,
     "end_time": "2024-11-07T15:51:48.348069",
     "exception": false,
     "start_time": "2024-11-07T15:51:44.919097",
     "status": "completed"
    },
    "tags": []
   },
   "outputs": [],
   "source": [
    "import torch\n",
    "from torch.nn.functional import normalize\n",
    "from tqdm.notebook import tqdm"
   ]
  },
  {
   "cell_type": "code",
   "execution_count": 4,
   "id": "8dccd59c",
   "metadata": {
    "execution": {
     "iopub.execute_input": "2024-11-07T15:51:48.379637Z",
     "iopub.status.busy": "2024-11-07T15:51:48.379241Z",
     "iopub.status.idle": "2024-11-07T15:52:26.337421Z",
     "shell.execute_reply": "2024-11-07T15:52:26.336495Z"
    },
    "papermill": {
     "duration": 37.991221,
     "end_time": "2024-11-07T15:52:26.354393",
     "exception": false,
     "start_time": "2024-11-07T15:51:48.363172",
     "status": "completed"
    },
    "tags": []
   },
   "outputs": [
    {
     "data": {
      "text/plain": [
       "12218"
      ]
     },
     "execution_count": 4,
     "metadata": {},
     "output_type": "execute_result"
    }
   ],
   "source": [
    "\n",
    "visual_embeds = torch.load('/kaggle/input/dsc-visual-embeddings/visual_embeds.pt')\n",
    "# img_w = torch.load('/kaggle/input/lovecat-beitv2-b-p/beitv2-b-p.pt') # already-saved features\n",
    "len(visual_embeds)"
   ]
  },
  {
   "cell_type": "code",
   "execution_count": 5,
   "id": "5f13c881",
   "metadata": {
    "execution": {
     "iopub.execute_input": "2024-11-07T15:52:26.385406Z",
     "iopub.status.busy": "2024-11-07T15:52:26.385102Z",
     "iopub.status.idle": "2024-11-07T15:52:26.390674Z",
     "shell.execute_reply": "2024-11-07T15:52:26.389865Z"
    },
    "papermill": {
     "duration": 0.023338,
     "end_time": "2024-11-07T15:52:26.392489",
     "exception": false,
     "start_time": "2024-11-07T15:52:26.369151",
     "status": "completed"
    },
    "tags": []
   },
   "outputs": [
    {
     "data": {
      "text/plain": [
       "torch.Size([100, 1024])"
      ]
     },
     "execution_count": 5,
     "metadata": {},
     "output_type": "execute_result"
    }
   ],
   "source": [
    "visual_embeds['ac7931bb887ad853b41675f07595bf04469970d1b099ffc8806a4ceaac7d7940.jpg'].shape"
   ]
  },
  {
   "cell_type": "markdown",
   "id": "ce1b267f",
   "metadata": {
    "papermill": {
     "duration": 0.015848,
     "end_time": "2024-11-07T15:52:26.423125",
     "exception": false,
     "start_time": "2024-11-07T15:52:26.407277",
     "status": "completed"
    },
    "tags": []
   },
   "source": [
    "# Config"
   ]
  },
  {
   "cell_type": "code",
   "execution_count": 6,
   "id": "92931438",
   "metadata": {
    "execution": {
     "iopub.execute_input": "2024-11-07T15:52:26.453858Z",
     "iopub.status.busy": "2024-11-07T15:52:26.453584Z",
     "iopub.status.idle": "2024-11-07T15:52:38.892673Z",
     "shell.execute_reply": "2024-11-07T15:52:38.891852Z"
    },
    "papermill": {
     "duration": 12.457335,
     "end_time": "2024-11-07T15:52:38.895355",
     "exception": false,
     "start_time": "2024-11-07T15:52:26.438020",
     "status": "completed"
    },
    "tags": []
   },
   "outputs": [
    {
     "name": "stderr",
     "output_type": "stream",
     "text": [
      "/opt/conda/lib/python3.10/site-packages/scipy/__init__.py:146: UserWarning: A NumPy version >=1.16.5 and <1.23.0 is required for this version of SciPy (detected version 1.23.5\n",
      "  warnings.warn(f\"A NumPy version >={np_minversion} and <{np_maxversion}\"\n"
     ]
    }
   ],
   "source": [
    "import numpy as np\n",
    "import pandas as pd\n",
    "\n",
    "import torch\n",
    "import torch.nn as nn\n",
    "from torch.utils.data import Dataset, DataLoader\n",
    "\n",
    "import pytorch_lightning as pl\n",
    "from pytorch_lightning.callbacks import ModelCheckpoint, EarlyStopping\n",
    "from pytorch_lightning.loggers import TensorBoardLogger\n",
    "\n",
    "from transformers import BertTokenizer, AdamW, get_linear_schedule_with_warmup\n",
    "from transformers import VisualBertModel, VisualBertConfig\n",
    "\n",
    "from sklearn.model_selection import train_test_split\n",
    "from sklearn.metrics import f1_score, accuracy_score"
   ]
  },
  {
   "cell_type": "code",
   "execution_count": 7,
   "id": "dcf00103",
   "metadata": {
    "execution": {
     "iopub.execute_input": "2024-11-07T15:52:38.928845Z",
     "iopub.status.busy": "2024-11-07T15:52:38.928555Z",
     "iopub.status.idle": "2024-11-07T15:52:38.936118Z",
     "shell.execute_reply": "2024-11-07T15:52:38.935154Z"
    },
    "papermill": {
     "duration": 0.025915,
     "end_time": "2024-11-07T15:52:38.938348",
     "exception": false,
     "start_time": "2024-11-07T15:52:38.912433",
     "status": "completed"
    },
    "tags": []
   },
   "outputs": [],
   "source": [
    "class Config:\n",
    "   def __init__(self, random_seed = 42, max_len = 400, n_epochs = 2, batch_size = 8, learning_rate=2.5e-5, n_warmup_steps=100, warmup_ratio=0.05,\n",
    "                n_training_steps = 2 * 10000 // 8, visual_embedding_dim=1024, visual_model_name = 'uclanlp/visualbert-vqa-coco-pre',\n",
    "                classes = ['not-sarcasm', 'text-sarcasm', 'image-sarcasm', 'multi-sarcasm']):\n",
    "       self.random_seed = random_seed\n",
    "       self.max_len = max_len\n",
    "       self.n_classes = len(classes)\n",
    "       self.classes = classes\n",
    "       self.n_epochs = n_epochs\n",
    "       self.batch_size = batch_size\n",
    "       self.device = torch.device('cuda' if torch.cuda.is_available() else 'cpu')\n",
    "       self.n_warmup_steps = n_warmup_steps\n",
    "       self.learning_rate = learning_rate\n",
    "       self.warmup_ratio = warmup_ratio\n",
    "       self.visual_embedding_dim = visual_embedding_dim\n",
    "       self.visual_model_name = visual_model_name\n",
    "       self.n_training_steps = n_training_steps"
   ]
  },
  {
   "cell_type": "code",
   "execution_count": 8,
   "id": "ea0ebefd",
   "metadata": {
    "execution": {
     "iopub.execute_input": "2024-11-07T15:52:38.972880Z",
     "iopub.status.busy": "2024-11-07T15:52:38.972615Z",
     "iopub.status.idle": "2024-11-07T15:52:38.995454Z",
     "shell.execute_reply": "2024-11-07T15:52:38.994795Z"
    },
    "papermill": {
     "duration": 0.04128,
     "end_time": "2024-11-07T15:52:38.997268",
     "exception": false,
     "start_time": "2024-11-07T15:52:38.955988",
     "status": "completed"
    },
    "tags": []
   },
   "outputs": [],
   "source": [
    "import random\n",
    "\n",
    "import numpy as np\n",
    "\n",
    "import torch\n",
    "\n",
    "def set_SEED():\n",
    "    SEED = 42\n",
    "    random.seed(SEED)\n",
    "    np.random.seed(SEED)\n",
    "    torch.manual_seed(SEED)\n",
    "    torch.cuda.manual_seed(SEED)\n",
    "    torch.cuda.manual_seed_all(SEED)\n",
    "    torch.backends.cudnn.enabled = False\n",
    "    torch.backends.cudnn.benchmark = False\n",
    "    torch.backends.cudnn.deterministic = True\n",
    "set_SEED()"
   ]
  },
  {
   "cell_type": "code",
   "execution_count": 9,
   "id": "61da8e8e",
   "metadata": {
    "execution": {
     "iopub.execute_input": "2024-11-07T15:52:39.069676Z",
     "iopub.status.busy": "2024-11-07T15:52:39.069329Z",
     "iopub.status.idle": "2024-11-07T15:52:39.073707Z",
     "shell.execute_reply": "2024-11-07T15:52:39.072881Z"
    },
    "papermill": {
     "duration": 0.063531,
     "end_time": "2024-11-07T15:52:39.075728",
     "exception": false,
     "start_time": "2024-11-07T15:52:39.012197",
     "status": "completed"
    },
    "tags": []
   },
   "outputs": [],
   "source": [
    "device = torch.device(\"cuda:0\" if torch.cuda.is_available() else \"cpu\")"
   ]
  },
  {
   "cell_type": "markdown",
   "id": "59f6805e",
   "metadata": {
    "papermill": {
     "duration": 0.014723,
     "end_time": "2024-11-07T15:52:39.105614",
     "exception": false,
     "start_time": "2024-11-07T15:52:39.090891",
     "status": "completed"
    },
    "tags": []
   },
   "source": [
    "# Dataset"
   ]
  },
  {
   "cell_type": "code",
   "execution_count": 10,
   "id": "eba393ca",
   "metadata": {
    "execution": {
     "iopub.execute_input": "2024-11-07T15:52:39.136822Z",
     "iopub.status.busy": "2024-11-07T15:52:39.136548Z",
     "iopub.status.idle": "2024-11-07T15:52:39.147739Z",
     "shell.execute_reply": "2024-11-07T15:52:39.146972Z"
    },
    "papermill": {
     "duration": 0.02903,
     "end_time": "2024-11-07T15:52:39.149561",
     "exception": false,
     "start_time": "2024-11-07T15:52:39.120531",
     "status": "completed"
    },
    "tags": []
   },
   "outputs": [],
   "source": [
    "class MemesDataset(Dataset):\n",
    "    '''Wrap the tokenization process in a PyTorch Dataset, along with converting the labels to tensors'''\n",
    "    def __init__(self, data: pd.DataFrame, tokenizer: BertTokenizer, config: Config, visual_embeds):\n",
    "        self.tokenizer = tokenizer\n",
    "        self.data = data\n",
    "        self.max_len = config.max_len\n",
    "        self.visual_embeds = visual_embeds\n",
    "        self.classes = config.classes\n",
    "\n",
    "        # One-hot encode the labels\n",
    "        for class_name in self.classes:\n",
    "            self.data[class_name] = self.data['label'].apply(lambda x: 1 if x == class_name else 0)\n",
    "        self.data[self.classes] = self.data[self.classes].astype('int8')\n",
    "        print(self.data[self.classes].head())\n",
    "    \n",
    "    def __len__(self):\n",
    "        return len(self.data)\n",
    "\n",
    "    def __getitem__(self, index):\n",
    "\n",
    "        data_row = self.data.iloc[index]\n",
    "        text = data_row.caption\n",
    "        labels = data_row[self.classes].values.astype(int)\n",
    "        image_id = data_row['image_id']\n",
    "\n",
    "        tokens = self.tokenizer.encode_plus(\n",
    "            text,\n",
    "            add_special_tokens=True,\n",
    "            max_length=self.max_len,\n",
    "            return_token_type_ids=False,\n",
    "            padding=\"max_length\",\n",
    "            truncation=True,\n",
    "            return_attention_mask=True,\n",
    "            return_tensors='pt',\n",
    "        )\n",
    "\n",
    "        input_ids = tokens[\"input_ids\"].flatten()\n",
    "        attention_mask = tokens[\"attention_mask\"].flatten()\n",
    "\n",
    "        visual_embedding = self.visual_embeds[image_id].to('cpu')\n",
    "        visual_attention_mask = torch.ones(visual_embedding.shape[:-1], dtype=torch.float)\n",
    "        visual_token_type_ids = torch.ones(visual_embedding.shape[:-1], dtype=torch.long)\n",
    "\n",
    "        return dict(\n",
    "            input_ids=input_ids,\n",
    "            attention_mask=attention_mask,\n",
    "            visual_embedding=visual_embedding,\n",
    "            visual_attention_mask=visual_attention_mask,\n",
    "            visual_token_type_ids=visual_token_type_ids,\n",
    "            labels=torch.tensor(labels, dtype=torch.long)\n",
    "        )"
   ]
  },
  {
   "cell_type": "markdown",
   "id": "0768fa59",
   "metadata": {
    "papermill": {
     "duration": 0.014949,
     "end_time": "2024-11-07T15:52:39.179372",
     "exception": false,
     "start_time": "2024-11-07T15:52:39.164423",
     "status": "completed"
    },
    "tags": []
   },
   "source": [
    "## Prepare datasets"
   ]
  },
  {
   "cell_type": "code",
   "execution_count": 11,
   "id": "5a1536a2",
   "metadata": {
    "execution": {
     "iopub.execute_input": "2024-11-07T15:52:39.210596Z",
     "iopub.status.busy": "2024-11-07T15:52:39.210328Z",
     "iopub.status.idle": "2024-11-07T15:52:39.224497Z",
     "shell.execute_reply": "2024-11-07T15:52:39.223799Z"
    },
    "papermill": {
     "duration": 0.031968,
     "end_time": "2024-11-07T15:52:39.226397",
     "exception": false,
     "start_time": "2024-11-07T15:52:39.194429",
     "status": "completed"
    },
    "tags": []
   },
   "outputs": [],
   "source": [
    "emoji_file_path = '/kaggle/input/datasets-preprocesing/emoji_to_vietnamese.json'\n",
    "stopword_path = '/kaggle/input/datasets-preprocesing/vietnamese-stopwords.txt'\n",
    "\n",
    "def load_resources(stopword_path, emoji_file_path):\n",
    "    # Đọc stopword từ file txt\n",
    "    with open(stopword_path, 'r', encoding='utf-8') as f:\n",
    "        stopwords = set(f.read().splitlines())\n",
    "\n",
    "    # Đọc emoji từ file JSON\n",
    "    with open(emoji_file_path, 'r', encoding='utf-8') as emoji_file:\n",
    "        emoji_dict = json.load(emoji_file)\n",
    "\n",
    "    return stopwords, emoji_dict\n",
    "\n",
    "stopwords, emoji_dict = load_resources(stopword_path, emoji_file_path)"
   ]
  },
  {
   "cell_type": "code",
   "execution_count": 12,
   "id": "7b13aeff",
   "metadata": {
    "execution": {
     "iopub.execute_input": "2024-11-07T15:52:39.257492Z",
     "iopub.status.busy": "2024-11-07T15:52:39.257225Z",
     "iopub.status.idle": "2024-11-07T15:52:39.716444Z",
     "shell.execute_reply": "2024-11-07T15:52:39.715632Z"
    },
    "papermill": {
     "duration": 0.477277,
     "end_time": "2024-11-07T15:52:39.718745",
     "exception": false,
     "start_time": "2024-11-07T15:52:39.241468",
     "status": "completed"
    },
    "tags": []
   },
   "outputs": [],
   "source": [
    "import pandas as pd\n",
    "\n",
    "train_df = pd.DataFrame(train_json).T\n",
    "test_df = pd.DataFrame(dev_json).T # public test"
   ]
  },
  {
   "cell_type": "code",
   "execution_count": 13,
   "id": "a7dae107",
   "metadata": {
    "execution": {
     "iopub.execute_input": "2024-11-07T15:52:39.750836Z",
     "iopub.status.busy": "2024-11-07T15:52:39.750549Z",
     "iopub.status.idle": "2024-11-07T15:52:39.783389Z",
     "shell.execute_reply": "2024-11-07T15:52:39.782530Z"
    },
    "papermill": {
     "duration": 0.051182,
     "end_time": "2024-11-07T15:52:39.785357",
     "exception": false,
     "start_time": "2024-11-07T15:52:39.734175",
     "status": "completed"
    },
    "tags": []
   },
   "outputs": [
    {
     "data": {
      "text/html": [
       "<div>\n",
       "<style scoped>\n",
       "    .dataframe tbody tr th:only-of-type {\n",
       "        vertical-align: middle;\n",
       "    }\n",
       "\n",
       "    .dataframe tbody tr th {\n",
       "        vertical-align: top;\n",
       "    }\n",
       "\n",
       "    .dataframe thead th {\n",
       "        text-align: right;\n",
       "    }\n",
       "</style>\n",
       "<table border=\"1\" class=\"dataframe\">\n",
       "  <thead>\n",
       "    <tr style=\"text-align: right;\">\n",
       "      <th></th>\n",
       "      <th>caption</th>\n",
       "      <th>label</th>\n",
       "      <th>image_id</th>\n",
       "    </tr>\n",
       "  </thead>\n",
       "  <tbody>\n",
       "    <tr>\n",
       "      <th>0</th>\n",
       "      <td>Cô ấy trên mạng vs cô ấy ngoài đời =)))</td>\n",
       "      <td>multi-sarcasm</td>\n",
       "      <td>8ae451edcd8ebf697f8763ece249115813149c55733bf8...</td>\n",
       "    </tr>\n",
       "    <tr>\n",
       "      <th>1</th>\n",
       "      <td>Người tâm linh giao tiếp với người thực tế :)))</td>\n",
       "      <td>not-sarcasm</td>\n",
       "      <td>35370ffd6c791d6f8c4ab3dd4363ed468fab41e4824ee9...</td>\n",
       "    </tr>\n",
       "    <tr>\n",
       "      <th>2</th>\n",
       "      <td>Hình như Trăng hôm nay đẹp quá mọi người ạ! 😃 ...</td>\n",
       "      <td>multi-sarcasm</td>\n",
       "      <td>316fdd1477725b9fb1a55015ac06b68b92b50bd4303e08...</td>\n",
       "    </tr>\n",
       "    <tr>\n",
       "      <th>3</th>\n",
       "      <td>MỌI NGƯỜI NGHĨ SAO VỀ PHÁT BIỂU CỦA SHARK VIỆT...</td>\n",
       "      <td>not-sarcasm</td>\n",
       "      <td>8a0f34e0e30e4e5cfb306933c1d25fa801a5da78646b59...</td>\n",
       "    </tr>\n",
       "    <tr>\n",
       "      <th>4</th>\n",
       "      <td>2 tay hai nàng chứ việc gì phải lệ hai hàng</td>\n",
       "      <td>multi-sarcasm</td>\n",
       "      <td>e517a5e95d1065886a7c815e82fe254381d4f9f4b244d4...</td>\n",
       "    </tr>\n",
       "  </tbody>\n",
       "</table>\n",
       "</div>"
      ],
      "text/plain": [
       "                                             caption          label  \\\n",
       "0            Cô ấy trên mạng vs cô ấy ngoài đời =)))  multi-sarcasm   \n",
       "1    Người tâm linh giao tiếp với người thực tế :)))    not-sarcasm   \n",
       "2  Hình như Trăng hôm nay đẹp quá mọi người ạ! 😃 ...  multi-sarcasm   \n",
       "3  MỌI NGƯỜI NGHĨ SAO VỀ PHÁT BIỂU CỦA SHARK VIỆT...    not-sarcasm   \n",
       "4        2 tay hai nàng chứ việc gì phải lệ hai hàng  multi-sarcasm   \n",
       "\n",
       "                                            image_id  \n",
       "0  8ae451edcd8ebf697f8763ece249115813149c55733bf8...  \n",
       "1  35370ffd6c791d6f8c4ab3dd4363ed468fab41e4824ee9...  \n",
       "2  316fdd1477725b9fb1a55015ac06b68b92b50bd4303e08...  \n",
       "3  8a0f34e0e30e4e5cfb306933c1d25fa801a5da78646b59...  \n",
       "4  e517a5e95d1065886a7c815e82fe254381d4f9f4b244d4...  "
      ]
     },
     "execution_count": 13,
     "metadata": {},
     "output_type": "execute_result"
    }
   ],
   "source": [
    "train_df['image_id'] = train_df['image'].astype(str)\n",
    "test_df['image_id'] = test_df['image'].astype(str)\n",
    "\n",
    "train_df['caption'] = train_df['caption'].astype(str)\n",
    "test_df['caption'] = test_df['caption'].astype(str)\n",
    "\n",
    "train_df['label'] = train_df['label'].astype(str)\n",
    "test_df['label'] = test_df['label'].astype(str)\n",
    "\n",
    "train_df.drop(columns=['image'], inplace=True)\n",
    "test_df.drop(columns=['image'], inplace=True)\n",
    "\n",
    "train_df.head()"
   ]
  },
  {
   "cell_type": "markdown",
   "id": "ac79dbac",
   "metadata": {
    "papermill": {
     "duration": 0.014999,
     "end_time": "2024-11-07T15:52:39.815976",
     "exception": false,
     "start_time": "2024-11-07T15:52:39.800977",
     "status": "completed"
    },
    "tags": []
   },
   "source": [
    "### Features enrichment"
   ]
  },
  {
   "cell_type": "code",
   "execution_count": 14,
   "id": "2b3d770e",
   "metadata": {
    "execution": {
     "iopub.execute_input": "2024-11-07T15:52:39.847782Z",
     "iopub.status.busy": "2024-11-07T15:52:39.847451Z",
     "iopub.status.idle": "2024-11-07T15:52:54.643596Z",
     "shell.execute_reply": "2024-11-07T15:52:54.642561Z"
    },
    "papermill": {
     "duration": 14.814686,
     "end_time": "2024-11-07T15:52:54.645930",
     "exception": false,
     "start_time": "2024-11-07T15:52:39.831244",
     "status": "completed"
    },
    "tags": []
   },
   "outputs": [
    {
     "name": "stdout",
     "output_type": "stream",
     "text": [
      "Downloading...\r\n",
      "From: https://drive.google.com/uc?id=1q7_-PEQQ6IR3Ortz45vEiSiOnweRJ40H\r\n",
      "To: /kaggle/working/vi_train_captions.json\r\n",
      "100%|██████████████████████████████████████| 11.3M/11.3M [00:00<00:00, 53.3MB/s]\r\n",
      "Downloading...\r\n",
      "From: https://drive.google.com/uc?id=1wldmw8IJgX-nK2_yfo8fLx55KfWGIZhp\r\n",
      "To: /kaggle/working/vi_dev_captions.json\r\n",
      "100%|███████████████████████████████████████| 1.14M/1.14M [00:00<00:00, 105MB/s]\r\n"
     ]
    }
   ],
   "source": [
    "!gdown 1q7_-PEQQ6IR3Ortz45vEiSiOnweRJ40H # cap train\n",
    "!gdown 1wldmw8IJgX-nK2_yfo8fLx55KfWGIZhp # cap dev "
   ]
  },
  {
   "cell_type": "code",
   "execution_count": 15,
   "id": "fb56eb34",
   "metadata": {
    "execution": {
     "iopub.execute_input": "2024-11-07T15:52:54.679730Z",
     "iopub.status.busy": "2024-11-07T15:52:54.679371Z",
     "iopub.status.idle": "2024-11-07T15:53:04.945101Z",
     "shell.execute_reply": "2024-11-07T15:53:04.943948Z"
    },
    "papermill": {
     "duration": 10.285516,
     "end_time": "2024-11-07T15:53:04.947675",
     "exception": false,
     "start_time": "2024-11-07T15:52:54.662159",
     "status": "completed"
    },
    "tags": []
   },
   "outputs": [
    {
     "name": "stdout",
     "output_type": "stream",
     "text": [
      "Downloading...\r\n",
      "From: https://drive.google.com/uc?id=1AnM0RUMfyGYWaiUgafufEKMjB8zo5dUt\r\n",
      "To: /kaggle/working/objects-recognition-train.json\r\n",
      "100%|███████████████████████████████████████| 2.49M/2.49M [00:00<00:00, 166MB/s]\r\n",
      "Downloading...\r\n",
      "From: https://drive.google.com/uc?id=1sk2vJutRJLCUwQ6ZKJQeYFKpvdkjUiBs\r\n",
      "To: /kaggle/working/objects-recognition-dev.json\r\n",
      "100%|█████████████████████████████████████████| 317k/317k [00:00<00:00, 102MB/s]\r\n"
     ]
    }
   ],
   "source": [
    "!gdown 1AnM0RUMfyGYWaiUgafufEKMjB8zo5dUt # object reg train\n",
    "!gdown 1sk2vJutRJLCUwQ6ZKJQeYFKpvdkjUiBs # object reg dev"
   ]
  },
  {
   "cell_type": "code",
   "execution_count": 16,
   "id": "7c461e01",
   "metadata": {
    "execution": {
     "iopub.execute_input": "2024-11-07T15:53:04.981779Z",
     "iopub.status.busy": "2024-11-07T15:53:04.981432Z",
     "iopub.status.idle": "2024-11-07T15:53:15.085816Z",
     "shell.execute_reply": "2024-11-07T15:53:15.084700Z"
    },
    "papermill": {
     "duration": 10.124199,
     "end_time": "2024-11-07T15:53:15.088246",
     "exception": false,
     "start_time": "2024-11-07T15:53:04.964047",
     "status": "completed"
    },
    "tags": []
   },
   "outputs": [
    {
     "name": "stdout",
     "output_type": "stream",
     "text": [
      "Downloading...\r\n",
      "From: https://drive.google.com/uc?id=1nh3y-lXq2CEc_rwzeTqGIU69VZA4eVEn\r\n",
      "To: /kaggle/working/ocr-results-dev.json\r\n",
      "100%|████████████████████████████████████████| 669k/669k [00:00<00:00, 74.2MB/s]\r\n",
      "Downloading...\r\n",
      "From: https://drive.google.com/uc?id=1YSn-dWwprc0nhOgRUIj5aFPaW9lxKWZT\r\n",
      "To: /kaggle/working/ocr-results-train.json\r\n",
      "100%|███████████████████████████████████████| 4.06M/4.06M [00:00<00:00, 203MB/s]\r\n"
     ]
    }
   ],
   "source": [
    "!gdown 1nh3y-lXq2CEc_rwzeTqGIU69VZA4eVEn # OCR dev\n",
    "!gdown 1YSn-dWwprc0nhOgRUIj5aFPaW9lxKWZT"
   ]
  },
  {
   "cell_type": "code",
   "execution_count": 17,
   "id": "bd2c2ead",
   "metadata": {
    "execution": {
     "iopub.execute_input": "2024-11-07T15:53:15.123090Z",
     "iopub.status.busy": "2024-11-07T15:53:15.122714Z",
     "iopub.status.idle": "2024-11-07T15:53:15.306297Z",
     "shell.execute_reply": "2024-11-07T15:53:15.305444Z"
    },
    "papermill": {
     "duration": 0.203522,
     "end_time": "2024-11-07T15:53:15.308555",
     "exception": false,
     "start_time": "2024-11-07T15:53:15.105033",
     "status": "completed"
    },
    "tags": []
   },
   "outputs": [],
   "source": [
    "\n",
    "# Open JSON files with utf-8 encoding to handle non-ASCII characters\n",
    "with open('/kaggle/working/vi_train_captions.json', encoding='utf-8') as f:\n",
    "    cap_train = json.load(f)\n",
    "\n",
    "with open('/kaggle/working/vi_dev_captions.json', encoding='utf-8') as f:\n",
    "    cap_test = json.load(f)\n",
    "\n",
    "with open('/kaggle/working/objects-recognition-train.json', encoding='utf-8') as f:\n",
    "    obj_train = json.load(f)\n",
    "\n",
    "with open('/kaggle/working/objects-recognition-dev.json', encoding='utf-8') as f:\n",
    "    obj_test = json.load(f)\n",
    "\n",
    "with open('/kaggle/working/ocr-results-dev.json', encoding='utf-8') as f:\n",
    "    ocr_test = json.load(f)\n",
    "\n",
    "with open('/kaggle/working/ocr-results-train.json', encoding='utf-8') as f:\n",
    "    ocr_train = json.load(f)"
   ]
  },
  {
   "cell_type": "code",
   "execution_count": 18,
   "id": "f6f87802",
   "metadata": {
    "execution": {
     "iopub.execute_input": "2024-11-07T15:53:15.346103Z",
     "iopub.status.busy": "2024-11-07T15:53:15.345708Z",
     "iopub.status.idle": "2024-11-07T15:53:15.351668Z",
     "shell.execute_reply": "2024-11-07T15:53:15.350821Z"
    },
    "papermill": {
     "duration": 0.028698,
     "end_time": "2024-11-07T15:53:15.353930",
     "exception": false,
     "start_time": "2024-11-07T15:53:15.325232",
     "status": "completed"
    },
    "tags": []
   },
   "outputs": [],
   "source": [
    "def json_to_df(json):\n",
    "    df = pd.DataFrame(json)\n",
    "    df['image_id'] = df['image'].astype(str)\n",
    "    df.drop(columns=['image'], inplace=True)\n",
    "\n",
    "    return df"
   ]
  },
  {
   "cell_type": "code",
   "execution_count": 19,
   "id": "babb0821",
   "metadata": {
    "execution": {
     "iopub.execute_input": "2024-11-07T15:53:15.403807Z",
     "iopub.status.busy": "2024-11-07T15:53:15.403424Z",
     "iopub.status.idle": "2024-11-07T15:53:15.421722Z",
     "shell.execute_reply": "2024-11-07T15:53:15.420942Z"
    },
    "papermill": {
     "duration": 0.044508,
     "end_time": "2024-11-07T15:53:15.423801",
     "exception": false,
     "start_time": "2024-11-07T15:53:15.379293",
     "status": "completed"
    },
    "tags": []
   },
   "outputs": [],
   "source": [
    "for item in ocr_train:\n",
    "    item[\"OCR\"] = \", \".join(item[\"OCR\"])\n",
    "for item in ocr_test:\n",
    "    item[\"OCR\"] = \", \".join(item[\"OCR\"])"
   ]
  },
  {
   "cell_type": "code",
   "execution_count": 20,
   "id": "c69e0219",
   "metadata": {
    "execution": {
     "iopub.execute_input": "2024-11-07T15:53:15.458061Z",
     "iopub.status.busy": "2024-11-07T15:53:15.457707Z",
     "iopub.status.idle": "2024-11-07T15:53:15.505573Z",
     "shell.execute_reply": "2024-11-07T15:53:15.504823Z"
    },
    "papermill": {
     "duration": 0.067438,
     "end_time": "2024-11-07T15:53:15.507860",
     "exception": false,
     "start_time": "2024-11-07T15:53:15.440422",
     "status": "completed"
    },
    "tags": []
   },
   "outputs": [],
   "source": [
    "cap_test_df = json_to_df(cap_test)\n",
    "\n",
    "cap_train_df = json_to_df(cap_train)\n",
    "\n",
    "obj_train_df = json_to_df(obj_train)\n",
    "\n",
    "obj_test_df = json_to_df(obj_test)\n",
    "\n",
    "ocr_train_df = json_to_df(ocr_train)\n",
    "\n",
    "ocr_test_df = json_to_df(ocr_test)"
   ]
  },
  {
   "cell_type": "code",
   "execution_count": 21,
   "id": "c94e62d7",
   "metadata": {
    "execution": {
     "iopub.execute_input": "2024-11-07T15:53:15.542297Z",
     "iopub.status.busy": "2024-11-07T15:53:15.541979Z",
     "iopub.status.idle": "2024-11-07T15:53:15.563281Z",
     "shell.execute_reply": "2024-11-07T15:53:15.562425Z"
    },
    "papermill": {
     "duration": 0.040413,
     "end_time": "2024-11-07T15:53:15.565183",
     "exception": false,
     "start_time": "2024-11-07T15:53:15.524770",
     "status": "completed"
    },
    "tags": []
   },
   "outputs": [
    {
     "data": {
      "text/html": [
       "<div>\n",
       "<style scoped>\n",
       "    .dataframe tbody tr th:only-of-type {\n",
       "        vertical-align: middle;\n",
       "    }\n",
       "\n",
       "    .dataframe tbody tr th {\n",
       "        vertical-align: top;\n",
       "    }\n",
       "\n",
       "    .dataframe thead th {\n",
       "        text-align: right;\n",
       "    }\n",
       "</style>\n",
       "<table border=\"1\" class=\"dataframe\">\n",
       "  <thead>\n",
       "    <tr style=\"text-align: right;\">\n",
       "      <th></th>\n",
       "      <th>object_recognition</th>\n",
       "      <th>image_id</th>\n",
       "    </tr>\n",
       "  </thead>\n",
       "  <tbody>\n",
       "    <tr>\n",
       "      <th>0</th>\n",
       "      <td>Trong hình có người, đồ vật, phim hoạt hình, đ...</td>\n",
       "      <td>2d06d8c77c741d001916199346cc112847e6bcf61b3dce...</td>\n",
       "    </tr>\n",
       "    <tr>\n",
       "      <th>1</th>\n",
       "      <td>Trong hình có truyện, người, dải, phim hoạt hì...</td>\n",
       "      <td>c981f23fc77cebd06ea872ea2c0ff6ec43a9d2517366ed...</td>\n",
       "    </tr>\n",
       "    <tr>\n",
       "      <th>2</th>\n",
       "      <td>Trong hình có số, ghi, chữ.</td>\n",
       "      <td>342c9a8f91adeacde0f2c26dee3e6b86861b43e948d10b...</td>\n",
       "    </tr>\n",
       "    <tr>\n",
       "      <th>3</th>\n",
       "      <td>Trong hình có diều, người, văn bản.</td>\n",
       "      <td>2aa95c65c0a6444caff0657ed21e27fbc403af1727749a...</td>\n",
       "    </tr>\n",
       "    <tr>\n",
       "      <th>4</th>\n",
       "      <td>Trong hình có suv, xe thể, quảng cáo, xe hơi, ...</td>\n",
       "      <td>9d6ebb26087b8d6051f77ef7cbf3e9a0d750baa41b45d7...</td>\n",
       "    </tr>\n",
       "  </tbody>\n",
       "</table>\n",
       "</div>"
      ],
      "text/plain": [
       "                                  object_recognition  \\\n",
       "0  Trong hình có người, đồ vật, phim hoạt hình, đ...   \n",
       "1  Trong hình có truyện, người, dải, phim hoạt hì...   \n",
       "2                       Trong hình có số, ghi, chữ.    \n",
       "3               Trong hình có diều, người, văn bản.    \n",
       "4  Trong hình có suv, xe thể, quảng cáo, xe hơi, ...   \n",
       "\n",
       "                                            image_id  \n",
       "0  2d06d8c77c741d001916199346cc112847e6bcf61b3dce...  \n",
       "1  c981f23fc77cebd06ea872ea2c0ff6ec43a9d2517366ed...  \n",
       "2  342c9a8f91adeacde0f2c26dee3e6b86861b43e948d10b...  \n",
       "3  2aa95c65c0a6444caff0657ed21e27fbc403af1727749a...  \n",
       "4  9d6ebb26087b8d6051f77ef7cbf3e9a0d750baa41b45d7...  "
      ]
     },
     "execution_count": 21,
     "metadata": {},
     "output_type": "execute_result"
    }
   ],
   "source": [
    "obj_train_df['object_recognition'] = obj_train_df['object_recognition'].apply(lambda x: \"Trong hình có \" + x + \". \" if len(x) > 0 else \"\")\n",
    "obj_test_df['object_recognition'] = obj_test_df['object_recognition'].apply(lambda x: \"Trong hình có \" + x + \". \" if len(x) > 0 else \"\")\n",
    "obj_test_df.head()"
   ]
  },
  {
   "cell_type": "code",
   "execution_count": 22,
   "id": "49667cb5",
   "metadata": {
    "execution": {
     "iopub.execute_input": "2024-11-07T15:53:15.600567Z",
     "iopub.status.busy": "2024-11-07T15:53:15.600261Z",
     "iopub.status.idle": "2024-11-07T15:53:15.615736Z",
     "shell.execute_reply": "2024-11-07T15:53:15.614901Z"
    },
    "papermill": {
     "duration": 0.035985,
     "end_time": "2024-11-07T15:53:15.617680",
     "exception": false,
     "start_time": "2024-11-07T15:53:15.581695",
     "status": "completed"
    },
    "tags": []
   },
   "outputs": [],
   "source": [
    "ocr_train_df['OCR'] = ocr_train_df['OCR'].apply(lambda row: \"Chữ trong hình là \" + row + \". \" if len(row) > 0 else \"\")\n",
    "ocr_test_df['OCR'] = ocr_test_df['OCR'].apply(lambda row: \"Chữ trong hình là \" + row + \". \" if len(row) > 0 else \"\")\n",
    "\n",
    "# cap_train_df['caption'] = cap_train_df['caption'].apply(lambda row: row[:150] if len(row) > 150 else row)\n",
    "# cap_test_df['caption'] = cap_test_df['caption'].apply(lambda row: row[:150] if len(row) > 150 else row)"
   ]
  },
  {
   "cell_type": "code",
   "execution_count": 23,
   "id": "6a45e856",
   "metadata": {
    "execution": {
     "iopub.execute_input": "2024-11-07T15:53:15.651757Z",
     "iopub.status.busy": "2024-11-07T15:53:15.651505Z",
     "iopub.status.idle": "2024-11-07T15:53:15.656552Z",
     "shell.execute_reply": "2024-11-07T15:53:15.655713Z"
    },
    "papermill": {
     "duration": 0.024161,
     "end_time": "2024-11-07T15:53:15.658380",
     "exception": false,
     "start_time": "2024-11-07T15:53:15.634219",
     "status": "completed"
    },
    "tags": []
   },
   "outputs": [],
   "source": [
    "def enrich(df1, df2, add_field):\n",
    "    temp = df2.set_index('image_id')\n",
    "    \n",
    "    df1['caption'] = df1.apply(\n",
    "        lambda row: row['caption'] + ' ' + temp.loc[row['image_id'], add_field]\n",
    "        if row['image_id'] in temp.index else row['caption'], axis=1\n",
    "    )\n",
    "\n",
    "    return df1\n"
   ]
  },
  {
   "cell_type": "code",
   "execution_count": 24,
   "id": "f8779e9c",
   "metadata": {
    "execution": {
     "iopub.execute_input": "2024-11-07T15:53:15.692835Z",
     "iopub.status.busy": "2024-11-07T15:53:15.692513Z",
     "iopub.status.idle": "2024-11-07T15:53:30.256977Z",
     "shell.execute_reply": "2024-11-07T15:53:30.256100Z"
    },
    "papermill": {
     "duration": 14.584592,
     "end_time": "2024-11-07T15:53:30.259392",
     "exception": false,
     "start_time": "2024-11-07T15:53:15.674800",
     "status": "completed"
    },
    "tags": []
   },
   "outputs": [],
   "source": [
    "train_df['caption'] = train_df['caption'].apply(lambda x: x[:150] if len(x) > 150 else x)\n",
    "test_df['caption'] = test_df['caption'].apply(lambda x: x[:150] if len(x) > 150 else x)\n",
    "\n",
    "train_df = enrich(train_df, ocr_train_df, 'OCR')\n",
    "test_df = enrich(test_df, ocr_test_df, 'OCR')\n",
    "\n",
    "train_df = enrich(train_df, cap_train_df, 'caption')\n",
    "test_df = enrich(test_df, cap_test_df, 'caption')\n",
    "\n",
    "# train_df = enrich(train_df, obj_train_df, 'object_recognition')\n",
    "# test_df = enrich(test_df, obj_test_df, 'object_recognition')"
   ]
  },
  {
   "cell_type": "code",
   "execution_count": 25,
   "id": "004e836a",
   "metadata": {
    "execution": {
     "iopub.execute_input": "2024-11-07T15:53:30.294388Z",
     "iopub.status.busy": "2024-11-07T15:53:30.294082Z",
     "iopub.status.idle": "2024-11-07T15:53:30.304126Z",
     "shell.execute_reply": "2024-11-07T15:53:30.303229Z"
    },
    "papermill": {
     "duration": 0.029715,
     "end_time": "2024-11-07T15:53:30.306179",
     "exception": false,
     "start_time": "2024-11-07T15:53:30.276464",
     "status": "completed"
    },
    "tags": []
   },
   "outputs": [
    {
     "data": {
      "text/html": [
       "<div>\n",
       "<style scoped>\n",
       "    .dataframe tbody tr th:only-of-type {\n",
       "        vertical-align: middle;\n",
       "    }\n",
       "\n",
       "    .dataframe tbody tr th {\n",
       "        vertical-align: top;\n",
       "    }\n",
       "\n",
       "    .dataframe thead th {\n",
       "        text-align: right;\n",
       "    }\n",
       "</style>\n",
       "<table border=\"1\" class=\"dataframe\">\n",
       "  <thead>\n",
       "    <tr style=\"text-align: right;\">\n",
       "      <th></th>\n",
       "      <th>caption</th>\n",
       "      <th>label</th>\n",
       "      <th>image_id</th>\n",
       "    </tr>\n",
       "  </thead>\n",
       "  <tbody>\n",
       "    <tr>\n",
       "      <th>0</th>\n",
       "      <td>Cô ấy trên mạng vs cô ấy ngoài đời =)))  Bức ả...</td>\n",
       "      <td>multi-sarcasm</td>\n",
       "      <td>8ae451edcd8ebf697f8763ece249115813149c55733bf8...</td>\n",
       "    </tr>\n",
       "    <tr>\n",
       "      <th>1</th>\n",
       "      <td>Người tâm linh giao tiếp với người thực tế :))...</td>\n",
       "      <td>not-sarcasm</td>\n",
       "      <td>35370ffd6c791d6f8c4ab3dd4363ed468fab41e4824ee9...</td>\n",
       "    </tr>\n",
       "    <tr>\n",
       "      <th>2</th>\n",
       "      <td>Hình như Trăng hôm nay đẹp quá mọi người ạ! 😃 ...</td>\n",
       "      <td>multi-sarcasm</td>\n",
       "      <td>316fdd1477725b9fb1a55015ac06b68b92b50bd4303e08...</td>\n",
       "    </tr>\n",
       "    <tr>\n",
       "      <th>3</th>\n",
       "      <td>MỌI NGƯỜI NGHĨ SAO VỀ PHÁT BIỂU CỦA SHARK VIỆT...</td>\n",
       "      <td>not-sarcasm</td>\n",
       "      <td>8a0f34e0e30e4e5cfb306933c1d25fa801a5da78646b59...</td>\n",
       "    </tr>\n",
       "    <tr>\n",
       "      <th>4</th>\n",
       "      <td>2 tay hai nàng chứ việc gì phải lệ hai hàng  H...</td>\n",
       "      <td>multi-sarcasm</td>\n",
       "      <td>e517a5e95d1065886a7c815e82fe254381d4f9f4b244d4...</td>\n",
       "    </tr>\n",
       "  </tbody>\n",
       "</table>\n",
       "</div>"
      ],
      "text/plain": [
       "                                             caption          label  \\\n",
       "0  Cô ấy trên mạng vs cô ấy ngoài đời =)))  Bức ả...  multi-sarcasm   \n",
       "1  Người tâm linh giao tiếp với người thực tế :))...    not-sarcasm   \n",
       "2  Hình như Trăng hôm nay đẹp quá mọi người ạ! 😃 ...  multi-sarcasm   \n",
       "3  MỌI NGƯỜI NGHĨ SAO VỀ PHÁT BIỂU CỦA SHARK VIỆT...    not-sarcasm   \n",
       "4  2 tay hai nàng chứ việc gì phải lệ hai hàng  H...  multi-sarcasm   \n",
       "\n",
       "                                            image_id  \n",
       "0  8ae451edcd8ebf697f8763ece249115813149c55733bf8...  \n",
       "1  35370ffd6c791d6f8c4ab3dd4363ed468fab41e4824ee9...  \n",
       "2  316fdd1477725b9fb1a55015ac06b68b92b50bd4303e08...  \n",
       "3  8a0f34e0e30e4e5cfb306933c1d25fa801a5da78646b59...  \n",
       "4  e517a5e95d1065886a7c815e82fe254381d4f9f4b244d4...  "
      ]
     },
     "execution_count": 25,
     "metadata": {},
     "output_type": "execute_result"
    }
   ],
   "source": [
    "train_df.head()"
   ]
  },
  {
   "cell_type": "markdown",
   "id": "05c1227b",
   "metadata": {
    "papermill": {
     "duration": 0.016716,
     "end_time": "2024-11-07T15:53:30.340732",
     "exception": false,
     "start_time": "2024-11-07T15:53:30.324016",
     "status": "completed"
    },
    "tags": []
   },
   "source": [
    "### Text preprocessing"
   ]
  },
  {
   "cell_type": "code",
   "execution_count": 26,
   "id": "fca52b4d",
   "metadata": {
    "execution": {
     "iopub.execute_input": "2024-11-07T15:53:30.376400Z",
     "iopub.status.busy": "2024-11-07T15:53:30.375543Z",
     "iopub.status.idle": "2024-11-07T15:53:30.383860Z",
     "shell.execute_reply": "2024-11-07T15:53:30.383030Z"
    },
    "papermill": {
     "duration": 0.028535,
     "end_time": "2024-11-07T15:53:30.385840",
     "exception": false,
     "start_time": "2024-11-07T15:53:30.357305",
     "status": "completed"
    },
    "tags": []
   },
   "outputs": [],
   "source": [
    "import re\n",
    "def preprocess_text(text):\n",
    "    def remove_stopwords(text):\n",
    "        return text\n",
    "    def replace_emojis(text):\n",
    "        for emoji, description in emoji_dict.get('emoji', {}).items():\n",
    "            text = text.replace(emoji, description)  # Thay thế emoji bằng mô tả\n",
    "        return text\n",
    "\n",
    "    def replace_emoticons(text):\n",
    "        for emoticon, meaning in emoji_dict.get('biểu_tượng', {}).items():\n",
    "            emoticon_pattern = re.escape(emoticon) + r\"{1,}\"\n",
    "            text = re.sub(emoticon_pattern, meaning, text)\n",
    "        return text\n",
    "\n",
    "    def normalize_text(text):\n",
    "        text = text.lower()  # Chuyển thành chữ thường\n",
    "        text = re.sub(r'(?<=\\w)[\\/\\.\\-\\_,\\\\](?=\\w)', '', text)  # Loại bỏ dấu chấm hoặc gạch nối trong từ\n",
    "        return text\n",
    "\n",
    "    text = replace_emojis(text)       # Thay thế emoji\n",
    "    text = replace_emoticons(text)    # Thay thế biểu cảm\n",
    "    text = normalize_text(text)       # Chuẩn hóa văn bản\n",
    "    text = remove_stopwords(text)\n",
    "    return text"
   ]
  },
  {
   "cell_type": "code",
   "execution_count": 27,
   "id": "802d9a1d",
   "metadata": {
    "execution": {
     "iopub.execute_input": "2024-11-07T15:53:30.420517Z",
     "iopub.status.busy": "2024-11-07T15:53:30.420008Z",
     "iopub.status.idle": "2024-11-07T15:53:30.509832Z",
     "shell.execute_reply": "2024-11-07T15:53:30.508946Z"
    },
    "papermill": {
     "duration": 0.109498,
     "end_time": "2024-11-07T15:53:30.511879",
     "exception": false,
     "start_time": "2024-11-07T15:53:30.402381",
     "status": "completed"
    },
    "tags": []
   },
   "outputs": [],
   "source": [
    "train_df['caption'] = train_df['caption'].astype(str)\n",
    "test_df['caption'] = test_df['caption'].astype(str)"
   ]
  },
  {
   "cell_type": "code",
   "execution_count": 28,
   "id": "cbd41414",
   "metadata": {
    "execution": {
     "iopub.execute_input": "2024-11-07T15:53:30.546596Z",
     "iopub.status.busy": "2024-11-07T15:53:30.546105Z",
     "iopub.status.idle": "2024-11-07T15:53:32.251668Z",
     "shell.execute_reply": "2024-11-07T15:53:32.250675Z"
    },
    "papermill": {
     "duration": 1.725508,
     "end_time": "2024-11-07T15:53:32.254245",
     "exception": false,
     "start_time": "2024-11-07T15:53:30.528737",
     "status": "completed"
    },
    "tags": []
   },
   "outputs": [],
   "source": [
    "train_df['caption'] = train_df['caption'].apply(preprocess_text)\n",
    "test_df['caption'] = test_df['caption'].apply(preprocess_text)"
   ]
  },
  {
   "cell_type": "code",
   "execution_count": 29,
   "id": "62917021",
   "metadata": {
    "execution": {
     "iopub.execute_input": "2024-11-07T15:53:32.290651Z",
     "iopub.status.busy": "2024-11-07T15:53:32.289779Z",
     "iopub.status.idle": "2024-11-07T15:53:32.296507Z",
     "shell.execute_reply": "2024-11-07T15:53:32.295628Z"
    },
    "papermill": {
     "duration": 0.026868,
     "end_time": "2024-11-07T15:53:32.298478",
     "exception": false,
     "start_time": "2024-11-07T15:53:32.271610",
     "status": "completed"
    },
    "tags": []
   },
   "outputs": [
    {
     "data": {
      "text/plain": [
       "'may mà gặp được tôi chữ trong hình là trờl olll_, làm sao thế này?!?, cậu bạn này đang vẽ dở, thỉ lăn đùng ra (o giật, sùl bọt mép!, nguy quá!, để tôl glúp!, 1.  hình ảnh mô tả một dải truyện tranh có một nhân vật hoạt hình và một người đang vẽ trên giá vẽ. nhân vật hoạt hình đang cầm một cây cọ vẽ trên một tay và một cây cọ trên tay kia, trong khi người đó đang ngồi trên giá vẽ với nụ cười trên môi. nội dung của hình ảnh có thể mang tính châm biếm, vì người đó đang cố gắng trêu chọc nỗ lực vẽ của người khác. tuy nhiên, nó cũng có thể mang tính giải trí, vì người đó dường như đang có một khoảng thời gian vui vẻ khi vẽ trên giá vẽ. nhìn chung, nội dung của hình ảnh có thể được coi là châm biếm hoặc giải trí, tùy thuộc vào quan điểm của người đó.'"
      ]
     },
     "execution_count": 29,
     "metadata": {},
     "output_type": "execute_result"
    }
   ],
   "source": [
    "train_df['caption'].iloc[2003]"
   ]
  },
  {
   "cell_type": "code",
   "execution_count": 30,
   "id": "ef528ce4",
   "metadata": {
    "execution": {
     "iopub.execute_input": "2024-11-07T15:53:32.334755Z",
     "iopub.status.busy": "2024-11-07T15:53:32.334138Z",
     "iopub.status.idle": "2024-11-07T15:53:32.370171Z",
     "shell.execute_reply": "2024-11-07T15:53:32.369374Z"
    },
    "papermill": {
     "duration": 0.056656,
     "end_time": "2024-11-07T15:53:32.372444",
     "exception": false,
     "start_time": "2024-11-07T15:53:32.315788",
     "status": "completed"
    },
    "tags": []
   },
   "outputs": [],
   "source": [
    "import pandas as pd\n",
    "\n",
    "from sklearn.model_selection import train_test_split\n",
    "\n",
    "X = train_df.drop(columns=['label'])  # Features\n",
    "y = train_df['label']  # Labels\n",
    "\n",
    "X_train, X_test, y_train, y_test = train_test_split(X, y, test_size=0.1, stratify=y, random_state=42)\n",
    "\n",
    "train_df = pd.concat([X_train, y_train], axis=1)\n",
    "val_df = pd.concat([X_test, y_test], axis=1)"
   ]
  },
  {
   "cell_type": "code",
   "execution_count": 31,
   "id": "c42f5987",
   "metadata": {
    "execution": {
     "iopub.execute_input": "2024-11-07T15:53:32.408798Z",
     "iopub.status.busy": "2024-11-07T15:53:32.407966Z",
     "iopub.status.idle": "2024-11-07T15:53:32.412845Z",
     "shell.execute_reply": "2024-11-07T15:53:32.411977Z"
    },
    "papermill": {
     "duration": 0.025256,
     "end_time": "2024-11-07T15:53:32.415180",
     "exception": false,
     "start_time": "2024-11-07T15:53:32.389924",
     "status": "completed"
    },
    "tags": []
   },
   "outputs": [
    {
     "name": "stdout",
     "output_type": "stream",
     "text": [
      "(9724, 3) (1081, 3) (1413, 3)\n"
     ]
    }
   ],
   "source": [
    "print(train_df.shape, val_df.shape, test_df.shape)"
   ]
  },
  {
   "cell_type": "markdown",
   "id": "732652d8",
   "metadata": {
    "papermill": {
     "duration": 0.016673,
     "end_time": "2024-11-07T15:53:32.449040",
     "exception": false,
     "start_time": "2024-11-07T15:53:32.432367",
     "status": "completed"
    },
    "tags": []
   },
   "source": [
    "## Create datasets"
   ]
  },
  {
   "cell_type": "code",
   "execution_count": 32,
   "id": "506cd01b",
   "metadata": {
    "execution": {
     "iopub.execute_input": "2024-11-07T15:53:32.484386Z",
     "iopub.status.busy": "2024-11-07T15:53:32.484041Z",
     "iopub.status.idle": "2024-11-07T15:53:33.855133Z",
     "shell.execute_reply": "2024-11-07T15:53:33.854208Z"
    },
    "papermill": {
     "duration": 1.391673,
     "end_time": "2024-11-07T15:53:33.857549",
     "exception": false,
     "start_time": "2024-11-07T15:53:32.465876",
     "status": "completed"
    },
    "tags": []
   },
   "outputs": [
    {
     "data": {
      "application/vnd.jupyter.widget-view+json": {
       "model_id": "4eb28e530c924421a9a43b393dbac75f",
       "version_major": 2,
       "version_minor": 0
      },
      "text/plain": [
       "Downloading config.json:   0%|          | 0.00/644 [00:00<?, ?B/s]"
      ]
     },
     "metadata": {},
     "output_type": "display_data"
    },
    {
     "data": {
      "application/vnd.jupyter.widget-view+json": {
       "model_id": "d8470acf444c4f3692eed6eada67fc76",
       "version_major": 2,
       "version_minor": 0
      },
      "text/plain": [
       "Downloading (…)tencepiece.bpe.model:   0%|          | 0.00/471k [00:00<?, ?B/s]"
      ]
     },
     "metadata": {},
     "output_type": "display_data"
    }
   ],
   "source": [
    "from transformers import AutoTokenizer\n",
    "config = Config()\n",
    "tokenizer = AutoTokenizer.from_pretrained('uitnlp/visobert')"
   ]
  },
  {
   "cell_type": "code",
   "execution_count": 33,
   "id": "6aca07f0",
   "metadata": {
    "execution": {
     "iopub.execute_input": "2024-11-07T15:53:33.894261Z",
     "iopub.status.busy": "2024-11-07T15:53:33.893595Z",
     "iopub.status.idle": "2024-11-07T15:53:33.954008Z",
     "shell.execute_reply": "2024-11-07T15:53:33.952950Z"
    },
    "papermill": {
     "duration": 0.080924,
     "end_time": "2024-11-07T15:53:33.956126",
     "exception": false,
     "start_time": "2024-11-07T15:53:33.875202",
     "status": "completed"
    },
    "tags": []
   },
   "outputs": [
    {
     "name": "stdout",
     "output_type": "stream",
     "text": [
      "       not-sarcasm  text-sarcasm  image-sarcasm  multi-sarcasm\n",
      "4004             0             0              0              1\n",
      "10369            0             0              0              1\n",
      "1157             1             0              0              0\n",
      "6181             1             0              0              0\n",
      "3987             1             0              0              0\n",
      "      not-sarcasm  text-sarcasm  image-sarcasm  multi-sarcasm\n",
      "5129            1             0              0              0\n",
      "7471            0             0              0              1\n",
      "2846            0             0              0              1\n",
      "1643            1             0              0              0\n",
      "3796            1             0              0              0\n",
      "   not-sarcasm  text-sarcasm  image-sarcasm  multi-sarcasm\n",
      "0            0             0              0              0\n",
      "1            0             0              0              0\n",
      "2            0             0              0              0\n",
      "3            0             0              0              0\n",
      "4            0             0              0              0\n"
     ]
    }
   ],
   "source": [
    "train_dataset = MemesDataset(train_df, tokenizer, config, visual_embeds)\n",
    "val_dataset = MemesDataset(val_df, tokenizer, config, visual_embeds)\n",
    "test_dataset = MemesDataset(test_df, tokenizer, config, visual_embeds)"
   ]
  },
  {
   "cell_type": "code",
   "execution_count": 34,
   "id": "3f2e99e2",
   "metadata": {
    "execution": {
     "iopub.execute_input": "2024-11-07T15:53:33.992455Z",
     "iopub.status.busy": "2024-11-07T15:53:33.992127Z",
     "iopub.status.idle": "2024-11-07T15:53:33.996768Z",
     "shell.execute_reply": "2024-11-07T15:53:33.995903Z"
    },
    "papermill": {
     "duration": 0.024855,
     "end_time": "2024-11-07T15:53:33.998631",
     "exception": false,
     "start_time": "2024-11-07T15:53:33.973776",
     "status": "completed"
    },
    "tags": []
   },
   "outputs": [],
   "source": [
    "train_loader = DataLoader(train_dataset, batch_size=config.batch_size, shuffle=True)"
   ]
  },
  {
   "cell_type": "code",
   "execution_count": 35,
   "id": "a2a49259",
   "metadata": {
    "execution": {
     "iopub.execute_input": "2024-11-07T15:53:34.034465Z",
     "iopub.status.busy": "2024-11-07T15:53:34.034134Z",
     "iopub.status.idle": "2024-11-07T15:53:34.390674Z",
     "shell.execute_reply": "2024-11-07T15:53:34.389721Z"
    },
    "papermill": {
     "duration": 0.377031,
     "end_time": "2024-11-07T15:53:34.392815",
     "exception": false,
     "start_time": "2024-11-07T15:53:34.015784",
     "status": "completed"
    },
    "tags": []
   },
   "outputs": [
    {
     "data": {
      "text/plain": [
       "82"
      ]
     },
     "execution_count": 35,
     "metadata": {},
     "output_type": "execute_result"
    }
   ],
   "source": [
    "import gc\n",
    "torch.cuda.empty_cache()\n",
    "gc.collect()"
   ]
  },
  {
   "cell_type": "markdown",
   "id": "cc821684",
   "metadata": {
    "papermill": {
     "duration": 0.017705,
     "end_time": "2024-11-07T15:53:34.428662",
     "exception": false,
     "start_time": "2024-11-07T15:53:34.410957",
     "status": "completed"
    },
    "tags": []
   },
   "source": [
    "# Model"
   ]
  },
  {
   "cell_type": "code",
   "execution_count": 36,
   "id": "32c1adb6",
   "metadata": {
    "execution": {
     "iopub.execute_input": "2024-11-07T15:53:34.466300Z",
     "iopub.status.busy": "2024-11-07T15:53:34.465925Z",
     "iopub.status.idle": "2024-11-07T15:53:34.480862Z",
     "shell.execute_reply": "2024-11-07T15:53:34.479944Z"
    },
    "papermill": {
     "duration": 0.03638,
     "end_time": "2024-11-07T15:53:34.482873",
     "exception": false,
     "start_time": "2024-11-07T15:53:34.446493",
     "status": "completed"
    },
    "tags": []
   },
   "outputs": [],
   "source": [
    "class MemesClassifier(pl.LightningModule):\n",
    "  '''Wrap the training of VisualBERT model to classify memes'''\n",
    "\n",
    "  def __init__(self, config: Config):\n",
    "    super().__init__()\n",
    "    self.configuration = VisualBertConfig.from_pretrained(config.visual_model_name, visual_embedding_dim=config.visual_embedding_dim)\n",
    "    self.model = VisualBertModel(self.configuration)\n",
    "    self.n_warmup_steps = config.n_warmup_steps\n",
    "    self.criterion = nn.CrossEntropyLoss()\n",
    "    self.dropout = nn.Dropout(0.2)\n",
    "    self.classifier = nn.Linear(self.model.config.hidden_size, config.n_classes)\n",
    "    self.n_training_steps = config.n_training_steps\n",
    "  \n",
    "  def forward(self, input_ids, attention_mask, visual_embeds, visual_attention_mask, visual_token_type_ids, labels=None):\n",
    "    output = self.model(input_ids=input_ids,\n",
    "                        attention_mask=attention_mask,\n",
    "                        visual_embeds=visual_embeds,\n",
    "                        visual_attention_mask=visual_attention_mask,\n",
    "                        visual_token_type_ids=visual_token_type_ids\n",
    "    )\n",
    "    \n",
    "    output = self.dropout(output.pooler_output)\n",
    "    output = self.classifier(output)\n",
    "\n",
    "    return output\n",
    "  \n",
    "  def training_step(self, batch, batch_idx):\n",
    "    input_ids = batch['input_ids'].to(device)\n",
    "    attention_mask = batch['attention_mask'].to(device)\n",
    "    visual_embeds = batch['visual_embedding'].to(device)\n",
    "    visual_attention_mask = batch['visual_attention_mask'].to(device)\n",
    "    visual_token_type_ids = batch['visual_token_type_ids'].to(device)\n",
    "\n",
    "    labels = batch['labels'].type(torch.float).to(device)\n",
    "    \n",
    "    outputs = self(input_ids, attention_mask, visual_embeds, visual_attention_mask, visual_token_type_ids, labels)\n",
    "    loss = self.criterion(outputs, labels)\n",
    "    self.log('train_loss', loss, prog_bar=True, logger=True)\n",
    "\n",
    "    return {\"loss\":loss, 'predictions':outputs, 'labels':labels}\n",
    "\n",
    "  def validation_step(self, batch, batch_idx):\n",
    "    input_ids = batch['input_ids']\n",
    "    attention_mask = batch['attention_mask']\n",
    "    visual_embeds = batch['visual_embedding']\n",
    "    visual_attention_mask = batch['visual_attention_mask']\n",
    "    visual_token_type_ids = batch['visual_token_type_ids'].to(device)\n",
    "    labels = batch['labels'].type(torch.float).to(device)\n",
    "    \n",
    "    outputs = self(input_ids, attention_mask, visual_embeds, visual_attention_mask, visual_token_type_ids, labels)\n",
    "    loss = self.criterion(outputs, labels)\n",
    "    self.log('val_loss', loss, prog_bar=True, logger=True)\n",
    "\n",
    "    return loss\n",
    "  \n",
    "  def configure_optimizers(self):\n",
    "    optimizer = AdamW(self.parameters(), lr=5e-5)\n",
    "\n",
    "    scheduler = get_linear_schedule_with_warmup(\n",
    "        optimizer,\n",
    "        num_warmup_steps=self.n_warmup_steps,\n",
    "        num_training_steps=self.n_training_steps\n",
    "    )\n",
    "\n",
    "    return dict(\n",
    "        optimizer=optimizer,\n",
    "        lr_scheduler=dict(\n",
    "            scheduler=scheduler,\n",
    "            interval='step'\n",
    "        )\n",
    "    )"
   ]
  },
  {
   "cell_type": "markdown",
   "id": "18412d83",
   "metadata": {
    "papermill": {
     "duration": 0.017326,
     "end_time": "2024-11-07T15:53:34.518059",
     "exception": false,
     "start_time": "2024-11-07T15:53:34.500733",
     "status": "completed"
    },
    "tags": []
   },
   "source": [
    "# Train"
   ]
  },
  {
   "cell_type": "code",
   "execution_count": 37,
   "id": "b0e8238d",
   "metadata": {
    "execution": {
     "iopub.execute_input": "2024-11-07T15:53:34.554524Z",
     "iopub.status.busy": "2024-11-07T15:53:34.554166Z",
     "iopub.status.idle": "2024-11-07T15:53:34.561300Z",
     "shell.execute_reply": "2024-11-07T15:53:34.560407Z"
    },
    "papermill": {
     "duration": 0.02768,
     "end_time": "2024-11-07T15:53:34.563198",
     "exception": false,
     "start_time": "2024-11-07T15:53:34.535518",
     "status": "completed"
    },
    "tags": []
   },
   "outputs": [],
   "source": [
    "def train_model(model, train_dataset, val_dataset, tokenizer, config, visual_embeds):\n",
    "    checkpoint_callback = ModelCheckpoint(\n",
    "        dirpath=\"checkpoints\",\n",
    "        filename=\"best-checkpoint\",\n",
    "        save_top_k=5,\n",
    "        verbose=True,\n",
    "        monitor=\"val_loss\",\n",
    "        mode=\"min\",\n",
    "    )\n",
    "    \n",
    "    logger = TensorBoardLogger(\"lightning_logs\", name=\"memes-text\")\n",
    "    early_stopping_callback = EarlyStopping(monitor='val_loss', patience=3)\n",
    "\n",
    "    trainer = pl.Trainer(\n",
    "        logger=logger,\n",
    "        callbacks=[early_stopping_callback, checkpoint_callback],\n",
    "        max_epochs=config.n_epochs,\n",
    "        accelerator=\"auto\",\n",
    "        enable_progress_bar=True,\n",
    "    )\n",
    "\n",
    "    train_loader = DataLoader(train_dataset, batch_size=config.batch_size, shuffle=True)\n",
    "    val_loader = DataLoader(val_dataset, batch_size=config.batch_size)\n",
    "\n",
    "    trainer.fit(model, train_dataloaders=train_loader, val_dataloaders=val_loader)"
   ]
  },
  {
   "cell_type": "code",
   "execution_count": 38,
   "id": "5086b203",
   "metadata": {
    "execution": {
     "iopub.execute_input": "2024-11-07T15:53:34.599263Z",
     "iopub.status.busy": "2024-11-07T15:53:34.598973Z",
     "iopub.status.idle": "2024-11-07T15:53:34.607752Z",
     "shell.execute_reply": "2024-11-07T15:53:34.606971Z"
    },
    "papermill": {
     "duration": 0.028975,
     "end_time": "2024-11-07T15:53:34.609659",
     "exception": false,
     "start_time": "2024-11-07T15:53:34.580684",
     "status": "completed"
    },
    "tags": []
   },
   "outputs": [],
   "source": [
    "def evaluate_model(test_dataset, checkpoint, tokenizer, config, visual_embeds):\n",
    "\n",
    "    trained_model = MemesClassifier.load_from_checkpoint(\n",
    "        checkpoint,\n",
    "        config=config\n",
    "    ).to(device)\n",
    "\n",
    "    trained_model.eval()\n",
    "\n",
    "    predictions = []\n",
    "    labels = []\n",
    "    for item in tqdm(test_dataset):\n",
    "        with torch.no_grad():\n",
    "            prediction = trained_model(\n",
    "                item[\"input_ids\"].unsqueeze(dim=0).to(device),\n",
    "                item[\"attention_mask\"].unsqueeze(dim=0).to(device),\n",
    "                item[\"visual_embedding\"].unsqueeze(dim=0).to(device),\n",
    "                item['visual_attention_mask'].unsqueeze(dim=0).to(device),\n",
    "                item['visual_token_type_ids'].unsqueeze(dim=0).to(device)\n",
    "            )\n",
    "        predictions.append(prediction.flatten())\n",
    "        labels.append(item[\"labels\"])\n",
    "    \n",
    "    predictions = torch.stack(predictions).detach().cpu()\n",
    "    labels = torch.stack(labels).detach().cpu()\n",
    "\n",
    "    _, preds = torch.max(predictions, dim=1)\n",
    "    _, labels = torch.max(labels, dim=1)\n",
    "    \n",
    "    f1_macro = f1_score(labels, preds , average=\"macro\")\n",
    "    f1_micro = f1_score(labels, preds , average=\"micro\")\n",
    "\n",
    "    return f1_macro, f1_micro"
   ]
  },
  {
   "cell_type": "code",
   "execution_count": 39,
   "id": "a241ec2d",
   "metadata": {
    "execution": {
     "iopub.execute_input": "2024-11-07T15:53:34.645277Z",
     "iopub.status.busy": "2024-11-07T15:53:34.645010Z",
     "iopub.status.idle": "2024-11-07T15:53:36.752177Z",
     "shell.execute_reply": "2024-11-07T15:53:36.751161Z"
    },
    "papermill": {
     "duration": 2.127586,
     "end_time": "2024-11-07T15:53:36.754615",
     "exception": false,
     "start_time": "2024-11-07T15:53:34.627029",
     "status": "completed"
    },
    "tags": []
   },
   "outputs": [
    {
     "data": {
      "application/vnd.jupyter.widget-view+json": {
       "model_id": "167f0636c3204cc2a9726e19769740ed",
       "version_major": 2,
       "version_minor": 0
      },
      "text/plain": [
       "Downloading config.json:   0%|          | 0.00/631 [00:00<?, ?B/s]"
      ]
     },
     "metadata": {},
     "output_type": "display_data"
    }
   ],
   "source": [
    "model = MemesClassifier(config).to('cuda')"
   ]
  },
  {
   "cell_type": "code",
   "execution_count": 40,
   "id": "593be726",
   "metadata": {
    "execution": {
     "iopub.execute_input": "2024-11-07T15:53:36.791872Z",
     "iopub.status.busy": "2024-11-07T15:53:36.791091Z",
     "iopub.status.idle": "2024-11-07T16:12:09.010715Z",
     "shell.execute_reply": "2024-11-07T16:12:09.009943Z"
    },
    "papermill": {
     "duration": 1112.240573,
     "end_time": "2024-11-07T16:12:09.013207",
     "exception": false,
     "start_time": "2024-11-07T15:53:36.772634",
     "status": "completed"
    },
    "tags": []
   },
   "outputs": [
    {
     "name": "stderr",
     "output_type": "stream",
     "text": [
      "/opt/conda/lib/python3.10/site-packages/transformers/optimization.py:411: FutureWarning: This implementation of AdamW is deprecated and will be removed in a future version. Use the PyTorch implementation torch.optim.AdamW instead, or set `no_deprecation_warning=True` to disable this warning\n",
      "  warnings.warn(\n"
     ]
    },
    {
     "data": {
      "application/vnd.jupyter.widget-view+json": {
       "model_id": "4bca5c3b9f2342069462b6a7056820d8",
       "version_major": 2,
       "version_minor": 0
      },
      "text/plain": [
       "Sanity Checking: 0it [00:00, ?it/s]"
      ]
     },
     "metadata": {},
     "output_type": "display_data"
    },
    {
     "name": "stderr",
     "output_type": "stream",
     "text": [
      "/opt/conda/lib/python3.10/site-packages/pytorch_lightning/trainer/connectors/data_connector.py:442: PossibleUserWarning: The dataloader, val_dataloader, does not have many workers which may be a bottleneck. Consider increasing the value of the `num_workers` argument` (try 4 which is the number of cpus on this machine) in the `DataLoader` init to improve performance.\n",
      "  rank_zero_warn(\n",
      "/opt/conda/lib/python3.10/site-packages/pytorch_lightning/trainer/connectors/data_connector.py:442: PossibleUserWarning: The dataloader, train_dataloader, does not have many workers which may be a bottleneck. Consider increasing the value of the `num_workers` argument` (try 4 which is the number of cpus on this machine) in the `DataLoader` init to improve performance.\n",
      "  rank_zero_warn(\n"
     ]
    },
    {
     "data": {
      "application/vnd.jupyter.widget-view+json": {
       "model_id": "f81fc835dd674f68ac018eabbd7a9d2e",
       "version_major": 2,
       "version_minor": 0
      },
      "text/plain": [
       "Training: 0it [00:00, ?it/s]"
      ]
     },
     "metadata": {},
     "output_type": "display_data"
    },
    {
     "data": {
      "application/vnd.jupyter.widget-view+json": {
       "model_id": "37fc748b843a4e8694755cf909fbaf2f",
       "version_major": 2,
       "version_minor": 0
      },
      "text/plain": [
       "Validation: 0it [00:00, ?it/s]"
      ]
     },
     "metadata": {},
     "output_type": "display_data"
    },
    {
     "data": {
      "application/vnd.jupyter.widget-view+json": {
       "model_id": "a2b3d8ea84f44f6697e79c9963abbe72",
       "version_major": 2,
       "version_minor": 0
      },
      "text/plain": [
       "Validation: 0it [00:00, ?it/s]"
      ]
     },
     "metadata": {},
     "output_type": "display_data"
    }
   ],
   "source": [
    "train_model(\n",
    "    model=model, \n",
    "    train_dataset=train_dataset, \n",
    "    val_dataset=val_dataset,\n",
    "    tokenizer=tokenizer,\n",
    "    config = config,\n",
    "    visual_embeds=visual_embeds\n",
    ")"
   ]
  },
  {
   "cell_type": "code",
   "execution_count": 41,
   "id": "8499d35a",
   "metadata": {
    "execution": {
     "iopub.execute_input": "2024-11-07T16:12:09.053282Z",
     "iopub.status.busy": "2024-11-07T16:12:09.052563Z",
     "iopub.status.idle": "2024-11-07T16:12:09.387735Z",
     "shell.execute_reply": "2024-11-07T16:12:09.386792Z"
    },
    "papermill": {
     "duration": 0.357212,
     "end_time": "2024-11-07T16:12:09.389677",
     "exception": false,
     "start_time": "2024-11-07T16:12:09.032465",
     "status": "completed"
    },
    "tags": []
   },
   "outputs": [
    {
     "data": {
      "text/plain": [
       "127"
      ]
     },
     "execution_count": 41,
     "metadata": {},
     "output_type": "execute_result"
    }
   ],
   "source": [
    "import gc\n",
    "torch.cuda.empty_cache()\n",
    "gc.collect()"
   ]
  },
  {
   "cell_type": "code",
   "execution_count": 42,
   "id": "6c259234",
   "metadata": {
    "execution": {
     "iopub.execute_input": "2024-11-07T16:12:09.429024Z",
     "iopub.status.busy": "2024-11-07T16:12:09.428379Z",
     "iopub.status.idle": "2024-11-07T16:12:34.714711Z",
     "shell.execute_reply": "2024-11-07T16:12:34.713883Z"
    },
    "papermill": {
     "duration": 25.308548,
     "end_time": "2024-11-07T16:12:34.717107",
     "exception": false,
     "start_time": "2024-11-07T16:12:09.408559",
     "status": "completed"
    },
    "tags": []
   },
   "outputs": [
    {
     "data": {
      "application/vnd.jupyter.widget-view+json": {
       "model_id": "a0b742115cae4bf09a1f330820139333",
       "version_major": 2,
       "version_minor": 0
      },
      "text/plain": [
       "  0%|          | 0/1081 [00:00<?, ?it/s]"
      ]
     },
     "metadata": {},
     "output_type": "display_data"
    }
   ],
   "source": [
    "f1_macro, f1_micro = evaluate_model(\n",
    "    val_dataset,\n",
    "    checkpoint='./checkpoints/best-checkpoint.ckpt',\n",
    "    tokenizer=tokenizer,\n",
    "    config=config,\n",
    "    visual_embeds=visual_embeds\n",
    ")"
   ]
  },
  {
   "cell_type": "code",
   "execution_count": 43,
   "id": "cd876de9",
   "metadata": {
    "execution": {
     "iopub.execute_input": "2024-11-07T16:12:34.757027Z",
     "iopub.status.busy": "2024-11-07T16:12:34.756663Z",
     "iopub.status.idle": "2024-11-07T16:12:34.761765Z",
     "shell.execute_reply": "2024-11-07T16:12:34.760881Z"
    },
    "papermill": {
     "duration": 0.027142,
     "end_time": "2024-11-07T16:12:34.763769",
     "exception": false,
     "start_time": "2024-11-07T16:12:34.736627",
     "status": "completed"
    },
    "tags": []
   },
   "outputs": [
    {
     "name": "stdout",
     "output_type": "stream",
     "text": [
      "Evaluate on valid set: f1_macro=0.29683156372464536, f1_micro=0.5966697502312673\n"
     ]
    }
   ],
   "source": [
    "print(f\"Evaluate on valid set: f1_macro={f1_macro}, f1_micro={f1_micro}\")"
   ]
  },
  {
   "cell_type": "markdown",
   "id": "6e1ce044",
   "metadata": {
    "papermill": {
     "duration": 0.018789,
     "end_time": "2024-11-07T16:12:34.801967",
     "exception": false,
     "start_time": "2024-11-07T16:12:34.783178",
     "status": "completed"
    },
    "tags": []
   },
   "source": [
    "# Load checkpoints and predict\n",
    "\n"
   ]
  },
  {
   "cell_type": "code",
   "execution_count": 44,
   "id": "521096b9",
   "metadata": {
    "execution": {
     "iopub.execute_input": "2024-11-07T16:12:34.841110Z",
     "iopub.status.busy": "2024-11-07T16:12:34.840722Z",
     "iopub.status.idle": "2024-11-07T16:12:35.213834Z",
     "shell.execute_reply": "2024-11-07T16:12:35.212952Z"
    },
    "papermill": {
     "duration": 0.395012,
     "end_time": "2024-11-07T16:12:35.215808",
     "exception": false,
     "start_time": "2024-11-07T16:12:34.820796",
     "status": "completed"
    },
    "tags": []
   },
   "outputs": [
    {
     "data": {
      "text/plain": [
       "18"
      ]
     },
     "execution_count": 44,
     "metadata": {},
     "output_type": "execute_result"
    }
   ],
   "source": [
    "import gc\n",
    "torch.cuda.empty_cache()\n",
    "gc.collect()"
   ]
  },
  {
   "cell_type": "code",
   "execution_count": 45,
   "id": "aad55185",
   "metadata": {
    "execution": {
     "iopub.execute_input": "2024-11-07T16:12:35.255162Z",
     "iopub.status.busy": "2024-11-07T16:12:35.254817Z",
     "iopub.status.idle": "2024-11-07T16:12:35.263714Z",
     "shell.execute_reply": "2024-11-07T16:12:35.262952Z"
    },
    "papermill": {
     "duration": 0.069776,
     "end_time": "2024-11-07T16:12:35.304837",
     "exception": false,
     "start_time": "2024-11-07T16:12:35.235061",
     "status": "completed"
    },
    "tags": []
   },
   "outputs": [],
   "source": [
    "\n",
    "def get_prediction(test_dataset, checkpoint, tokenizer, config, visual_embeds, batch_size=2):\n",
    "    # Create DataLoader\n",
    "    test_dataloader = DataLoader(\n",
    "        test_dataset,\n",
    "        batch_size=batch_size,\n",
    "        shuffle=False,\n",
    "    )\n",
    "    \n",
    "    # Load and set model to evaluation mode\n",
    "    trained_model = MemesClassifier.load_from_checkpoint(\n",
    "        checkpoint,\n",
    "        config=config\n",
    "    ).to(device)\n",
    "    trained_model.eval()\n",
    "    \n",
    "    all_predictions = []\n",
    "    \n",
    "    # Process batches\n",
    "    for batch in tqdm(test_dataloader, desc=\"Getting predictions\"):\n",
    "        with torch.no_grad():\n",
    "            # Move batch to device\n",
    "            batch = {k: v.to(device) for k, v in batch.items()}\n",
    "            \n",
    "            # Get predictions\n",
    "            predictions = trained_model(\n",
    "                batch[\"input_ids\"],\n",
    "                batch[\"attention_mask\"],\n",
    "                batch[\"visual_embedding\"],\n",
    "                batch[\"visual_attention_mask\"],\n",
    "                batch[\"visual_token_type_ids\"]\n",
    "            )\n",
    "            \n",
    "            # Move predictions to CPU\n",
    "            all_predictions.append(predictions.cpu())\n",
    "    \n",
    "    # Concatenate all predictions\n",
    "    predictions = torch.cat(all_predictions, dim=0)\n",
    "    \n",
    "    # Get probabilities and predicted classes\n",
    "    probabilities = torch.softmax(predictions, dim=1)\n",
    "    predicted_classes = torch.argmax(predictions, dim=1)\n",
    "    \n",
    "    # Convert to class labels\n",
    "    predicted_labels = [config.classes[idx.item()] for idx in predicted_classes]\n",
    "    \n",
    "    return predicted_labels"
   ]
  },
  {
   "cell_type": "code",
   "execution_count": 46,
   "id": "c712528d",
   "metadata": {
    "execution": {
     "iopub.execute_input": "2024-11-07T16:12:35.349857Z",
     "iopub.status.busy": "2024-11-07T16:12:35.349452Z",
     "iopub.status.idle": "2024-11-07T16:13:09.012594Z",
     "shell.execute_reply": "2024-11-07T16:13:09.011682Z"
    },
    "papermill": {
     "duration": 33.691049,
     "end_time": "2024-11-07T16:13:09.014693",
     "exception": false,
     "start_time": "2024-11-07T16:12:35.323644",
     "status": "completed"
    },
    "tags": []
   },
   "outputs": [
    {
     "data": {
      "application/vnd.jupyter.widget-view+json": {
       "model_id": "17456b901c46480981c1b502eda7167b",
       "version_major": 2,
       "version_minor": 0
      },
      "text/plain": [
       "Getting predictions:   0%|          | 0/707 [00:00<?, ?it/s]"
      ]
     },
     "metadata": {},
     "output_type": "display_data"
    }
   ],
   "source": [
    "predictions = get_prediction(\n",
    "    test_dataset,\n",
    "    checkpoint='./checkpoints/best-checkpoint.ckpt',\n",
    "    tokenizer=tokenizer,\n",
    "    config=config,\n",
    "    visual_embeds=visual_embeds\n",
    ")"
   ]
  },
  {
   "cell_type": "code",
   "execution_count": 47,
   "id": "b698a521",
   "metadata": {
    "execution": {
     "iopub.execute_input": "2024-11-07T16:13:09.055021Z",
     "iopub.status.busy": "2024-11-07T16:13:09.054396Z",
     "iopub.status.idle": "2024-11-07T16:13:09.060179Z",
     "shell.execute_reply": "2024-11-07T16:13:09.059333Z"
    },
    "papermill": {
     "duration": 0.027651,
     "end_time": "2024-11-07T16:13:09.062095",
     "exception": false,
     "start_time": "2024-11-07T16:13:09.034444",
     "status": "completed"
    },
    "tags": []
   },
   "outputs": [
    {
     "data": {
      "text/plain": [
       "1413"
      ]
     },
     "execution_count": 47,
     "metadata": {},
     "output_type": "execute_result"
    }
   ],
   "source": [
    "len(predictions)"
   ]
  },
  {
   "cell_type": "code",
   "execution_count": 48,
   "id": "11333202",
   "metadata": {
    "execution": {
     "iopub.execute_input": "2024-11-07T16:13:09.101866Z",
     "iopub.status.busy": "2024-11-07T16:13:09.101305Z",
     "iopub.status.idle": "2024-11-07T16:13:09.105883Z",
     "shell.execute_reply": "2024-11-07T16:13:09.105058Z"
    },
    "papermill": {
     "duration": 0.026443,
     "end_time": "2024-11-07T16:13:09.107767",
     "exception": false,
     "start_time": "2024-11-07T16:13:09.081324",
     "status": "completed"
    },
    "tags": []
   },
   "outputs": [],
   "source": [
    "\n",
    "test_predicted = {k:i for k,i in zip(dev_json.keys(),predictions)}"
   ]
  },
  {
   "cell_type": "code",
   "execution_count": 49,
   "id": "3c5a82ee",
   "metadata": {
    "execution": {
     "iopub.execute_input": "2024-11-07T16:13:09.147233Z",
     "iopub.status.busy": "2024-11-07T16:13:09.146968Z",
     "iopub.status.idle": "2024-11-07T16:13:09.151856Z",
     "shell.execute_reply": "2024-11-07T16:13:09.151170Z"
    },
    "papermill": {
     "duration": 0.02665,
     "end_time": "2024-11-07T16:13:09.153652",
     "exception": false,
     "start_time": "2024-11-07T16:13:09.127002",
     "status": "completed"
    },
    "tags": []
   },
   "outputs": [],
   "source": [
    "result_json = {\n",
    "    \"results\": test_predicted,\n",
    "    \"phase\": \"dev\"\n",
    "}"
   ]
  },
  {
   "cell_type": "code",
   "execution_count": 50,
   "id": "d9b1bd70",
   "metadata": {
    "execution": {
     "iopub.execute_input": "2024-11-07T16:13:09.192997Z",
     "iopub.status.busy": "2024-11-07T16:13:09.192329Z",
     "iopub.status.idle": "2024-11-07T16:13:09.199432Z",
     "shell.execute_reply": "2024-11-07T16:13:09.198625Z"
    },
    "papermill": {
     "duration": 0.028793,
     "end_time": "2024-11-07T16:13:09.201384",
     "exception": false,
     "start_time": "2024-11-07T16:13:09.172591",
     "status": "completed"
    },
    "tags": []
   },
   "outputs": [],
   "source": [
    "\n",
    "with open('results.json', 'w') as fp:\n",
    "    json.dump(result_json, fp,ensure_ascii=True,indent=True)"
   ]
  },
  {
   "cell_type": "code",
   "execution_count": null,
   "id": "58d43f7f",
   "metadata": {
    "papermill": {
     "duration": 0.018539,
     "end_time": "2024-11-07T16:13:09.238708",
     "exception": false,
     "start_time": "2024-11-07T16:13:09.220169",
     "status": "completed"
    },
    "tags": []
   },
   "outputs": [],
   "source": []
  }
 ],
 "metadata": {
  "kaggle": {
   "accelerator": "gpu",
   "dataSources": [
    {
     "datasetId": 5834049,
     "sourceId": 9571267,
     "sourceType": "datasetVersion"
    },
    {
     "datasetId": 5902254,
     "sourceId": 9660707,
     "sourceType": "datasetVersion"
    },
    {
     "datasetId": 6012834,
     "sourceId": 9809037,
     "sourceType": "datasetVersion"
    },
    {
     "datasetId": 5953272,
     "sourceId": 9793891,
     "sourceType": "datasetVersion"
    }
   ],
   "dockerImageVersionId": 30559,
   "isGpuEnabled": true,
   "isInternetEnabled": true,
   "language": "python",
   "sourceType": "notebook"
  },
  "kernelspec": {
   "display_name": "Python 3",
   "language": "python",
   "name": "python3"
  },
  "language_info": {
   "codemirror_mode": {
    "name": "ipython",
    "version": 3
   },
   "file_extension": ".py",
   "mimetype": "text/x-python",
   "name": "python",
   "nbconvert_exporter": "python",
   "pygments_lexer": "ipython3",
   "version": "3.10.12"
  },
  "papermill": {
   "default_parameters": {},
   "duration": 1305.093471,
   "end_time": "2024-11-07T16:13:13.306098",
   "environment_variables": {},
   "exception": null,
   "input_path": "__notebook__.ipynb",
   "output_path": "__notebook__.ipynb",
   "parameters": {},
   "start_time": "2024-11-07T15:51:28.212627",
   "version": "2.4.0"
  },
  "widgets": {
   "application/vnd.jupyter.widget-state+json": {
    "state": {
     "00cea14e7f6c49f4b7e5f83fbc5fb4a9": {
      "model_module": "@jupyter-widgets/base",
      "model_module_version": "1.2.0",
      "model_name": "LayoutModel",
      "state": {
       "_model_module": "@jupyter-widgets/base",
       "_model_module_version": "1.2.0",
       "_model_name": "LayoutModel",
       "_view_count": null,
       "_view_module": "@jupyter-widgets/base",
       "_view_module_version": "1.2.0",
       "_view_name": "LayoutView",
       "align_content": null,
       "align_items": null,
       "align_self": null,
       "border": null,
       "bottom": null,
       "display": null,
       "flex": null,
       "flex_flow": null,
       "grid_area": null,
       "grid_auto_columns": null,
       "grid_auto_flow": null,
       "grid_auto_rows": null,
       "grid_column": null,
       "grid_gap": null,
       "grid_row": null,
       "grid_template_areas": null,
       "grid_template_columns": null,
       "grid_template_rows": null,
       "height": null,
       "justify_content": null,
       "justify_items": null,
       "left": null,
       "margin": null,
       "max_height": null,
       "max_width": null,
       "min_height": null,
       "min_width": null,
       "object_fit": null,
       "object_position": null,
       "order": null,
       "overflow": null,
       "overflow_x": null,
       "overflow_y": null,
       "padding": null,
       "right": null,
       "top": null,
       "visibility": null,
       "width": null
      }
     },
     "022885ef1b9048c58c6276ded442b6b3": {
      "model_module": "@jupyter-widgets/base",
      "model_module_version": "1.2.0",
      "model_name": "LayoutModel",
      "state": {
       "_model_module": "@jupyter-widgets/base",
       "_model_module_version": "1.2.0",
       "_model_name": "LayoutModel",
       "_view_count": null,
       "_view_module": "@jupyter-widgets/base",
       "_view_module_version": "1.2.0",
       "_view_name": "LayoutView",
       "align_content": null,
       "align_items": null,
       "align_self": null,
       "border": null,
       "bottom": null,
       "display": null,
       "flex": null,
       "flex_flow": null,
       "grid_area": null,
       "grid_auto_columns": null,
       "grid_auto_flow": null,
       "grid_auto_rows": null,
       "grid_column": null,
       "grid_gap": null,
       "grid_row": null,
       "grid_template_areas": null,
       "grid_template_columns": null,
       "grid_template_rows": null,
       "height": null,
       "justify_content": null,
       "justify_items": null,
       "left": null,
       "margin": null,
       "max_height": null,
       "max_width": null,
       "min_height": null,
       "min_width": null,
       "object_fit": null,
       "object_position": null,
       "order": null,
       "overflow": null,
       "overflow_x": null,
       "overflow_y": null,
       "padding": null,
       "right": null,
       "top": null,
       "visibility": null,
       "width": null
      }
     },
     "0661783ff32143329370485345a03154": {
      "model_module": "@jupyter-widgets/base",
      "model_module_version": "1.2.0",
      "model_name": "LayoutModel",
      "state": {
       "_model_module": "@jupyter-widgets/base",
       "_model_module_version": "1.2.0",
       "_model_name": "LayoutModel",
       "_view_count": null,
       "_view_module": "@jupyter-widgets/base",
       "_view_module_version": "1.2.0",
       "_view_name": "LayoutView",
       "align_content": null,
       "align_items": null,
       "align_self": null,
       "border": null,
       "bottom": null,
       "display": null,
       "flex": null,
       "flex_flow": null,
       "grid_area": null,
       "grid_auto_columns": null,
       "grid_auto_flow": null,
       "grid_auto_rows": null,
       "grid_column": null,
       "grid_gap": null,
       "grid_row": null,
       "grid_template_areas": null,
       "grid_template_columns": null,
       "grid_template_rows": null,
       "height": null,
       "justify_content": null,
       "justify_items": null,
       "left": null,
       "margin": null,
       "max_height": null,
       "max_width": null,
       "min_height": null,
       "min_width": null,
       "object_fit": null,
       "object_position": null,
       "order": null,
       "overflow": null,
       "overflow_x": null,
       "overflow_y": null,
       "padding": null,
       "right": null,
       "top": null,
       "visibility": null,
       "width": null
      }
     },
     "0cd678046a674564bf94efc21062476c": {
      "model_module": "@jupyter-widgets/base",
      "model_module_version": "1.2.0",
      "model_name": "LayoutModel",
      "state": {
       "_model_module": "@jupyter-widgets/base",
       "_model_module_version": "1.2.0",
       "_model_name": "LayoutModel",
       "_view_count": null,
       "_view_module": "@jupyter-widgets/base",
       "_view_module_version": "1.2.0",
       "_view_name": "LayoutView",
       "align_content": null,
       "align_items": null,
       "align_self": null,
       "border": null,
       "bottom": null,
       "display": null,
       "flex": null,
       "flex_flow": null,
       "grid_area": null,
       "grid_auto_columns": null,
       "grid_auto_flow": null,
       "grid_auto_rows": null,
       "grid_column": null,
       "grid_gap": null,
       "grid_row": null,
       "grid_template_areas": null,
       "grid_template_columns": null,
       "grid_template_rows": null,
       "height": null,
       "justify_content": null,
       "justify_items": null,
       "left": null,
       "margin": null,
       "max_height": null,
       "max_width": null,
       "min_height": null,
       "min_width": null,
       "object_fit": null,
       "object_position": null,
       "order": null,
       "overflow": null,
       "overflow_x": null,
       "overflow_y": null,
       "padding": null,
       "right": null,
       "top": null,
       "visibility": null,
       "width": null
      }
     },
     "0e6cb66b39384c2d94ad73fda69de2e6": {
      "model_module": "@jupyter-widgets/controls",
      "model_module_version": "1.5.0",
      "model_name": "HTMLModel",
      "state": {
       "_dom_classes": [],
       "_model_module": "@jupyter-widgets/controls",
       "_model_module_version": "1.5.0",
       "_model_name": "HTMLModel",
       "_view_count": null,
       "_view_module": "@jupyter-widgets/controls",
       "_view_module_version": "1.5.0",
       "_view_name": "HTMLView",
       "description": "",
       "description_tooltip": null,
       "layout": "IPY_MODEL_00cea14e7f6c49f4b7e5f83fbc5fb4a9",
       "placeholder": "​",
       "style": "IPY_MODEL_72e76aa16b804b6e889b28155f343f69",
       "value": "Downloading (…)tencepiece.bpe.model: 100%"
      }
     },
     "0e7ce532e3664763a0f8a9dfcc2f8725": {
      "model_module": "@jupyter-widgets/controls",
      "model_module_version": "1.5.0",
      "model_name": "DescriptionStyleModel",
      "state": {
       "_model_module": "@jupyter-widgets/controls",
       "_model_module_version": "1.5.0",
       "_model_name": "DescriptionStyleModel",
       "_view_count": null,
       "_view_module": "@jupyter-widgets/base",
       "_view_module_version": "1.2.0",
       "_view_name": "StyleView",
       "description_width": ""
      }
     },
     "0ee95da4dfcf433b9944662daab34a04": {
      "model_module": "@jupyter-widgets/controls",
      "model_module_version": "1.5.0",
      "model_name": "HTMLModel",
      "state": {
       "_dom_classes": [],
       "_model_module": "@jupyter-widgets/controls",
       "_model_module_version": "1.5.0",
       "_model_name": "HTMLModel",
       "_view_count": null,
       "_view_module": "@jupyter-widgets/controls",
       "_view_module_version": "1.5.0",
       "_view_name": "HTMLView",
       "description": "",
       "description_tooltip": null,
       "layout": "IPY_MODEL_f4c856fbef9641e288189c28155b3be6",
       "placeholder": "​",
       "style": "IPY_MODEL_624c1ae07f184e09a74491cd15b11fd0",
       "value": " 1216/1216 [09:14&lt;00:00,  2.19it/s, v_num=0, train_loss=0.671, val_loss=0.791]"
      }
     },
     "0f237507a7dc47ad8231f3cb074cc276": {
      "model_module": "@jupyter-widgets/controls",
      "model_module_version": "1.5.0",
      "model_name": "FloatProgressModel",
      "state": {
       "_dom_classes": [],
       "_model_module": "@jupyter-widgets/controls",
       "_model_module_version": "1.5.0",
       "_model_name": "FloatProgressModel",
       "_view_count": null,
       "_view_module": "@jupyter-widgets/controls",
       "_view_module_version": "1.5.0",
       "_view_name": "ProgressView",
       "bar_style": "",
       "description": "",
       "description_tooltip": null,
       "layout": "IPY_MODEL_eb3f01670d3c483f9111aa755771fed1",
       "max": 2.0,
       "min": 0.0,
       "orientation": "horizontal",
       "style": "IPY_MODEL_e23e2af251ff4c1dad6ff659e522143e",
       "value": 2.0
      }
     },
     "133947072be84bb8a3a1b3d2d804174c": {
      "model_module": "@jupyter-widgets/base",
      "model_module_version": "1.2.0",
      "model_name": "LayoutModel",
      "state": {
       "_model_module": "@jupyter-widgets/base",
       "_model_module_version": "1.2.0",
       "_model_name": "LayoutModel",
       "_view_count": null,
       "_view_module": "@jupyter-widgets/base",
       "_view_module_version": "1.2.0",
       "_view_name": "LayoutView",
       "align_content": null,
       "align_items": null,
       "align_self": null,
       "border": null,
       "bottom": null,
       "display": "inline-flex",
       "flex": null,
       "flex_flow": "row wrap",
       "grid_area": null,
       "grid_auto_columns": null,
       "grid_auto_flow": null,
       "grid_auto_rows": null,
       "grid_column": null,
       "grid_gap": null,
       "grid_row": null,
       "grid_template_areas": null,
       "grid_template_columns": null,
       "grid_template_rows": null,
       "height": null,
       "justify_content": null,
       "justify_items": null,
       "left": null,
       "margin": null,
       "max_height": null,
       "max_width": null,
       "min_height": null,
       "min_width": null,
       "object_fit": null,
       "object_position": null,
       "order": null,
       "overflow": null,
       "overflow_x": null,
       "overflow_y": null,
       "padding": null,
       "right": null,
       "top": null,
       "visibility": "hidden",
       "width": "100%"
      }
     },
     "13fadfed973044b2bfc1b8da4c5fad04": {
      "model_module": "@jupyter-widgets/base",
      "model_module_version": "1.2.0",
      "model_name": "LayoutModel",
      "state": {
       "_model_module": "@jupyter-widgets/base",
       "_model_module_version": "1.2.0",
       "_model_name": "LayoutModel",
       "_view_count": null,
       "_view_module": "@jupyter-widgets/base",
       "_view_module_version": "1.2.0",
       "_view_name": "LayoutView",
       "align_content": null,
       "align_items": null,
       "align_self": null,
       "border": null,
       "bottom": null,
       "display": null,
       "flex": null,
       "flex_flow": null,
       "grid_area": null,
       "grid_auto_columns": null,
       "grid_auto_flow": null,
       "grid_auto_rows": null,
       "grid_column": null,
       "grid_gap": null,
       "grid_row": null,
       "grid_template_areas": null,
       "grid_template_columns": null,
       "grid_template_rows": null,
       "height": null,
       "justify_content": null,
       "justify_items": null,
       "left": null,
       "margin": null,
       "max_height": null,
       "max_width": null,
       "min_height": null,
       "min_width": null,
       "object_fit": null,
       "object_position": null,
       "order": null,
       "overflow": null,
       "overflow_x": null,
       "overflow_y": null,
       "padding": null,
       "right": null,
       "top": null,
       "visibility": null,
       "width": null
      }
     },
     "167f0636c3204cc2a9726e19769740ed": {
      "model_module": "@jupyter-widgets/controls",
      "model_module_version": "1.5.0",
      "model_name": "HBoxModel",
      "state": {
       "_dom_classes": [],
       "_model_module": "@jupyter-widgets/controls",
       "_model_module_version": "1.5.0",
       "_model_name": "HBoxModel",
       "_view_count": null,
       "_view_module": "@jupyter-widgets/controls",
       "_view_module_version": "1.5.0",
       "_view_name": "HBoxView",
       "box_style": "",
       "children": [
        "IPY_MODEL_3736d7a59e4a49509f46c6a4116341b4",
        "IPY_MODEL_f7f91d3b4c1f40e09d3f6393a0a708d5",
        "IPY_MODEL_96af3bfb387547559e044a0986b6eadd"
       ],
       "layout": "IPY_MODEL_6bf6825f1d9c44a39a726505f95eac9c"
      }
     },
     "17456b901c46480981c1b502eda7167b": {
      "model_module": "@jupyter-widgets/controls",
      "model_module_version": "1.5.0",
      "model_name": "HBoxModel",
      "state": {
       "_dom_classes": [],
       "_model_module": "@jupyter-widgets/controls",
       "_model_module_version": "1.5.0",
       "_model_name": "HBoxModel",
       "_view_count": null,
       "_view_module": "@jupyter-widgets/controls",
       "_view_module_version": "1.5.0",
       "_view_name": "HBoxView",
       "box_style": "",
       "children": [
        "IPY_MODEL_d8c773a2603a4a49bf7ea7faf3686312",
        "IPY_MODEL_a067cd7139814ff294b6108b23218d4f",
        "IPY_MODEL_41b532103e744ab3af82428af0ba52b3"
       ],
       "layout": "IPY_MODEL_d03f0dda281f40b681b36a7cac07f252"
      }
     },
     "21468b78472f45f998ba31ccf5ba84d9": {
      "model_module": "@jupyter-widgets/base",
      "model_module_version": "1.2.0",
      "model_name": "LayoutModel",
      "state": {
       "_model_module": "@jupyter-widgets/base",
       "_model_module_version": "1.2.0",
       "_model_name": "LayoutModel",
       "_view_count": null,
       "_view_module": "@jupyter-widgets/base",
       "_view_module_version": "1.2.0",
       "_view_name": "LayoutView",
       "align_content": null,
       "align_items": null,
       "align_self": null,
       "border": null,
       "bottom": null,
       "display": null,
       "flex": null,
       "flex_flow": null,
       "grid_area": null,
       "grid_auto_columns": null,
       "grid_auto_flow": null,
       "grid_auto_rows": null,
       "grid_column": null,
       "grid_gap": null,
       "grid_row": null,
       "grid_template_areas": null,
       "grid_template_columns": null,
       "grid_template_rows": null,
       "height": null,
       "justify_content": null,
       "justify_items": null,
       "left": null,
       "margin": null,
       "max_height": null,
       "max_width": null,
       "min_height": null,
       "min_width": null,
       "object_fit": null,
       "object_position": null,
       "order": null,
       "overflow": null,
       "overflow_x": null,
       "overflow_y": null,
       "padding": null,
       "right": null,
       "top": null,
       "visibility": null,
       "width": null
      }
     },
     "26edd2577d60460990c94ad8f63e8794": {
      "model_module": "@jupyter-widgets/controls",
      "model_module_version": "1.5.0",
      "model_name": "DescriptionStyleModel",
      "state": {
       "_model_module": "@jupyter-widgets/controls",
       "_model_module_version": "1.5.0",
       "_model_name": "DescriptionStyleModel",
       "_view_count": null,
       "_view_module": "@jupyter-widgets/base",
       "_view_module_version": "1.2.0",
       "_view_name": "StyleView",
       "description_width": ""
      }
     },
     "2a764c40ffd64fb699b22b02704fa9e8": {
      "model_module": "@jupyter-widgets/base",
      "model_module_version": "1.2.0",
      "model_name": "LayoutModel",
      "state": {
       "_model_module": "@jupyter-widgets/base",
       "_model_module_version": "1.2.0",
       "_model_name": "LayoutModel",
       "_view_count": null,
       "_view_module": "@jupyter-widgets/base",
       "_view_module_version": "1.2.0",
       "_view_name": "LayoutView",
       "align_content": null,
       "align_items": null,
       "align_self": null,
       "border": null,
       "bottom": null,
       "display": null,
       "flex": null,
       "flex_flow": null,
       "grid_area": null,
       "grid_auto_columns": null,
       "grid_auto_flow": null,
       "grid_auto_rows": null,
       "grid_column": null,
       "grid_gap": null,
       "grid_row": null,
       "grid_template_areas": null,
       "grid_template_columns": null,
       "grid_template_rows": null,
       "height": null,
       "justify_content": null,
       "justify_items": null,
       "left": null,
       "margin": null,
       "max_height": null,
       "max_width": null,
       "min_height": null,
       "min_width": null,
       "object_fit": null,
       "object_position": null,
       "order": null,
       "overflow": null,
       "overflow_x": null,
       "overflow_y": null,
       "padding": null,
       "right": null,
       "top": null,
       "visibility": null,
       "width": null
      }
     },
     "2b1ec888ea1e4da0acb6ecea221c6971": {
      "model_module": "@jupyter-widgets/base",
      "model_module_version": "1.2.0",
      "model_name": "LayoutModel",
      "state": {
       "_model_module": "@jupyter-widgets/base",
       "_model_module_version": "1.2.0",
       "_model_name": "LayoutModel",
       "_view_count": null,
       "_view_module": "@jupyter-widgets/base",
       "_view_module_version": "1.2.0",
       "_view_name": "LayoutView",
       "align_content": null,
       "align_items": null,
       "align_self": null,
       "border": null,
       "bottom": null,
       "display": null,
       "flex": null,
       "flex_flow": null,
       "grid_area": null,
       "grid_auto_columns": null,
       "grid_auto_flow": null,
       "grid_auto_rows": null,
       "grid_column": null,
       "grid_gap": null,
       "grid_row": null,
       "grid_template_areas": null,
       "grid_template_columns": null,
       "grid_template_rows": null,
       "height": null,
       "justify_content": null,
       "justify_items": null,
       "left": null,
       "margin": null,
       "max_height": null,
       "max_width": null,
       "min_height": null,
       "min_width": null,
       "object_fit": null,
       "object_position": null,
       "order": null,
       "overflow": null,
       "overflow_x": null,
       "overflow_y": null,
       "padding": null,
       "right": null,
       "top": null,
       "visibility": null,
       "width": null
      }
     },
     "2b83510b7a124a84835995513b9f9d4c": {
      "model_module": "@jupyter-widgets/controls",
      "model_module_version": "1.5.0",
      "model_name": "ProgressStyleModel",
      "state": {
       "_model_module": "@jupyter-widgets/controls",
       "_model_module_version": "1.5.0",
       "_model_name": "ProgressStyleModel",
       "_view_count": null,
       "_view_module": "@jupyter-widgets/base",
       "_view_module_version": "1.2.0",
       "_view_name": "StyleView",
       "bar_color": null,
       "description_width": ""
      }
     },
     "2d59a9cf9a7e4a97bebfb8ac916fb9b8": {
      "model_module": "@jupyter-widgets/base",
      "model_module_version": "1.2.0",
      "model_name": "LayoutModel",
      "state": {
       "_model_module": "@jupyter-widgets/base",
       "_model_module_version": "1.2.0",
       "_model_name": "LayoutModel",
       "_view_count": null,
       "_view_module": "@jupyter-widgets/base",
       "_view_module_version": "1.2.0",
       "_view_name": "LayoutView",
       "align_content": null,
       "align_items": null,
       "align_self": null,
       "border": null,
       "bottom": null,
       "display": null,
       "flex": null,
       "flex_flow": null,
       "grid_area": null,
       "grid_auto_columns": null,
       "grid_auto_flow": null,
       "grid_auto_rows": null,
       "grid_column": null,
       "grid_gap": null,
       "grid_row": null,
       "grid_template_areas": null,
       "grid_template_columns": null,
       "grid_template_rows": null,
       "height": null,
       "justify_content": null,
       "justify_items": null,
       "left": null,
       "margin": null,
       "max_height": null,
       "max_width": null,
       "min_height": null,
       "min_width": null,
       "object_fit": null,
       "object_position": null,
       "order": null,
       "overflow": null,
       "overflow_x": null,
       "overflow_y": null,
       "padding": null,
       "right": null,
       "top": null,
       "visibility": null,
       "width": null
      }
     },
     "311633485bfa4f8ba525df597771ea04": {
      "model_module": "@jupyter-widgets/controls",
      "model_module_version": "1.5.0",
      "model_name": "HTMLModel",
      "state": {
       "_dom_classes": [],
       "_model_module": "@jupyter-widgets/controls",
       "_model_module_version": "1.5.0",
       "_model_name": "HTMLModel",
       "_view_count": null,
       "_view_module": "@jupyter-widgets/controls",
       "_view_module_version": "1.5.0",
       "_view_name": "HTMLView",
       "description": "",
       "description_tooltip": null,
       "layout": "IPY_MODEL_6522a75fc6a3424ca9f5c412d33737ec",
       "placeholder": "​",
       "style": "IPY_MODEL_f8981d9c593348399ed9aeca6b12a335",
       "value": " 471k/471k [00:00&lt;00:00, 6.32MB/s]"
      }
     },
     "3736d7a59e4a49509f46c6a4116341b4": {
      "model_module": "@jupyter-widgets/controls",
      "model_module_version": "1.5.0",
      "model_name": "HTMLModel",
      "state": {
       "_dom_classes": [],
       "_model_module": "@jupyter-widgets/controls",
       "_model_module_version": "1.5.0",
       "_model_name": "HTMLModel",
       "_view_count": null,
       "_view_module": "@jupyter-widgets/controls",
       "_view_module_version": "1.5.0",
       "_view_name": "HTMLView",
       "description": "",
       "description_tooltip": null,
       "layout": "IPY_MODEL_6892030f16214050a97ba1bdeff41d03",
       "placeholder": "​",
       "style": "IPY_MODEL_fcf01047dbfc42fd8235dcded45bca57",
       "value": "Downloading config.json: 100%"
      }
     },
     "37a4010b97554348a65545ee4a770b8d": {
      "model_module": "@jupyter-widgets/base",
      "model_module_version": "1.2.0",
      "model_name": "LayoutModel",
      "state": {
       "_model_module": "@jupyter-widgets/base",
       "_model_module_version": "1.2.0",
       "_model_name": "LayoutModel",
       "_view_count": null,
       "_view_module": "@jupyter-widgets/base",
       "_view_module_version": "1.2.0",
       "_view_name": "LayoutView",
       "align_content": null,
       "align_items": null,
       "align_self": null,
       "border": null,
       "bottom": null,
       "display": null,
       "flex": null,
       "flex_flow": null,
       "grid_area": null,
       "grid_auto_columns": null,
       "grid_auto_flow": null,
       "grid_auto_rows": null,
       "grid_column": null,
       "grid_gap": null,
       "grid_row": null,
       "grid_template_areas": null,
       "grid_template_columns": null,
       "grid_template_rows": null,
       "height": null,
       "justify_content": null,
       "justify_items": null,
       "left": null,
       "margin": null,
       "max_height": null,
       "max_width": null,
       "min_height": null,
       "min_width": null,
       "object_fit": null,
       "object_position": null,
       "order": null,
       "overflow": null,
       "overflow_x": null,
       "overflow_y": null,
       "padding": null,
       "right": null,
       "top": null,
       "visibility": null,
       "width": null
      }
     },
     "37fc748b843a4e8694755cf909fbaf2f": {
      "model_module": "@jupyter-widgets/controls",
      "model_module_version": "1.5.0",
      "model_name": "HBoxModel",
      "state": {
       "_dom_classes": [],
       "_model_module": "@jupyter-widgets/controls",
       "_model_module_version": "1.5.0",
       "_model_name": "HBoxModel",
       "_view_count": null,
       "_view_module": "@jupyter-widgets/controls",
       "_view_module_version": "1.5.0",
       "_view_name": "HBoxView",
       "box_style": "",
       "children": [
        "IPY_MODEL_bed9e52ba1c543c48abfc166d66a8ba2",
        "IPY_MODEL_ef5c24abc29b43c5a78f9bf8f4ee22ef",
        "IPY_MODEL_8d3cdeb471844ff68d2feab64bebeae1"
       ],
       "layout": "IPY_MODEL_f630442f745f424ea795ce1f71a55340"
      }
     },
     "38e0f73cf768431c97cbc111f59dac77": {
      "model_module": "@jupyter-widgets/controls",
      "model_module_version": "1.5.0",
      "model_name": "HTMLModel",
      "state": {
       "_dom_classes": [],
       "_model_module": "@jupyter-widgets/controls",
       "_model_module_version": "1.5.0",
       "_model_name": "HTMLModel",
       "_view_count": null,
       "_view_module": "@jupyter-widgets/controls",
       "_view_module_version": "1.5.0",
       "_view_name": "HTMLView",
       "description": "",
       "description_tooltip": null,
       "layout": "IPY_MODEL_706274dc38764bf5bf53912c2d7a7fdd",
       "placeholder": "​",
       "style": "IPY_MODEL_ed0ea13e33b74e80ae741fc05a0b0848",
       "value": "Sanity Checking DataLoader 0: 100%"
      }
     },
     "3dbeae3f10504afca3f801360be7361a": {
      "model_module": "@jupyter-widgets/controls",
      "model_module_version": "1.5.0",
      "model_name": "DescriptionStyleModel",
      "state": {
       "_model_module": "@jupyter-widgets/controls",
       "_model_module_version": "1.5.0",
       "_model_name": "DescriptionStyleModel",
       "_view_count": null,
       "_view_module": "@jupyter-widgets/base",
       "_view_module_version": "1.2.0",
       "_view_name": "StyleView",
       "description_width": ""
      }
     },
     "41b532103e744ab3af82428af0ba52b3": {
      "model_module": "@jupyter-widgets/controls",
      "model_module_version": "1.5.0",
      "model_name": "HTMLModel",
      "state": {
       "_dom_classes": [],
       "_model_module": "@jupyter-widgets/controls",
       "_model_module_version": "1.5.0",
       "_model_name": "HTMLModel",
       "_view_count": null,
       "_view_module": "@jupyter-widgets/controls",
       "_view_module_version": "1.5.0",
       "_view_name": "HTMLView",
       "description": "",
       "description_tooltip": null,
       "layout": "IPY_MODEL_a5790ece49684a0eb3cd5753b04fea22",
       "placeholder": "​",
       "style": "IPY_MODEL_722c459211514b5daa123169e3a3ad5e",
       "value": " 707/707 [00:30&lt;00:00, 23.16it/s]"
      }
     },
     "43b9654370c74b1dbf931cf650daab4c": {
      "model_module": "@jupyter-widgets/base",
      "model_module_version": "1.2.0",
      "model_name": "LayoutModel",
      "state": {
       "_model_module": "@jupyter-widgets/base",
       "_model_module_version": "1.2.0",
       "_model_name": "LayoutModel",
       "_view_count": null,
       "_view_module": "@jupyter-widgets/base",
       "_view_module_version": "1.2.0",
       "_view_name": "LayoutView",
       "align_content": null,
       "align_items": null,
       "align_self": null,
       "border": null,
       "bottom": null,
       "display": null,
       "flex": null,
       "flex_flow": null,
       "grid_area": null,
       "grid_auto_columns": null,
       "grid_auto_flow": null,
       "grid_auto_rows": null,
       "grid_column": null,
       "grid_gap": null,
       "grid_row": null,
       "grid_template_areas": null,
       "grid_template_columns": null,
       "grid_template_rows": null,
       "height": null,
       "justify_content": null,
       "justify_items": null,
       "left": null,
       "margin": null,
       "max_height": null,
       "max_width": null,
       "min_height": null,
       "min_width": null,
       "object_fit": null,
       "object_position": null,
       "order": null,
       "overflow": null,
       "overflow_x": null,
       "overflow_y": null,
       "padding": null,
       "right": null,
       "top": null,
       "visibility": null,
       "width": null
      }
     },
     "4538fbc0c35141efba0d3056ccf1c3e4": {
      "model_module": "@jupyter-widgets/controls",
      "model_module_version": "1.5.0",
      "model_name": "FloatProgressModel",
      "state": {
       "_dom_classes": [],
       "_model_module": "@jupyter-widgets/controls",
       "_model_module_version": "1.5.0",
       "_model_name": "FloatProgressModel",
       "_view_count": null,
       "_view_module": "@jupyter-widgets/controls",
       "_view_module_version": "1.5.0",
       "_view_name": "ProgressView",
       "bar_style": "",
       "description": "",
       "description_tooltip": null,
       "layout": "IPY_MODEL_a9fc1768e2d9474f8f4826d7c82051fe",
       "max": 136.0,
       "min": 0.0,
       "orientation": "horizontal",
       "style": "IPY_MODEL_6e2f464d7377459f8052c4771f673966",
       "value": 136.0
      }
     },
     "4628aa39df9043e699c7dfef7252bfa3": {
      "model_module": "@jupyter-widgets/base",
      "model_module_version": "1.2.0",
      "model_name": "LayoutModel",
      "state": {
       "_model_module": "@jupyter-widgets/base",
       "_model_module_version": "1.2.0",
       "_model_name": "LayoutModel",
       "_view_count": null,
       "_view_module": "@jupyter-widgets/base",
       "_view_module_version": "1.2.0",
       "_view_name": "LayoutView",
       "align_content": null,
       "align_items": null,
       "align_self": null,
       "border": null,
       "bottom": null,
       "display": null,
       "flex": null,
       "flex_flow": null,
       "grid_area": null,
       "grid_auto_columns": null,
       "grid_auto_flow": null,
       "grid_auto_rows": null,
       "grid_column": null,
       "grid_gap": null,
       "grid_row": null,
       "grid_template_areas": null,
       "grid_template_columns": null,
       "grid_template_rows": null,
       "height": null,
       "justify_content": null,
       "justify_items": null,
       "left": null,
       "margin": null,
       "max_height": null,
       "max_width": null,
       "min_height": null,
       "min_width": null,
       "object_fit": null,
       "object_position": null,
       "order": null,
       "overflow": null,
       "overflow_x": null,
       "overflow_y": null,
       "padding": null,
       "right": null,
       "top": null,
       "visibility": null,
       "width": null
      }
     },
     "4a77cafc5b594e9b8c8f6e7bb7b63acd": {
      "model_module": "@jupyter-widgets/controls",
      "model_module_version": "1.5.0",
      "model_name": "DescriptionStyleModel",
      "state": {
       "_model_module": "@jupyter-widgets/controls",
       "_model_module_version": "1.5.0",
       "_model_name": "DescriptionStyleModel",
       "_view_count": null,
       "_view_module": "@jupyter-widgets/base",
       "_view_module_version": "1.2.0",
       "_view_name": "StyleView",
       "description_width": ""
      }
     },
     "4a853cb69a2a47a6a21d6ba326bf303e": {
      "model_module": "@jupyter-widgets/base",
      "model_module_version": "1.2.0",
      "model_name": "LayoutModel",
      "state": {
       "_model_module": "@jupyter-widgets/base",
       "_model_module_version": "1.2.0",
       "_model_name": "LayoutModel",
       "_view_count": null,
       "_view_module": "@jupyter-widgets/base",
       "_view_module_version": "1.2.0",
       "_view_name": "LayoutView",
       "align_content": null,
       "align_items": null,
       "align_self": null,
       "border": null,
       "bottom": null,
       "display": null,
       "flex": null,
       "flex_flow": null,
       "grid_area": null,
       "grid_auto_columns": null,
       "grid_auto_flow": null,
       "grid_auto_rows": null,
       "grid_column": null,
       "grid_gap": null,
       "grid_row": null,
       "grid_template_areas": null,
       "grid_template_columns": null,
       "grid_template_rows": null,
       "height": null,
       "justify_content": null,
       "justify_items": null,
       "left": null,
       "margin": null,
       "max_height": null,
       "max_width": null,
       "min_height": null,
       "min_width": null,
       "object_fit": null,
       "object_position": null,
       "order": null,
       "overflow": null,
       "overflow_x": null,
       "overflow_y": null,
       "padding": null,
       "right": null,
       "top": null,
       "visibility": null,
       "width": null
      }
     },
     "4bca5c3b9f2342069462b6a7056820d8": {
      "model_module": "@jupyter-widgets/controls",
      "model_module_version": "1.5.0",
      "model_name": "HBoxModel",
      "state": {
       "_dom_classes": [],
       "_model_module": "@jupyter-widgets/controls",
       "_model_module_version": "1.5.0",
       "_model_name": "HBoxModel",
       "_view_count": null,
       "_view_module": "@jupyter-widgets/controls",
       "_view_module_version": "1.5.0",
       "_view_name": "HBoxView",
       "box_style": "",
       "children": [
        "IPY_MODEL_38e0f73cf768431c97cbc111f59dac77",
        "IPY_MODEL_0f237507a7dc47ad8231f3cb074cc276",
        "IPY_MODEL_b07c1aa29b4142b3a744a3a475e36db8"
       ],
       "layout": "IPY_MODEL_133947072be84bb8a3a1b3d2d804174c"
      }
     },
     "4eb28e530c924421a9a43b393dbac75f": {
      "model_module": "@jupyter-widgets/controls",
      "model_module_version": "1.5.0",
      "model_name": "HBoxModel",
      "state": {
       "_dom_classes": [],
       "_model_module": "@jupyter-widgets/controls",
       "_model_module_version": "1.5.0",
       "_model_name": "HBoxModel",
       "_view_count": null,
       "_view_module": "@jupyter-widgets/controls",
       "_view_module_version": "1.5.0",
       "_view_name": "HBoxView",
       "box_style": "",
       "children": [
        "IPY_MODEL_e3842cb9df30489ea0a27d5e8f7ea8f1",
        "IPY_MODEL_ae93627935c840bd8e80a0d96f55c337",
        "IPY_MODEL_8592a92a1fd34b888cf927cc3880da2e"
       ],
       "layout": "IPY_MODEL_2b1ec888ea1e4da0acb6ecea221c6971"
      }
     },
     "503d3a8bbfc1439ebf641b21e4b4bb0c": {
      "model_module": "@jupyter-widgets/base",
      "model_module_version": "1.2.0",
      "model_name": "LayoutModel",
      "state": {
       "_model_module": "@jupyter-widgets/base",
       "_model_module_version": "1.2.0",
       "_model_name": "LayoutModel",
       "_view_count": null,
       "_view_module": "@jupyter-widgets/base",
       "_view_module_version": "1.2.0",
       "_view_name": "LayoutView",
       "align_content": null,
       "align_items": null,
       "align_self": null,
       "border": null,
       "bottom": null,
       "display": null,
       "flex": null,
       "flex_flow": null,
       "grid_area": null,
       "grid_auto_columns": null,
       "grid_auto_flow": null,
       "grid_auto_rows": null,
       "grid_column": null,
       "grid_gap": null,
       "grid_row": null,
       "grid_template_areas": null,
       "grid_template_columns": null,
       "grid_template_rows": null,
       "height": null,
       "justify_content": null,
       "justify_items": null,
       "left": null,
       "margin": null,
       "max_height": null,
       "max_width": null,
       "min_height": null,
       "min_width": null,
       "object_fit": null,
       "object_position": null,
       "order": null,
       "overflow": null,
       "overflow_x": null,
       "overflow_y": null,
       "padding": null,
       "right": null,
       "top": null,
       "visibility": null,
       "width": null
      }
     },
     "50eb5c6bbeb8442a90a96527d27e148e": {
      "model_module": "@jupyter-widgets/controls",
      "model_module_version": "1.5.0",
      "model_name": "DescriptionStyleModel",
      "state": {
       "_model_module": "@jupyter-widgets/controls",
       "_model_module_version": "1.5.0",
       "_model_name": "DescriptionStyleModel",
       "_view_count": null,
       "_view_module": "@jupyter-widgets/base",
       "_view_module_version": "1.2.0",
       "_view_name": "StyleView",
       "description_width": ""
      }
     },
     "511d1e96734440f4bb1e171b532e86b2": {
      "model_module": "@jupyter-widgets/controls",
      "model_module_version": "1.5.0",
      "model_name": "ProgressStyleModel",
      "state": {
       "_model_module": "@jupyter-widgets/controls",
       "_model_module_version": "1.5.0",
       "_model_name": "ProgressStyleModel",
       "_view_count": null,
       "_view_module": "@jupyter-widgets/base",
       "_view_module_version": "1.2.0",
       "_view_name": "StyleView",
       "bar_color": null,
       "description_width": ""
      }
     },
     "59aa242b535f49eab8330e69ad10762d": {
      "model_module": "@jupyter-widgets/controls",
      "model_module_version": "1.5.0",
      "model_name": "DescriptionStyleModel",
      "state": {
       "_model_module": "@jupyter-widgets/controls",
       "_model_module_version": "1.5.0",
       "_model_name": "DescriptionStyleModel",
       "_view_count": null,
       "_view_module": "@jupyter-widgets/base",
       "_view_module_version": "1.2.0",
       "_view_name": "StyleView",
       "description_width": ""
      }
     },
     "5f998987f3e64196bcbf3281f366b463": {
      "model_module": "@jupyter-widgets/base",
      "model_module_version": "1.2.0",
      "model_name": "LayoutModel",
      "state": {
       "_model_module": "@jupyter-widgets/base",
       "_model_module_version": "1.2.0",
       "_model_name": "LayoutModel",
       "_view_count": null,
       "_view_module": "@jupyter-widgets/base",
       "_view_module_version": "1.2.0",
       "_view_name": "LayoutView",
       "align_content": null,
       "align_items": null,
       "align_self": null,
       "border": null,
       "bottom": null,
       "display": null,
       "flex": null,
       "flex_flow": null,
       "grid_area": null,
       "grid_auto_columns": null,
       "grid_auto_flow": null,
       "grid_auto_rows": null,
       "grid_column": null,
       "grid_gap": null,
       "grid_row": null,
       "grid_template_areas": null,
       "grid_template_columns": null,
       "grid_template_rows": null,
       "height": null,
       "justify_content": null,
       "justify_items": null,
       "left": null,
       "margin": null,
       "max_height": null,
       "max_width": null,
       "min_height": null,
       "min_width": null,
       "object_fit": null,
       "object_position": null,
       "order": null,
       "overflow": null,
       "overflow_x": null,
       "overflow_y": null,
       "padding": null,
       "right": null,
       "top": null,
       "visibility": null,
       "width": null
      }
     },
     "624c1ae07f184e09a74491cd15b11fd0": {
      "model_module": "@jupyter-widgets/controls",
      "model_module_version": "1.5.0",
      "model_name": "DescriptionStyleModel",
      "state": {
       "_model_module": "@jupyter-widgets/controls",
       "_model_module_version": "1.5.0",
       "_model_name": "DescriptionStyleModel",
       "_view_count": null,
       "_view_module": "@jupyter-widgets/base",
       "_view_module_version": "1.2.0",
       "_view_name": "StyleView",
       "description_width": ""
      }
     },
     "6522a75fc6a3424ca9f5c412d33737ec": {
      "model_module": "@jupyter-widgets/base",
      "model_module_version": "1.2.0",
      "model_name": "LayoutModel",
      "state": {
       "_model_module": "@jupyter-widgets/base",
       "_model_module_version": "1.2.0",
       "_model_name": "LayoutModel",
       "_view_count": null,
       "_view_module": "@jupyter-widgets/base",
       "_view_module_version": "1.2.0",
       "_view_name": "LayoutView",
       "align_content": null,
       "align_items": null,
       "align_self": null,
       "border": null,
       "bottom": null,
       "display": null,
       "flex": null,
       "flex_flow": null,
       "grid_area": null,
       "grid_auto_columns": null,
       "grid_auto_flow": null,
       "grid_auto_rows": null,
       "grid_column": null,
       "grid_gap": null,
       "grid_row": null,
       "grid_template_areas": null,
       "grid_template_columns": null,
       "grid_template_rows": null,
       "height": null,
       "justify_content": null,
       "justify_items": null,
       "left": null,
       "margin": null,
       "max_height": null,
       "max_width": null,
       "min_height": null,
       "min_width": null,
       "object_fit": null,
       "object_position": null,
       "order": null,
       "overflow": null,
       "overflow_x": null,
       "overflow_y": null,
       "padding": null,
       "right": null,
       "top": null,
       "visibility": null,
       "width": null
      }
     },
     "660aa1c8d3c94b98aafff56c1af4271e": {
      "model_module": "@jupyter-widgets/controls",
      "model_module_version": "1.5.0",
      "model_name": "FloatProgressModel",
      "state": {
       "_dom_classes": [],
       "_model_module": "@jupyter-widgets/controls",
       "_model_module_version": "1.5.0",
       "_model_name": "FloatProgressModel",
       "_view_count": null,
       "_view_module": "@jupyter-widgets/controls",
       "_view_module_version": "1.5.0",
       "_view_name": "ProgressView",
       "bar_style": "success",
       "description": "",
       "description_tooltip": null,
       "layout": "IPY_MODEL_af6957523a4f4aeabc5b0c0065ae1448",
       "max": 1216.0,
       "min": 0.0,
       "orientation": "horizontal",
       "style": "IPY_MODEL_9ae0de672723462dbd362cb584e62590",
       "value": 1216.0
      }
     },
     "6892030f16214050a97ba1bdeff41d03": {
      "model_module": "@jupyter-widgets/base",
      "model_module_version": "1.2.0",
      "model_name": "LayoutModel",
      "state": {
       "_model_module": "@jupyter-widgets/base",
       "_model_module_version": "1.2.0",
       "_model_name": "LayoutModel",
       "_view_count": null,
       "_view_module": "@jupyter-widgets/base",
       "_view_module_version": "1.2.0",
       "_view_name": "LayoutView",
       "align_content": null,
       "align_items": null,
       "align_self": null,
       "border": null,
       "bottom": null,
       "display": null,
       "flex": null,
       "flex_flow": null,
       "grid_area": null,
       "grid_auto_columns": null,
       "grid_auto_flow": null,
       "grid_auto_rows": null,
       "grid_column": null,
       "grid_gap": null,
       "grid_row": null,
       "grid_template_areas": null,
       "grid_template_columns": null,
       "grid_template_rows": null,
       "height": null,
       "justify_content": null,
       "justify_items": null,
       "left": null,
       "margin": null,
       "max_height": null,
       "max_width": null,
       "min_height": null,
       "min_width": null,
       "object_fit": null,
       "object_position": null,
       "order": null,
       "overflow": null,
       "overflow_x": null,
       "overflow_y": null,
       "padding": null,
       "right": null,
       "top": null,
       "visibility": null,
       "width": null
      }
     },
     "6bf6825f1d9c44a39a726505f95eac9c": {
      "model_module": "@jupyter-widgets/base",
      "model_module_version": "1.2.0",
      "model_name": "LayoutModel",
      "state": {
       "_model_module": "@jupyter-widgets/base",
       "_model_module_version": "1.2.0",
       "_model_name": "LayoutModel",
       "_view_count": null,
       "_view_module": "@jupyter-widgets/base",
       "_view_module_version": "1.2.0",
       "_view_name": "LayoutView",
       "align_content": null,
       "align_items": null,
       "align_self": null,
       "border": null,
       "bottom": null,
       "display": null,
       "flex": null,
       "flex_flow": null,
       "grid_area": null,
       "grid_auto_columns": null,
       "grid_auto_flow": null,
       "grid_auto_rows": null,
       "grid_column": null,
       "grid_gap": null,
       "grid_row": null,
       "grid_template_areas": null,
       "grid_template_columns": null,
       "grid_template_rows": null,
       "height": null,
       "justify_content": null,
       "justify_items": null,
       "left": null,
       "margin": null,
       "max_height": null,
       "max_width": null,
       "min_height": null,
       "min_width": null,
       "object_fit": null,
       "object_position": null,
       "order": null,
       "overflow": null,
       "overflow_x": null,
       "overflow_y": null,
       "padding": null,
       "right": null,
       "top": null,
       "visibility": null,
       "width": null
      }
     },
     "6e2f464d7377459f8052c4771f673966": {
      "model_module": "@jupyter-widgets/controls",
      "model_module_version": "1.5.0",
      "model_name": "ProgressStyleModel",
      "state": {
       "_model_module": "@jupyter-widgets/controls",
       "_model_module_version": "1.5.0",
       "_model_name": "ProgressStyleModel",
       "_view_count": null,
       "_view_module": "@jupyter-widgets/base",
       "_view_module_version": "1.2.0",
       "_view_name": "StyleView",
       "bar_color": null,
       "description_width": ""
      }
     },
     "706274dc38764bf5bf53912c2d7a7fdd": {
      "model_module": "@jupyter-widgets/base",
      "model_module_version": "1.2.0",
      "model_name": "LayoutModel",
      "state": {
       "_model_module": "@jupyter-widgets/base",
       "_model_module_version": "1.2.0",
       "_model_name": "LayoutModel",
       "_view_count": null,
       "_view_module": "@jupyter-widgets/base",
       "_view_module_version": "1.2.0",
       "_view_name": "LayoutView",
       "align_content": null,
       "align_items": null,
       "align_self": null,
       "border": null,
       "bottom": null,
       "display": null,
       "flex": null,
       "flex_flow": null,
       "grid_area": null,
       "grid_auto_columns": null,
       "grid_auto_flow": null,
       "grid_auto_rows": null,
       "grid_column": null,
       "grid_gap": null,
       "grid_row": null,
       "grid_template_areas": null,
       "grid_template_columns": null,
       "grid_template_rows": null,
       "height": null,
       "justify_content": null,
       "justify_items": null,
       "left": null,
       "margin": null,
       "max_height": null,
       "max_width": null,
       "min_height": null,
       "min_width": null,
       "object_fit": null,
       "object_position": null,
       "order": null,
       "overflow": null,
       "overflow_x": null,
       "overflow_y": null,
       "padding": null,
       "right": null,
       "top": null,
       "visibility": null,
       "width": null
      }
     },
     "71714f4b95da4d9abb225722261c6277": {
      "model_module": "@jupyter-widgets/base",
      "model_module_version": "1.2.0",
      "model_name": "LayoutModel",
      "state": {
       "_model_module": "@jupyter-widgets/base",
       "_model_module_version": "1.2.0",
       "_model_name": "LayoutModel",
       "_view_count": null,
       "_view_module": "@jupyter-widgets/base",
       "_view_module_version": "1.2.0",
       "_view_name": "LayoutView",
       "align_content": null,
       "align_items": null,
       "align_self": null,
       "border": null,
       "bottom": null,
       "display": "inline-flex",
       "flex": null,
       "flex_flow": "row wrap",
       "grid_area": null,
       "grid_auto_columns": null,
       "grid_auto_flow": null,
       "grid_auto_rows": null,
       "grid_column": null,
       "grid_gap": null,
       "grid_row": null,
       "grid_template_areas": null,
       "grid_template_columns": null,
       "grid_template_rows": null,
       "height": null,
       "justify_content": null,
       "justify_items": null,
       "left": null,
       "margin": null,
       "max_height": null,
       "max_width": null,
       "min_height": null,
       "min_width": null,
       "object_fit": null,
       "object_position": null,
       "order": null,
       "overflow": null,
       "overflow_x": null,
       "overflow_y": null,
       "padding": null,
       "right": null,
       "top": null,
       "visibility": null,
       "width": "100%"
      }
     },
     "722c459211514b5daa123169e3a3ad5e": {
      "model_module": "@jupyter-widgets/controls",
      "model_module_version": "1.5.0",
      "model_name": "DescriptionStyleModel",
      "state": {
       "_model_module": "@jupyter-widgets/controls",
       "_model_module_version": "1.5.0",
       "_model_name": "DescriptionStyleModel",
       "_view_count": null,
       "_view_module": "@jupyter-widgets/base",
       "_view_module_version": "1.2.0",
       "_view_name": "StyleView",
       "description_width": ""
      }
     },
     "72e76aa16b804b6e889b28155f343f69": {
      "model_module": "@jupyter-widgets/controls",
      "model_module_version": "1.5.0",
      "model_name": "DescriptionStyleModel",
      "state": {
       "_model_module": "@jupyter-widgets/controls",
       "_model_module_version": "1.5.0",
       "_model_name": "DescriptionStyleModel",
       "_view_count": null,
       "_view_module": "@jupyter-widgets/base",
       "_view_module_version": "1.2.0",
       "_view_name": "StyleView",
       "description_width": ""
      }
     },
     "74a03704cdab41fab97cd6384c9c3840": {
      "model_module": "@jupyter-widgets/controls",
      "model_module_version": "1.5.0",
      "model_name": "ProgressStyleModel",
      "state": {
       "_model_module": "@jupyter-widgets/controls",
       "_model_module_version": "1.5.0",
       "_model_name": "ProgressStyleModel",
       "_view_count": null,
       "_view_module": "@jupyter-widgets/base",
       "_view_module_version": "1.2.0",
       "_view_name": "StyleView",
       "bar_color": null,
       "description_width": ""
      }
     },
     "7add7e79797e4b2ea71cd9d099c08560": {
      "model_module": "@jupyter-widgets/controls",
      "model_module_version": "1.5.0",
      "model_name": "DescriptionStyleModel",
      "state": {
       "_model_module": "@jupyter-widgets/controls",
       "_model_module_version": "1.5.0",
       "_model_name": "DescriptionStyleModel",
       "_view_count": null,
       "_view_module": "@jupyter-widgets/base",
       "_view_module_version": "1.2.0",
       "_view_name": "StyleView",
       "description_width": ""
      }
     },
     "842fea6634dd4960b76dd4c63f394376": {
      "model_module": "@jupyter-widgets/controls",
      "model_module_version": "1.5.0",
      "model_name": "FloatProgressModel",
      "state": {
       "_dom_classes": [],
       "_model_module": "@jupyter-widgets/controls",
       "_model_module_version": "1.5.0",
       "_model_name": "FloatProgressModel",
       "_view_count": null,
       "_view_module": "@jupyter-widgets/controls",
       "_view_module_version": "1.5.0",
       "_view_name": "ProgressView",
       "bar_style": "success",
       "description": "",
       "description_tooltip": null,
       "layout": "IPY_MODEL_8896d57820364d458b56e77f22cb0372",
       "max": 470732.0,
       "min": 0.0,
       "orientation": "horizontal",
       "style": "IPY_MODEL_74a03704cdab41fab97cd6384c9c3840",
       "value": 470732.0
      }
     },
     "8592a92a1fd34b888cf927cc3880da2e": {
      "model_module": "@jupyter-widgets/controls",
      "model_module_version": "1.5.0",
      "model_name": "HTMLModel",
      "state": {
       "_dom_classes": [],
       "_model_module": "@jupyter-widgets/controls",
       "_model_module_version": "1.5.0",
       "_model_name": "HTMLModel",
       "_view_count": null,
       "_view_module": "@jupyter-widgets/controls",
       "_view_module_version": "1.5.0",
       "_view_name": "HTMLView",
       "description": "",
       "description_tooltip": null,
       "layout": "IPY_MODEL_43b9654370c74b1dbf931cf650daab4c",
       "placeholder": "​",
       "style": "IPY_MODEL_8de2a210c09d4b8684a55d5a11769170",
       "value": " 644/644 [00:00&lt;00:00, 48.2kB/s]"
      }
     },
     "8896d57820364d458b56e77f22cb0372": {
      "model_module": "@jupyter-widgets/base",
      "model_module_version": "1.2.0",
      "model_name": "LayoutModel",
      "state": {
       "_model_module": "@jupyter-widgets/base",
       "_model_module_version": "1.2.0",
       "_model_name": "LayoutModel",
       "_view_count": null,
       "_view_module": "@jupyter-widgets/base",
       "_view_module_version": "1.2.0",
       "_view_name": "LayoutView",
       "align_content": null,
       "align_items": null,
       "align_self": null,
       "border": null,
       "bottom": null,
       "display": null,
       "flex": null,
       "flex_flow": null,
       "grid_area": null,
       "grid_auto_columns": null,
       "grid_auto_flow": null,
       "grid_auto_rows": null,
       "grid_column": null,
       "grid_gap": null,
       "grid_row": null,
       "grid_template_areas": null,
       "grid_template_columns": null,
       "grid_template_rows": null,
       "height": null,
       "justify_content": null,
       "justify_items": null,
       "left": null,
       "margin": null,
       "max_height": null,
       "max_width": null,
       "min_height": null,
       "min_width": null,
       "object_fit": null,
       "object_position": null,
       "order": null,
       "overflow": null,
       "overflow_x": null,
       "overflow_y": null,
       "padding": null,
       "right": null,
       "top": null,
       "visibility": null,
       "width": null
      }
     },
     "8d3cdeb471844ff68d2feab64bebeae1": {
      "model_module": "@jupyter-widgets/controls",
      "model_module_version": "1.5.0",
      "model_name": "HTMLModel",
      "state": {
       "_dom_classes": [],
       "_model_module": "@jupyter-widgets/controls",
       "_model_module_version": "1.5.0",
       "_model_name": "HTMLModel",
       "_view_count": null,
       "_view_module": "@jupyter-widgets/controls",
       "_view_module_version": "1.5.0",
       "_view_name": "HTMLView",
       "description": "",
       "description_tooltip": null,
       "layout": "IPY_MODEL_4628aa39df9043e699c7dfef7252bfa3",
       "placeholder": "​",
       "style": "IPY_MODEL_f1c401da20134b799bba0f0301a85955",
       "value": " 136/136 [00:20&lt;00:00,  6.74it/s]"
      }
     },
     "8de2a210c09d4b8684a55d5a11769170": {
      "model_module": "@jupyter-widgets/controls",
      "model_module_version": "1.5.0",
      "model_name": "DescriptionStyleModel",
      "state": {
       "_model_module": "@jupyter-widgets/controls",
       "_model_module_version": "1.5.0",
       "_model_name": "DescriptionStyleModel",
       "_view_count": null,
       "_view_module": "@jupyter-widgets/base",
       "_view_module_version": "1.2.0",
       "_view_name": "StyleView",
       "description_width": ""
      }
     },
     "8f65737cd9d14fe8993e9eedd40e891a": {
      "model_module": "@jupyter-widgets/controls",
      "model_module_version": "1.5.0",
      "model_name": "DescriptionStyleModel",
      "state": {
       "_model_module": "@jupyter-widgets/controls",
       "_model_module_version": "1.5.0",
       "_model_name": "DescriptionStyleModel",
       "_view_count": null,
       "_view_module": "@jupyter-widgets/base",
       "_view_module_version": "1.2.0",
       "_view_name": "StyleView",
       "description_width": ""
      }
     },
     "93729620dca34b898594a54ce472cd64": {
      "model_module": "@jupyter-widgets/base",
      "model_module_version": "1.2.0",
      "model_name": "LayoutModel",
      "state": {
       "_model_module": "@jupyter-widgets/base",
       "_model_module_version": "1.2.0",
       "_model_name": "LayoutModel",
       "_view_count": null,
       "_view_module": "@jupyter-widgets/base",
       "_view_module_version": "1.2.0",
       "_view_name": "LayoutView",
       "align_content": null,
       "align_items": null,
       "align_self": null,
       "border": null,
       "bottom": null,
       "display": null,
       "flex": null,
       "flex_flow": null,
       "grid_area": null,
       "grid_auto_columns": null,
       "grid_auto_flow": null,
       "grid_auto_rows": null,
       "grid_column": null,
       "grid_gap": null,
       "grid_row": null,
       "grid_template_areas": null,
       "grid_template_columns": null,
       "grid_template_rows": null,
       "height": null,
       "justify_content": null,
       "justify_items": null,
       "left": null,
       "margin": null,
       "max_height": null,
       "max_width": null,
       "min_height": null,
       "min_width": null,
       "object_fit": null,
       "object_position": null,
       "order": null,
       "overflow": null,
       "overflow_x": null,
       "overflow_y": null,
       "padding": null,
       "right": null,
       "top": null,
       "visibility": null,
       "width": null
      }
     },
     "960b4c90a4ec47afa6a8edda05bf93cc": {
      "model_module": "@jupyter-widgets/controls",
      "model_module_version": "1.5.0",
      "model_name": "HTMLModel",
      "state": {
       "_dom_classes": [],
       "_model_module": "@jupyter-widgets/controls",
       "_model_module_version": "1.5.0",
       "_model_name": "HTMLModel",
       "_view_count": null,
       "_view_module": "@jupyter-widgets/controls",
       "_view_module_version": "1.5.0",
       "_view_name": "HTMLView",
       "description": "",
       "description_tooltip": null,
       "layout": "IPY_MODEL_93729620dca34b898594a54ce472cd64",
       "placeholder": "​",
       "style": "IPY_MODEL_59aa242b535f49eab8330e69ad10762d",
       "value": "100%"
      }
     },
     "96af3bfb387547559e044a0986b6eadd": {
      "model_module": "@jupyter-widgets/controls",
      "model_module_version": "1.5.0",
      "model_name": "HTMLModel",
      "state": {
       "_dom_classes": [],
       "_model_module": "@jupyter-widgets/controls",
       "_model_module_version": "1.5.0",
       "_model_name": "HTMLModel",
       "_view_count": null,
       "_view_module": "@jupyter-widgets/controls",
       "_view_module_version": "1.5.0",
       "_view_name": "HTMLView",
       "description": "",
       "description_tooltip": null,
       "layout": "IPY_MODEL_5f998987f3e64196bcbf3281f366b463",
       "placeholder": "​",
       "style": "IPY_MODEL_3dbeae3f10504afca3f801360be7361a",
       "value": " 631/631 [00:00&lt;00:00, 55.8kB/s]"
      }
     },
     "9ae0de672723462dbd362cb584e62590": {
      "model_module": "@jupyter-widgets/controls",
      "model_module_version": "1.5.0",
      "model_name": "ProgressStyleModel",
      "state": {
       "_model_module": "@jupyter-widgets/controls",
       "_model_module_version": "1.5.0",
       "_model_name": "ProgressStyleModel",
       "_view_count": null,
       "_view_module": "@jupyter-widgets/base",
       "_view_module_version": "1.2.0",
       "_view_name": "StyleView",
       "bar_color": null,
       "description_width": ""
      }
     },
     "9ebaa4fb40814ca9bdde3ed9ad28151a": {
      "model_module": "@jupyter-widgets/base",
      "model_module_version": "1.2.0",
      "model_name": "LayoutModel",
      "state": {
       "_model_module": "@jupyter-widgets/base",
       "_model_module_version": "1.2.0",
       "_model_name": "LayoutModel",
       "_view_count": null,
       "_view_module": "@jupyter-widgets/base",
       "_view_module_version": "1.2.0",
       "_view_name": "LayoutView",
       "align_content": null,
       "align_items": null,
       "align_self": null,
       "border": null,
       "bottom": null,
       "display": null,
       "flex": "2",
       "flex_flow": null,
       "grid_area": null,
       "grid_auto_columns": null,
       "grid_auto_flow": null,
       "grid_auto_rows": null,
       "grid_column": null,
       "grid_gap": null,
       "grid_row": null,
       "grid_template_areas": null,
       "grid_template_columns": null,
       "grid_template_rows": null,
       "height": null,
       "justify_content": null,
       "justify_items": null,
       "left": null,
       "margin": null,
       "max_height": null,
       "max_width": null,
       "min_height": null,
       "min_width": null,
       "object_fit": null,
       "object_position": null,
       "order": null,
       "overflow": null,
       "overflow_x": null,
       "overflow_y": null,
       "padding": null,
       "right": null,
       "top": null,
       "visibility": null,
       "width": null
      }
     },
     "a067cd7139814ff294b6108b23218d4f": {
      "model_module": "@jupyter-widgets/controls",
      "model_module_version": "1.5.0",
      "model_name": "FloatProgressModel",
      "state": {
       "_dom_classes": [],
       "_model_module": "@jupyter-widgets/controls",
       "_model_module_version": "1.5.0",
       "_model_name": "FloatProgressModel",
       "_view_count": null,
       "_view_module": "@jupyter-widgets/controls",
       "_view_module_version": "1.5.0",
       "_view_name": "ProgressView",
       "bar_style": "success",
       "description": "",
       "description_tooltip": null,
       "layout": "IPY_MODEL_0661783ff32143329370485345a03154",
       "max": 707.0,
       "min": 0.0,
       "orientation": "horizontal",
       "style": "IPY_MODEL_b66a40b900bc4e5b891e7d12c2b52fe1",
       "value": 707.0
      }
     },
     "a0b742115cae4bf09a1f330820139333": {
      "model_module": "@jupyter-widgets/controls",
      "model_module_version": "1.5.0",
      "model_name": "HBoxModel",
      "state": {
       "_dom_classes": [],
       "_model_module": "@jupyter-widgets/controls",
       "_model_module_version": "1.5.0",
       "_model_name": "HBoxModel",
       "_view_count": null,
       "_view_module": "@jupyter-widgets/controls",
       "_view_module_version": "1.5.0",
       "_view_name": "HBoxView",
       "box_style": "",
       "children": [
        "IPY_MODEL_960b4c90a4ec47afa6a8edda05bf93cc",
        "IPY_MODEL_c348784512164a40a04fa3f3dcd658d0",
        "IPY_MODEL_d0f3ce8108bb4aaca1a85a71f9ca6a09"
       ],
       "layout": "IPY_MODEL_dd7c47a08b104778a565bea3a126a910"
      }
     },
     "a0b974a0f57147e4a2ba5f1f7aba3142": {
      "model_module": "@jupyter-widgets/controls",
      "model_module_version": "1.5.0",
      "model_name": "DescriptionStyleModel",
      "state": {
       "_model_module": "@jupyter-widgets/controls",
       "_model_module_version": "1.5.0",
       "_model_name": "DescriptionStyleModel",
       "_view_count": null,
       "_view_module": "@jupyter-widgets/base",
       "_view_module_version": "1.2.0",
       "_view_name": "StyleView",
       "description_width": ""
      }
     },
     "a1165a3591d9482c803b39e1fa5135eb": {
      "model_module": "@jupyter-widgets/controls",
      "model_module_version": "1.5.0",
      "model_name": "HTMLModel",
      "state": {
       "_dom_classes": [],
       "_model_module": "@jupyter-widgets/controls",
       "_model_module_version": "1.5.0",
       "_model_name": "HTMLModel",
       "_view_count": null,
       "_view_module": "@jupyter-widgets/controls",
       "_view_module_version": "1.5.0",
       "_view_name": "HTMLView",
       "description": "",
       "description_tooltip": null,
       "layout": "IPY_MODEL_503d3a8bbfc1439ebf641b21e4b4bb0c",
       "placeholder": "​",
       "style": "IPY_MODEL_4a77cafc5b594e9b8c8f6e7bb7b63acd",
       "value": "Epoch 1: 100%"
      }
     },
     "a2b3d8ea84f44f6697e79c9963abbe72": {
      "model_module": "@jupyter-widgets/controls",
      "model_module_version": "1.5.0",
      "model_name": "HBoxModel",
      "state": {
       "_dom_classes": [],
       "_model_module": "@jupyter-widgets/controls",
       "_model_module_version": "1.5.0",
       "_model_name": "HBoxModel",
       "_view_count": null,
       "_view_module": "@jupyter-widgets/controls",
       "_view_module_version": "1.5.0",
       "_view_name": "HBoxView",
       "box_style": "",
       "children": [
        "IPY_MODEL_b41f030700844a258697767020b199e2",
        "IPY_MODEL_4538fbc0c35141efba0d3056ccf1c3e4",
        "IPY_MODEL_b106b5a4913344b3b27604c7cfb5a777"
       ],
       "layout": "IPY_MODEL_cc97cce832e94cfb8af1876226f2e87e"
      }
     },
     "a5790ece49684a0eb3cd5753b04fea22": {
      "model_module": "@jupyter-widgets/base",
      "model_module_version": "1.2.0",
      "model_name": "LayoutModel",
      "state": {
       "_model_module": "@jupyter-widgets/base",
       "_model_module_version": "1.2.0",
       "_model_name": "LayoutModel",
       "_view_count": null,
       "_view_module": "@jupyter-widgets/base",
       "_view_module_version": "1.2.0",
       "_view_name": "LayoutView",
       "align_content": null,
       "align_items": null,
       "align_self": null,
       "border": null,
       "bottom": null,
       "display": null,
       "flex": null,
       "flex_flow": null,
       "grid_area": null,
       "grid_auto_columns": null,
       "grid_auto_flow": null,
       "grid_auto_rows": null,
       "grid_column": null,
       "grid_gap": null,
       "grid_row": null,
       "grid_template_areas": null,
       "grid_template_columns": null,
       "grid_template_rows": null,
       "height": null,
       "justify_content": null,
       "justify_items": null,
       "left": null,
       "margin": null,
       "max_height": null,
       "max_width": null,
       "min_height": null,
       "min_width": null,
       "object_fit": null,
       "object_position": null,
       "order": null,
       "overflow": null,
       "overflow_x": null,
       "overflow_y": null,
       "padding": null,
       "right": null,
       "top": null,
       "visibility": null,
       "width": null
      }
     },
     "a9fc1768e2d9474f8f4826d7c82051fe": {
      "model_module": "@jupyter-widgets/base",
      "model_module_version": "1.2.0",
      "model_name": "LayoutModel",
      "state": {
       "_model_module": "@jupyter-widgets/base",
       "_model_module_version": "1.2.0",
       "_model_name": "LayoutModel",
       "_view_count": null,
       "_view_module": "@jupyter-widgets/base",
       "_view_module_version": "1.2.0",
       "_view_name": "LayoutView",
       "align_content": null,
       "align_items": null,
       "align_self": null,
       "border": null,
       "bottom": null,
       "display": null,
       "flex": "2",
       "flex_flow": null,
       "grid_area": null,
       "grid_auto_columns": null,
       "grid_auto_flow": null,
       "grid_auto_rows": null,
       "grid_column": null,
       "grid_gap": null,
       "grid_row": null,
       "grid_template_areas": null,
       "grid_template_columns": null,
       "grid_template_rows": null,
       "height": null,
       "justify_content": null,
       "justify_items": null,
       "left": null,
       "margin": null,
       "max_height": null,
       "max_width": null,
       "min_height": null,
       "min_width": null,
       "object_fit": null,
       "object_position": null,
       "order": null,
       "overflow": null,
       "overflow_x": null,
       "overflow_y": null,
       "padding": null,
       "right": null,
       "top": null,
       "visibility": null,
       "width": null
      }
     },
     "ae93627935c840bd8e80a0d96f55c337": {
      "model_module": "@jupyter-widgets/controls",
      "model_module_version": "1.5.0",
      "model_name": "FloatProgressModel",
      "state": {
       "_dom_classes": [],
       "_model_module": "@jupyter-widgets/controls",
       "_model_module_version": "1.5.0",
       "_model_name": "FloatProgressModel",
       "_view_count": null,
       "_view_module": "@jupyter-widgets/controls",
       "_view_module_version": "1.5.0",
       "_view_name": "ProgressView",
       "bar_style": "success",
       "description": "",
       "description_tooltip": null,
       "layout": "IPY_MODEL_b771f3d26c2b4a3abfa72e9ead9a94a6",
       "max": 644.0,
       "min": 0.0,
       "orientation": "horizontal",
       "style": "IPY_MODEL_2b83510b7a124a84835995513b9f9d4c",
       "value": 644.0
      }
     },
     "af6957523a4f4aeabc5b0c0065ae1448": {
      "model_module": "@jupyter-widgets/base",
      "model_module_version": "1.2.0",
      "model_name": "LayoutModel",
      "state": {
       "_model_module": "@jupyter-widgets/base",
       "_model_module_version": "1.2.0",
       "_model_name": "LayoutModel",
       "_view_count": null,
       "_view_module": "@jupyter-widgets/base",
       "_view_module_version": "1.2.0",
       "_view_name": "LayoutView",
       "align_content": null,
       "align_items": null,
       "align_self": null,
       "border": null,
       "bottom": null,
       "display": null,
       "flex": "2",
       "flex_flow": null,
       "grid_area": null,
       "grid_auto_columns": null,
       "grid_auto_flow": null,
       "grid_auto_rows": null,
       "grid_column": null,
       "grid_gap": null,
       "grid_row": null,
       "grid_template_areas": null,
       "grid_template_columns": null,
       "grid_template_rows": null,
       "height": null,
       "justify_content": null,
       "justify_items": null,
       "left": null,
       "margin": null,
       "max_height": null,
       "max_width": null,
       "min_height": null,
       "min_width": null,
       "object_fit": null,
       "object_position": null,
       "order": null,
       "overflow": null,
       "overflow_x": null,
       "overflow_y": null,
       "padding": null,
       "right": null,
       "top": null,
       "visibility": null,
       "width": null
      }
     },
     "b07c1aa29b4142b3a744a3a475e36db8": {
      "model_module": "@jupyter-widgets/controls",
      "model_module_version": "1.5.0",
      "model_name": "HTMLModel",
      "state": {
       "_dom_classes": [],
       "_model_module": "@jupyter-widgets/controls",
       "_model_module_version": "1.5.0",
       "_model_name": "HTMLModel",
       "_view_count": null,
       "_view_module": "@jupyter-widgets/controls",
       "_view_module_version": "1.5.0",
       "_view_name": "HTMLView",
       "description": "",
       "description_tooltip": null,
       "layout": "IPY_MODEL_13fadfed973044b2bfc1b8da4c5fad04",
       "placeholder": "​",
       "style": "IPY_MODEL_8f65737cd9d14fe8993e9eedd40e891a",
       "value": " 2/2 [00:00&lt;00:00,  3.84it/s]"
      }
     },
     "b106b5a4913344b3b27604c7cfb5a777": {
      "model_module": "@jupyter-widgets/controls",
      "model_module_version": "1.5.0",
      "model_name": "HTMLModel",
      "state": {
       "_dom_classes": [],
       "_model_module": "@jupyter-widgets/controls",
       "_model_module_version": "1.5.0",
       "_model_name": "HTMLModel",
       "_view_count": null,
       "_view_module": "@jupyter-widgets/controls",
       "_view_module_version": "1.5.0",
       "_view_name": "HTMLView",
       "description": "",
       "description_tooltip": null,
       "layout": "IPY_MODEL_2d59a9cf9a7e4a97bebfb8ac916fb9b8",
       "placeholder": "​",
       "style": "IPY_MODEL_a0b974a0f57147e4a2ba5f1f7aba3142",
       "value": " 136/136 [00:20&lt;00:00,  6.75it/s]"
      }
     },
     "b41f030700844a258697767020b199e2": {
      "model_module": "@jupyter-widgets/controls",
      "model_module_version": "1.5.0",
      "model_name": "HTMLModel",
      "state": {
       "_dom_classes": [],
       "_model_module": "@jupyter-widgets/controls",
       "_model_module_version": "1.5.0",
       "_model_name": "HTMLModel",
       "_view_count": null,
       "_view_module": "@jupyter-widgets/controls",
       "_view_module_version": "1.5.0",
       "_view_name": "HTMLView",
       "description": "",
       "description_tooltip": null,
       "layout": "IPY_MODEL_ee7df2a57c6a4a86b766eb978d84c192",
       "placeholder": "​",
       "style": "IPY_MODEL_0e7ce532e3664763a0f8a9dfcc2f8725",
       "value": "Validation DataLoader 0: 100%"
      }
     },
     "b66a40b900bc4e5b891e7d12c2b52fe1": {
      "model_module": "@jupyter-widgets/controls",
      "model_module_version": "1.5.0",
      "model_name": "ProgressStyleModel",
      "state": {
       "_model_module": "@jupyter-widgets/controls",
       "_model_module_version": "1.5.0",
       "_model_name": "ProgressStyleModel",
       "_view_count": null,
       "_view_module": "@jupyter-widgets/base",
       "_view_module_version": "1.2.0",
       "_view_name": "StyleView",
       "bar_color": null,
       "description_width": ""
      }
     },
     "b771f3d26c2b4a3abfa72e9ead9a94a6": {
      "model_module": "@jupyter-widgets/base",
      "model_module_version": "1.2.0",
      "model_name": "LayoutModel",
      "state": {
       "_model_module": "@jupyter-widgets/base",
       "_model_module_version": "1.2.0",
       "_model_name": "LayoutModel",
       "_view_count": null,
       "_view_module": "@jupyter-widgets/base",
       "_view_module_version": "1.2.0",
       "_view_name": "LayoutView",
       "align_content": null,
       "align_items": null,
       "align_self": null,
       "border": null,
       "bottom": null,
       "display": null,
       "flex": null,
       "flex_flow": null,
       "grid_area": null,
       "grid_auto_columns": null,
       "grid_auto_flow": null,
       "grid_auto_rows": null,
       "grid_column": null,
       "grid_gap": null,
       "grid_row": null,
       "grid_template_areas": null,
       "grid_template_columns": null,
       "grid_template_rows": null,
       "height": null,
       "justify_content": null,
       "justify_items": null,
       "left": null,
       "margin": null,
       "max_height": null,
       "max_width": null,
       "min_height": null,
       "min_width": null,
       "object_fit": null,
       "object_position": null,
       "order": null,
       "overflow": null,
       "overflow_x": null,
       "overflow_y": null,
       "padding": null,
       "right": null,
       "top": null,
       "visibility": null,
       "width": null
      }
     },
     "bed9e52ba1c543c48abfc166d66a8ba2": {
      "model_module": "@jupyter-widgets/controls",
      "model_module_version": "1.5.0",
      "model_name": "HTMLModel",
      "state": {
       "_dom_classes": [],
       "_model_module": "@jupyter-widgets/controls",
       "_model_module_version": "1.5.0",
       "_model_name": "HTMLModel",
       "_view_count": null,
       "_view_module": "@jupyter-widgets/controls",
       "_view_module_version": "1.5.0",
       "_view_name": "HTMLView",
       "description": "",
       "description_tooltip": null,
       "layout": "IPY_MODEL_21468b78472f45f998ba31ccf5ba84d9",
       "placeholder": "​",
       "style": "IPY_MODEL_7add7e79797e4b2ea71cd9d099c08560",
       "value": "Validation DataLoader 0: 100%"
      }
     },
     "c348784512164a40a04fa3f3dcd658d0": {
      "model_module": "@jupyter-widgets/controls",
      "model_module_version": "1.5.0",
      "model_name": "FloatProgressModel",
      "state": {
       "_dom_classes": [],
       "_model_module": "@jupyter-widgets/controls",
       "_model_module_version": "1.5.0",
       "_model_name": "FloatProgressModel",
       "_view_count": null,
       "_view_module": "@jupyter-widgets/controls",
       "_view_module_version": "1.5.0",
       "_view_name": "ProgressView",
       "bar_style": "success",
       "description": "",
       "description_tooltip": null,
       "layout": "IPY_MODEL_4a853cb69a2a47a6a21d6ba326bf303e",
       "max": 1081.0,
       "min": 0.0,
       "orientation": "horizontal",
       "style": "IPY_MODEL_c35b2159feb14ebbaaae43d619f2cabb",
       "value": 1081.0
      }
     },
     "c35b2159feb14ebbaaae43d619f2cabb": {
      "model_module": "@jupyter-widgets/controls",
      "model_module_version": "1.5.0",
      "model_name": "ProgressStyleModel",
      "state": {
       "_model_module": "@jupyter-widgets/controls",
       "_model_module_version": "1.5.0",
       "_model_name": "ProgressStyleModel",
       "_view_count": null,
       "_view_module": "@jupyter-widgets/base",
       "_view_module_version": "1.2.0",
       "_view_name": "StyleView",
       "bar_color": null,
       "description_width": ""
      }
     },
     "cc97cce832e94cfb8af1876226f2e87e": {
      "model_module": "@jupyter-widgets/base",
      "model_module_version": "1.2.0",
      "model_name": "LayoutModel",
      "state": {
       "_model_module": "@jupyter-widgets/base",
       "_model_module_version": "1.2.0",
       "_model_name": "LayoutModel",
       "_view_count": null,
       "_view_module": "@jupyter-widgets/base",
       "_view_module_version": "1.2.0",
       "_view_name": "LayoutView",
       "align_content": null,
       "align_items": null,
       "align_self": null,
       "border": null,
       "bottom": null,
       "display": "inline-flex",
       "flex": null,
       "flex_flow": "row wrap",
       "grid_area": null,
       "grid_auto_columns": null,
       "grid_auto_flow": null,
       "grid_auto_rows": null,
       "grid_column": null,
       "grid_gap": null,
       "grid_row": null,
       "grid_template_areas": null,
       "grid_template_columns": null,
       "grid_template_rows": null,
       "height": null,
       "justify_content": null,
       "justify_items": null,
       "left": null,
       "margin": null,
       "max_height": null,
       "max_width": null,
       "min_height": null,
       "min_width": null,
       "object_fit": null,
       "object_position": null,
       "order": null,
       "overflow": null,
       "overflow_x": null,
       "overflow_y": null,
       "padding": null,
       "right": null,
       "top": null,
       "visibility": "hidden",
       "width": "100%"
      }
     },
     "d03f0dda281f40b681b36a7cac07f252": {
      "model_module": "@jupyter-widgets/base",
      "model_module_version": "1.2.0",
      "model_name": "LayoutModel",
      "state": {
       "_model_module": "@jupyter-widgets/base",
       "_model_module_version": "1.2.0",
       "_model_name": "LayoutModel",
       "_view_count": null,
       "_view_module": "@jupyter-widgets/base",
       "_view_module_version": "1.2.0",
       "_view_name": "LayoutView",
       "align_content": null,
       "align_items": null,
       "align_self": null,
       "border": null,
       "bottom": null,
       "display": null,
       "flex": null,
       "flex_flow": null,
       "grid_area": null,
       "grid_auto_columns": null,
       "grid_auto_flow": null,
       "grid_auto_rows": null,
       "grid_column": null,
       "grid_gap": null,
       "grid_row": null,
       "grid_template_areas": null,
       "grid_template_columns": null,
       "grid_template_rows": null,
       "height": null,
       "justify_content": null,
       "justify_items": null,
       "left": null,
       "margin": null,
       "max_height": null,
       "max_width": null,
       "min_height": null,
       "min_width": null,
       "object_fit": null,
       "object_position": null,
       "order": null,
       "overflow": null,
       "overflow_x": null,
       "overflow_y": null,
       "padding": null,
       "right": null,
       "top": null,
       "visibility": null,
       "width": null
      }
     },
     "d0f3ce8108bb4aaca1a85a71f9ca6a09": {
      "model_module": "@jupyter-widgets/controls",
      "model_module_version": "1.5.0",
      "model_name": "HTMLModel",
      "state": {
       "_dom_classes": [],
       "_model_module": "@jupyter-widgets/controls",
       "_model_module_version": "1.5.0",
       "_model_name": "HTMLModel",
       "_view_count": null,
       "_view_module": "@jupyter-widgets/controls",
       "_view_module_version": "1.5.0",
       "_view_name": "HTMLView",
       "description": "",
       "description_tooltip": null,
       "layout": "IPY_MODEL_0cd678046a674564bf94efc21062476c",
       "placeholder": "​",
       "style": "IPY_MODEL_50eb5c6bbeb8442a90a96527d27e148e",
       "value": " 1081/1081 [00:22&lt;00:00, 48.55it/s]"
      }
     },
     "d4992cc305a74ee68453298b1221e2b7": {
      "model_module": "@jupyter-widgets/controls",
      "model_module_version": "1.5.0",
      "model_name": "ProgressStyleModel",
      "state": {
       "_model_module": "@jupyter-widgets/controls",
       "_model_module_version": "1.5.0",
       "_model_name": "ProgressStyleModel",
       "_view_count": null,
       "_view_module": "@jupyter-widgets/base",
       "_view_module_version": "1.2.0",
       "_view_name": "StyleView",
       "bar_color": null,
       "description_width": ""
      }
     },
     "d8470acf444c4f3692eed6eada67fc76": {
      "model_module": "@jupyter-widgets/controls",
      "model_module_version": "1.5.0",
      "model_name": "HBoxModel",
      "state": {
       "_dom_classes": [],
       "_model_module": "@jupyter-widgets/controls",
       "_model_module_version": "1.5.0",
       "_model_name": "HBoxModel",
       "_view_count": null,
       "_view_module": "@jupyter-widgets/controls",
       "_view_module_version": "1.5.0",
       "_view_name": "HBoxView",
       "box_style": "",
       "children": [
        "IPY_MODEL_0e6cb66b39384c2d94ad73fda69de2e6",
        "IPY_MODEL_842fea6634dd4960b76dd4c63f394376",
        "IPY_MODEL_311633485bfa4f8ba525df597771ea04"
       ],
       "layout": "IPY_MODEL_2a764c40ffd64fb699b22b02704fa9e8"
      }
     },
     "d8c773a2603a4a49bf7ea7faf3686312": {
      "model_module": "@jupyter-widgets/controls",
      "model_module_version": "1.5.0",
      "model_name": "HTMLModel",
      "state": {
       "_dom_classes": [],
       "_model_module": "@jupyter-widgets/controls",
       "_model_module_version": "1.5.0",
       "_model_name": "HTMLModel",
       "_view_count": null,
       "_view_module": "@jupyter-widgets/controls",
       "_view_module_version": "1.5.0",
       "_view_name": "HTMLView",
       "description": "",
       "description_tooltip": null,
       "layout": "IPY_MODEL_37a4010b97554348a65545ee4a770b8d",
       "placeholder": "​",
       "style": "IPY_MODEL_26edd2577d60460990c94ad8f63e8794",
       "value": "Getting predictions: 100%"
      }
     },
     "dd7c47a08b104778a565bea3a126a910": {
      "model_module": "@jupyter-widgets/base",
      "model_module_version": "1.2.0",
      "model_name": "LayoutModel",
      "state": {
       "_model_module": "@jupyter-widgets/base",
       "_model_module_version": "1.2.0",
       "_model_name": "LayoutModel",
       "_view_count": null,
       "_view_module": "@jupyter-widgets/base",
       "_view_module_version": "1.2.0",
       "_view_name": "LayoutView",
       "align_content": null,
       "align_items": null,
       "align_self": null,
       "border": null,
       "bottom": null,
       "display": null,
       "flex": null,
       "flex_flow": null,
       "grid_area": null,
       "grid_auto_columns": null,
       "grid_auto_flow": null,
       "grid_auto_rows": null,
       "grid_column": null,
       "grid_gap": null,
       "grid_row": null,
       "grid_template_areas": null,
       "grid_template_columns": null,
       "grid_template_rows": null,
       "height": null,
       "justify_content": null,
       "justify_items": null,
       "left": null,
       "margin": null,
       "max_height": null,
       "max_width": null,
       "min_height": null,
       "min_width": null,
       "object_fit": null,
       "object_position": null,
       "order": null,
       "overflow": null,
       "overflow_x": null,
       "overflow_y": null,
       "padding": null,
       "right": null,
       "top": null,
       "visibility": null,
       "width": null
      }
     },
     "dfdd8502ce314c2d8a6d2ba04b34f304": {
      "model_module": "@jupyter-widgets/controls",
      "model_module_version": "1.5.0",
      "model_name": "DescriptionStyleModel",
      "state": {
       "_model_module": "@jupyter-widgets/controls",
       "_model_module_version": "1.5.0",
       "_model_name": "DescriptionStyleModel",
       "_view_count": null,
       "_view_module": "@jupyter-widgets/base",
       "_view_module_version": "1.2.0",
       "_view_name": "StyleView",
       "description_width": ""
      }
     },
     "e23e2af251ff4c1dad6ff659e522143e": {
      "model_module": "@jupyter-widgets/controls",
      "model_module_version": "1.5.0",
      "model_name": "ProgressStyleModel",
      "state": {
       "_model_module": "@jupyter-widgets/controls",
       "_model_module_version": "1.5.0",
       "_model_name": "ProgressStyleModel",
       "_view_count": null,
       "_view_module": "@jupyter-widgets/base",
       "_view_module_version": "1.2.0",
       "_view_name": "StyleView",
       "bar_color": null,
       "description_width": ""
      }
     },
     "e363857b33434777b9e84115caec7fe3": {
      "model_module": "@jupyter-widgets/base",
      "model_module_version": "1.2.0",
      "model_name": "LayoutModel",
      "state": {
       "_model_module": "@jupyter-widgets/base",
       "_model_module_version": "1.2.0",
       "_model_name": "LayoutModel",
       "_view_count": null,
       "_view_module": "@jupyter-widgets/base",
       "_view_module_version": "1.2.0",
       "_view_name": "LayoutView",
       "align_content": null,
       "align_items": null,
       "align_self": null,
       "border": null,
       "bottom": null,
       "display": null,
       "flex": null,
       "flex_flow": null,
       "grid_area": null,
       "grid_auto_columns": null,
       "grid_auto_flow": null,
       "grid_auto_rows": null,
       "grid_column": null,
       "grid_gap": null,
       "grid_row": null,
       "grid_template_areas": null,
       "grid_template_columns": null,
       "grid_template_rows": null,
       "height": null,
       "justify_content": null,
       "justify_items": null,
       "left": null,
       "margin": null,
       "max_height": null,
       "max_width": null,
       "min_height": null,
       "min_width": null,
       "object_fit": null,
       "object_position": null,
       "order": null,
       "overflow": null,
       "overflow_x": null,
       "overflow_y": null,
       "padding": null,
       "right": null,
       "top": null,
       "visibility": null,
       "width": null
      }
     },
     "e3842cb9df30489ea0a27d5e8f7ea8f1": {
      "model_module": "@jupyter-widgets/controls",
      "model_module_version": "1.5.0",
      "model_name": "HTMLModel",
      "state": {
       "_dom_classes": [],
       "_model_module": "@jupyter-widgets/controls",
       "_model_module_version": "1.5.0",
       "_model_name": "HTMLModel",
       "_view_count": null,
       "_view_module": "@jupyter-widgets/controls",
       "_view_module_version": "1.5.0",
       "_view_name": "HTMLView",
       "description": "",
       "description_tooltip": null,
       "layout": "IPY_MODEL_e363857b33434777b9e84115caec7fe3",
       "placeholder": "​",
       "style": "IPY_MODEL_dfdd8502ce314c2d8a6d2ba04b34f304",
       "value": "Downloading config.json: 100%"
      }
     },
     "eb3f01670d3c483f9111aa755771fed1": {
      "model_module": "@jupyter-widgets/base",
      "model_module_version": "1.2.0",
      "model_name": "LayoutModel",
      "state": {
       "_model_module": "@jupyter-widgets/base",
       "_model_module_version": "1.2.0",
       "_model_name": "LayoutModel",
       "_view_count": null,
       "_view_module": "@jupyter-widgets/base",
       "_view_module_version": "1.2.0",
       "_view_name": "LayoutView",
       "align_content": null,
       "align_items": null,
       "align_self": null,
       "border": null,
       "bottom": null,
       "display": null,
       "flex": "2",
       "flex_flow": null,
       "grid_area": null,
       "grid_auto_columns": null,
       "grid_auto_flow": null,
       "grid_auto_rows": null,
       "grid_column": null,
       "grid_gap": null,
       "grid_row": null,
       "grid_template_areas": null,
       "grid_template_columns": null,
       "grid_template_rows": null,
       "height": null,
       "justify_content": null,
       "justify_items": null,
       "left": null,
       "margin": null,
       "max_height": null,
       "max_width": null,
       "min_height": null,
       "min_width": null,
       "object_fit": null,
       "object_position": null,
       "order": null,
       "overflow": null,
       "overflow_x": null,
       "overflow_y": null,
       "padding": null,
       "right": null,
       "top": null,
       "visibility": null,
       "width": null
      }
     },
     "ed0ea13e33b74e80ae741fc05a0b0848": {
      "model_module": "@jupyter-widgets/controls",
      "model_module_version": "1.5.0",
      "model_name": "DescriptionStyleModel",
      "state": {
       "_model_module": "@jupyter-widgets/controls",
       "_model_module_version": "1.5.0",
       "_model_name": "DescriptionStyleModel",
       "_view_count": null,
       "_view_module": "@jupyter-widgets/base",
       "_view_module_version": "1.2.0",
       "_view_name": "StyleView",
       "description_width": ""
      }
     },
     "ee7df2a57c6a4a86b766eb978d84c192": {
      "model_module": "@jupyter-widgets/base",
      "model_module_version": "1.2.0",
      "model_name": "LayoutModel",
      "state": {
       "_model_module": "@jupyter-widgets/base",
       "_model_module_version": "1.2.0",
       "_model_name": "LayoutModel",
       "_view_count": null,
       "_view_module": "@jupyter-widgets/base",
       "_view_module_version": "1.2.0",
       "_view_name": "LayoutView",
       "align_content": null,
       "align_items": null,
       "align_self": null,
       "border": null,
       "bottom": null,
       "display": null,
       "flex": null,
       "flex_flow": null,
       "grid_area": null,
       "grid_auto_columns": null,
       "grid_auto_flow": null,
       "grid_auto_rows": null,
       "grid_column": null,
       "grid_gap": null,
       "grid_row": null,
       "grid_template_areas": null,
       "grid_template_columns": null,
       "grid_template_rows": null,
       "height": null,
       "justify_content": null,
       "justify_items": null,
       "left": null,
       "margin": null,
       "max_height": null,
       "max_width": null,
       "min_height": null,
       "min_width": null,
       "object_fit": null,
       "object_position": null,
       "order": null,
       "overflow": null,
       "overflow_x": null,
       "overflow_y": null,
       "padding": null,
       "right": null,
       "top": null,
       "visibility": null,
       "width": null
      }
     },
     "ef5c24abc29b43c5a78f9bf8f4ee22ef": {
      "model_module": "@jupyter-widgets/controls",
      "model_module_version": "1.5.0",
      "model_name": "FloatProgressModel",
      "state": {
       "_dom_classes": [],
       "_model_module": "@jupyter-widgets/controls",
       "_model_module_version": "1.5.0",
       "_model_name": "FloatProgressModel",
       "_view_count": null,
       "_view_module": "@jupyter-widgets/controls",
       "_view_module_version": "1.5.0",
       "_view_name": "ProgressView",
       "bar_style": "",
       "description": "",
       "description_tooltip": null,
       "layout": "IPY_MODEL_9ebaa4fb40814ca9bdde3ed9ad28151a",
       "max": 136.0,
       "min": 0.0,
       "orientation": "horizontal",
       "style": "IPY_MODEL_d4992cc305a74ee68453298b1221e2b7",
       "value": 136.0
      }
     },
     "f1c401da20134b799bba0f0301a85955": {
      "model_module": "@jupyter-widgets/controls",
      "model_module_version": "1.5.0",
      "model_name": "DescriptionStyleModel",
      "state": {
       "_model_module": "@jupyter-widgets/controls",
       "_model_module_version": "1.5.0",
       "_model_name": "DescriptionStyleModel",
       "_view_count": null,
       "_view_module": "@jupyter-widgets/base",
       "_view_module_version": "1.2.0",
       "_view_name": "StyleView",
       "description_width": ""
      }
     },
     "f4c856fbef9641e288189c28155b3be6": {
      "model_module": "@jupyter-widgets/base",
      "model_module_version": "1.2.0",
      "model_name": "LayoutModel",
      "state": {
       "_model_module": "@jupyter-widgets/base",
       "_model_module_version": "1.2.0",
       "_model_name": "LayoutModel",
       "_view_count": null,
       "_view_module": "@jupyter-widgets/base",
       "_view_module_version": "1.2.0",
       "_view_name": "LayoutView",
       "align_content": null,
       "align_items": null,
       "align_self": null,
       "border": null,
       "bottom": null,
       "display": null,
       "flex": null,
       "flex_flow": null,
       "grid_area": null,
       "grid_auto_columns": null,
       "grid_auto_flow": null,
       "grid_auto_rows": null,
       "grid_column": null,
       "grid_gap": null,
       "grid_row": null,
       "grid_template_areas": null,
       "grid_template_columns": null,
       "grid_template_rows": null,
       "height": null,
       "justify_content": null,
       "justify_items": null,
       "left": null,
       "margin": null,
       "max_height": null,
       "max_width": null,
       "min_height": null,
       "min_width": null,
       "object_fit": null,
       "object_position": null,
       "order": null,
       "overflow": null,
       "overflow_x": null,
       "overflow_y": null,
       "padding": null,
       "right": null,
       "top": null,
       "visibility": null,
       "width": null
      }
     },
     "f630442f745f424ea795ce1f71a55340": {
      "model_module": "@jupyter-widgets/base",
      "model_module_version": "1.2.0",
      "model_name": "LayoutModel",
      "state": {
       "_model_module": "@jupyter-widgets/base",
       "_model_module_version": "1.2.0",
       "_model_name": "LayoutModel",
       "_view_count": null,
       "_view_module": "@jupyter-widgets/base",
       "_view_module_version": "1.2.0",
       "_view_name": "LayoutView",
       "align_content": null,
       "align_items": null,
       "align_self": null,
       "border": null,
       "bottom": null,
       "display": "inline-flex",
       "flex": null,
       "flex_flow": "row wrap",
       "grid_area": null,
       "grid_auto_columns": null,
       "grid_auto_flow": null,
       "grid_auto_rows": null,
       "grid_column": null,
       "grid_gap": null,
       "grid_row": null,
       "grid_template_areas": null,
       "grid_template_columns": null,
       "grid_template_rows": null,
       "height": null,
       "justify_content": null,
       "justify_items": null,
       "left": null,
       "margin": null,
       "max_height": null,
       "max_width": null,
       "min_height": null,
       "min_width": null,
       "object_fit": null,
       "object_position": null,
       "order": null,
       "overflow": null,
       "overflow_x": null,
       "overflow_y": null,
       "padding": null,
       "right": null,
       "top": null,
       "visibility": "hidden",
       "width": "100%"
      }
     },
     "f7f91d3b4c1f40e09d3f6393a0a708d5": {
      "model_module": "@jupyter-widgets/controls",
      "model_module_version": "1.5.0",
      "model_name": "FloatProgressModel",
      "state": {
       "_dom_classes": [],
       "_model_module": "@jupyter-widgets/controls",
       "_model_module_version": "1.5.0",
       "_model_name": "FloatProgressModel",
       "_view_count": null,
       "_view_module": "@jupyter-widgets/controls",
       "_view_module_version": "1.5.0",
       "_view_name": "ProgressView",
       "bar_style": "success",
       "description": "",
       "description_tooltip": null,
       "layout": "IPY_MODEL_022885ef1b9048c58c6276ded442b6b3",
       "max": 631.0,
       "min": 0.0,
       "orientation": "horizontal",
       "style": "IPY_MODEL_511d1e96734440f4bb1e171b532e86b2",
       "value": 631.0
      }
     },
     "f81fc835dd674f68ac018eabbd7a9d2e": {
      "model_module": "@jupyter-widgets/controls",
      "model_module_version": "1.5.0",
      "model_name": "HBoxModel",
      "state": {
       "_dom_classes": [],
       "_model_module": "@jupyter-widgets/controls",
       "_model_module_version": "1.5.0",
       "_model_name": "HBoxModel",
       "_view_count": null,
       "_view_module": "@jupyter-widgets/controls",
       "_view_module_version": "1.5.0",
       "_view_name": "HBoxView",
       "box_style": "",
       "children": [
        "IPY_MODEL_a1165a3591d9482c803b39e1fa5135eb",
        "IPY_MODEL_660aa1c8d3c94b98aafff56c1af4271e",
        "IPY_MODEL_0ee95da4dfcf433b9944662daab34a04"
       ],
       "layout": "IPY_MODEL_71714f4b95da4d9abb225722261c6277"
      }
     },
     "f8981d9c593348399ed9aeca6b12a335": {
      "model_module": "@jupyter-widgets/controls",
      "model_module_version": "1.5.0",
      "model_name": "DescriptionStyleModel",
      "state": {
       "_model_module": "@jupyter-widgets/controls",
       "_model_module_version": "1.5.0",
       "_model_name": "DescriptionStyleModel",
       "_view_count": null,
       "_view_module": "@jupyter-widgets/base",
       "_view_module_version": "1.2.0",
       "_view_name": "StyleView",
       "description_width": ""
      }
     },
     "fcf01047dbfc42fd8235dcded45bca57": {
      "model_module": "@jupyter-widgets/controls",
      "model_module_version": "1.5.0",
      "model_name": "DescriptionStyleModel",
      "state": {
       "_model_module": "@jupyter-widgets/controls",
       "_model_module_version": "1.5.0",
       "_model_name": "DescriptionStyleModel",
       "_view_count": null,
       "_view_module": "@jupyter-widgets/base",
       "_view_module_version": "1.2.0",
       "_view_name": "StyleView",
       "description_width": ""
      }
     }
    },
    "version_major": 2,
    "version_minor": 0
   }
  }
 },
 "nbformat": 4,
 "nbformat_minor": 5
}
